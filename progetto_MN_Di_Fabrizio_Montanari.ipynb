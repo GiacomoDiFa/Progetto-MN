{
  "cells": [
    {
      "cell_type": "markdown",
      "metadata": {
        "id": "view-in-github",
        "colab_type": "text"
      },
      "source": [
        "<a href=\"https://colab.research.google.com/github/GiacomoDiFa/Progetto-MN/blob/main/progetto_MN_Di_Fabrizio_Montanari.ipynb\" target=\"_parent\"><img src=\"https://colab.research.google.com/assets/colab-badge.svg\" alt=\"Open In Colab\"/></a>"
      ]
    },
    {
      "cell_type": "code",
      "execution_count": 1,
      "metadata": {
        "id": "3fe94688"
      },
      "outputs": [],
      "source": [
        "%matplotlib inline\n",
        "import numpy as np\n",
        "import matplotlib.pyplot as plt\n",
        "import scipy.linalg\n",
        "import scipy.integrate"
      ],
      "id": "3fe94688"
    },
    {
      "cell_type": "markdown",
      "metadata": {
        "id": "405cafef"
      },
      "source": [
        "Compile the following notebook and share a link with me sending and e-mail to giovanni.stabile@uniurb.it at least one week before the oral examination. All the implemented function will have to be properly documented and commented."
      ],
      "id": "405cafef"
    },
    {
      "cell_type": "markdown",
      "metadata": {
        "id": "9d175179"
      },
      "source": [
        "Compile The following Cell with your information. In case it is a group project, put the info for all the group members\n",
        "\n",
        "Name1: Giacomo \\\n",
        "Surname1: Di Fabrizio\\\n",
        "Email1: \n",
        "\n",
        "Name2: Matteo Marco\\\n",
        "Surname2: Montanari\\\n",
        "Email2: "
      ],
      "id": "9d175179"
    },
    {
      "cell_type": "markdown",
      "metadata": {
        "id": "8184faab"
      },
      "source": [
        "Consider the following one-dimensional PDE:\n",
        "$$\n",
        "-u_{xx}(x) = f(x)\\quad\\mathrm{ in }\\ \\Omega = (0, \\pi)\n",
        "$$\n",
        "$$\n",
        "u(x) = 0, \\quad\\mathrm{ on }\\ \\partial\\Omega = \\{0, \\pi\\}\n",
        "$$\n",
        "\n",
        "Given the following $4^{th}$ order finite difference approximation of the second order derivative:\n",
        "\n",
        "$$u_{xx}(x_i) = \\frac{-u_{i-2}+16u_{i-1}-30u_i+16u_{i+1}-u_{i+2}}{12h^2}$$\n",
        "\n",
        "Implement a function that given the domain interval, the forcing function, the number of discretization points, the boundary conditions, returns the matrix $A$ and the the right hand side $b$."
      ],
      "id": "8184faab"
    },
    {
      "cell_type": "markdown",
      "metadata": {
        "id": "eCywEggtnvU7"
      },
      "source": [
        "# Mathematical Background"
      ],
      "id": "eCywEggtnvU7"
    },
    {
      "cell_type": "markdown",
      "metadata": {
        "id": "msxJQdVFnvU7"
      },
      "source": [
        "The physical interpretation of this problem is related to the modelling of an elastic string, which occupies at rest the space $[0, \\pi]$ and is fixed at the two extremes. The unknown $u(x)$ represents the displacement of the string at the point $x$, and the right-hand side models a prescribed force $f(x)$ on the string.\n",
        "\n",
        "For the numerical discretization of the problem, we consider a **Finite Difference (FD) Approximation**. Let $n$ be an integer, a consider a uniform subdivision of the interval $(0,\\pi)$ using $n$ equispaced points, denoted by $\\{x_i\\}_{i=0}^n$ . Moreover, let $u_i$ be the FD approximation of $u(x_i)$, and similarly $f_i \\approx f(x_i)$.\n",
        "\n",
        "In order to formulate the discrete problem, we consider a FD approximation of the left-hand side, as follows ($4^{th}$ order finite difference approximation of the second order derivative):\n",
        "\n",
        "$$u_{xx}(x_i) = \\frac{-u_{i-2}+16u_{i-1}-30u_i+16u_{i+1}-u_{i+2}}{12h^2}$$\n",
        "\n",
        "The problem that we need to solve is\n",
        "\n",
        "$$\n",
        "u_i = 0 \\qquad\\qquad\\qquad\\qquad\\qquad i=0,\n",
        "$$\n",
        "\n",
        "$$\n",
        "\\frac{-u_{i-2}+16u_{i-1}-30u_i+16u_{i+1}-u_{i+2}}{12h^2} = - f_i \\qquad\\qquad\\qquad  i=1, \\ldots, n-1,\\qquad\\qquad\\qquad(P)\n",
        "$$\n",
        "\n",
        "$$\n",
        "u_i = 0 \\qquad\\qquad\\qquad\\qquad\\qquad i=n.\n",
        "$$\n",
        "\n",
        "Then, let us collect al the unknowns $\\{u_i\\}_{i=0}^n$ in a vector $\\mathbf{u}$. Then, (P) is a linear system\n",
        "$$\n",
        "A \\mathbf{u} = \\mathbf{f}.\n",
        "$$"
      ],
      "id": "msxJQdVFnvU7"
    },
    {
      "cell_type": "code",
      "execution_count": 2,
      "metadata": {
        "id": "1c562f13"
      },
      "outputs": [],
      "source": [
        "# 4th order finite difference scheme\n",
        "def finDif(omega, f, n, bc):\n",
        "    \n",
        "    assert n > 4, \"n must be greater than 4!\"\n",
        "    assert omega[0] < omega[1], \"Discretization interval is not correct!\" \n",
        "    \n",
        "    # d(x, y) = | x - y |\n",
        "    h = np.abs(omega[0] - omega[1]) / (n - 1)\n",
        "        \n",
        "    x = np.linspace(0, 1, n)    \n",
        "    \n",
        "    termine_noto = -f(x)\n",
        "    termine_noto[0] = bc[0]\n",
        "    termine_noto[-1] = bc[1]\n",
        "\n",
        "    # create discretization matrix A\n",
        "    A = np.zeros((n, n))\n",
        "  \n",
        "    a = -np.ones((n-2, )) \n",
        "    b = 16*np.ones((n-1, ))\n",
        "    c = -30*np.ones((n, ))\n",
        "\n",
        "    A = (np.diag(a, -2) + np.diag(a, +2) + np.diag(b, -1) + np.diag(b, +1) + np.diag(c, 0))\n",
        "\n",
        "    A /= (12*h**2)\n",
        "    \n",
        "    A[0, :] = np.zeros(n)\n",
        "    A[1, :] = np.zeros(n)\n",
        "\n",
        "    A[n-1, :] = np.zeros(n)\n",
        "    A[n-2, :] = np.zeros(n)\n",
        "\n",
        "    A_second_row = np.array([-1.0, 2.0, -1.0]) / (h**2)\n",
        "    A_second_last_row = np.array([-1.0, 2.0, -1.0]) / (h**2)\n",
        "    \n",
        "    A[1, 0:3] = A_second_row\n",
        "    A[n-2, n-3:n] = A_second_last_row\n",
        "  \n",
        "    A[0, 0] = 1\n",
        "    A[-1, -1] = 1\n",
        "\n",
        "    return A, termine_noto"
      ],
      "id": "1c562f13"
    },
    {
      "cell_type": "code",
      "execution_count": 3,
      "metadata": {
        "id": "iscHpCM1oDQ_",
        "colab": {
          "base_uri": "https://localhost:8080/"
        },
        "outputId": "02c0892d-5acd-4411-a1d5-e12cc2b61c7c"
      },
      "outputs": [
        {
          "output_type": "stream",
          "name": "stdout",
          "text": [
            "A =\n",
            "[[ 1.          0.          0.          0.          0.        ]\n",
            " [-1.62113894  3.24227788 -1.62113894  0.          0.        ]\n",
            " [-0.13509491  2.16151858 -4.05284735  2.16151858 -0.13509491]\n",
            " [ 0.          0.         -1.62113894  3.24227788 -1.62113894]\n",
            " [ 0.          0.          0.          0.          1.        ]]\n"
          ]
        }
      ],
      "source": [
        "omega = [0, np.pi]\n",
        "f = lambda x : np.sin(x)\n",
        "n = 5\n",
        "bc = [0, 0]\n",
        "A, b = finDif(omega, f, n, bc)\n",
        "print(\"A =\")\n",
        "print(A)"
      ],
      "id": "iscHpCM1oDQ_"
    },
    {
      "cell_type": "markdown",
      "metadata": {
        "id": "4f8a7c6f"
      },
      "source": [
        "Implement two functions that compute the LU and the Cholesky factorization of the system matrix $A$"
      ],
      "id": "4f8a7c6f"
    },
    {
      "cell_type": "code",
      "execution_count": 4,
      "metadata": {
        "id": "47468a37"
      },
      "outputs": [],
      "source": [
        "def LU(A):\n",
        "    A = A.copy()\n",
        "    N=len(A)\n",
        "    for k in range(N-1):\n",
        "        if (abs(A[k,k]) < 1e-15):\n",
        "            raise RuntimeError(\"Null pivot\")\n",
        "            \n",
        "        A[k+1:N,k] /= A[k,k]\n",
        "        for j in range(k+1,N):\n",
        "            A[k+1:N,j] -= A[k+1:N,k]*A[k,j]\n",
        "    \n",
        "    L=np.tril(A)\n",
        "    for i in range(N):\n",
        "        L[i,i]=1.0\n",
        "    U = np.triu(A)\n",
        "    return L, U"
      ],
      "id": "47468a37"
    },
    {
      "cell_type": "code",
      "execution_count": 5,
      "metadata": {
        "id": "193ebfed"
      },
      "outputs": [],
      "source": [
        "def cholesky(A):\n",
        "    A = A.copy()\n",
        "    N = len(A)\n",
        "    for k in range(N-1):\n",
        "        A[k,k] = np.sqrt(A[k,k])\n",
        "        A[k+1:N,k] = A[k+1:N,k]/A[k,k]\n",
        "        \n",
        "        for j in range(k+1,N):\n",
        "            A[j:N,j] = A[j:N,j] - A[j:N,k]*A[j,k]\n",
        "        \n",
        "    A[-1,-1] = np.sqrt(A[-1,-1])\n",
        "    L=np.tril(A)\n",
        "    return L, L.transpose()"
      ],
      "id": "193ebfed"
    },
    {
      "cell_type": "markdown",
      "metadata": {
        "id": "41eb8436"
      },
      "source": [
        "Implement forward and backward substitution functions to exploit the developed factorization methods to solve the derived linear system of equations."
      ],
      "id": "41eb8436"
    },
    {
      "cell_type": "code",
      "execution_count": 6,
      "metadata": {
        "id": "019cf0df"
      },
      "outputs": [],
      "source": [
        "def L_solve(L,rhs):\n",
        "    x = np.zeros_like(rhs)\n",
        "    N = len(L)\n",
        "        \n",
        "    x[0] = rhs[0]/L[0,0]\n",
        "    \n",
        "    for i in range(1,N):\n",
        "        x[i] = (rhs[i] - np.dot(L[i, 0:i], x[0:i]))/L[i,i]\n",
        "    \n",
        "    return x"
      ],
      "id": "019cf0df"
    },
    {
      "cell_type": "code",
      "execution_count": 7,
      "metadata": {
        "id": "26ce17c4"
      },
      "outputs": [],
      "source": [
        "def U_solve(U,rhs):\n",
        "    x = np.zeros_like(rhs)\n",
        "    N = len(U)\n",
        "              \n",
        "    x[-1] = rhs[-1]/U[-1,-1]\n",
        "    \n",
        "    for i in reversed(range(N-1)):\n",
        "        x[i] = (rhs[i] -np.dot(U[i, i+1:N], x[i+1:N]))/U[i,i]\n",
        "    \n",
        "    return x"
      ],
      "id": "26ce17c4"
    },
    {
      "cell_type": "markdown",
      "metadata": {
        "id": "08ac9ba1"
      },
      "source": [
        "Solve the derived linear system using the implemented functions and plot the computed solution:"
      ],
      "id": "08ac9ba1"
    },
    {
      "cell_type": "code",
      "execution_count": 8,
      "metadata": {
        "colab": {
          "base_uri": "https://localhost:8080/",
          "height": 430
        },
        "id": "7c1de4f3",
        "outputId": "be875c8f-4644-4c93-e1e2-2b94120e206f"
      },
      "outputs": [
        {
          "output_type": "display_data",
          "data": {
            "text/plain": [
              "<Figure size 640x480 with 1 Axes>"
            ],
            "image/png": "[encoded data removed]"
          },
          "metadata": {}
        }
      ],
      "source": [
        "omega = [0, np.pi]\n",
        "f = lambda x : np.sin(x)\n",
        "n = 500\n",
        "bc = [0, 0]\n",
        "A, b = finDif(omega, f, n, bc)\n",
        "x = np.linspace(0, np.pi, n)\n",
        "L, U = LU(A)\n",
        "w = L_solve(L, b)\n",
        "u = U_solve(U, w)\n",
        "\n",
        "_ = plt.plot(x, u, 'ro')"
      ],
      "id": "7c1de4f3"
    },
    {
      "cell_type": "markdown",
      "metadata": {
        "id": "62cdfe65"
      },
      "source": [
        "Considering the new domain $\\Omega = (0,1)$ and the forcing term $f(x) = x(1-x)$ with B.C. $u(x) = 0$, on $\\partial \\Omega = \\{0,1\\}$ produce a plot and a table where you show the decay of the error w.r.t. the number of grid points.\n",
        "(The analytical solution for the above problems is $u_{an} = \\frac{x^4}{12} - \\frac{x^3}{6} + \\frac{x}{12}$)"
      ],
      "id": "62cdfe65"
    },
    {
      "cell_type": "code",
      "execution_count": 9,
      "metadata": {
        "colab": {
          "base_uri": "https://localhost:8080/",
          "height": 430
        },
        "id": "91212afb",
        "outputId": "9d56d149-3afb-4713-9d80-72e5880fc706"
      },
      "outputs": [
        {
          "output_type": "display_data",
          "data": {
            "text/plain": [
              "<Figure size 640x480 with 1 Axes>"
            ],
            "image/png": "[encoded data removed]"
          },
          "metadata": {}
        }
      ],
      "source": [
        "omega_new = [0, 1]\n",
        "n_new = 100\n",
        "x_new = np.linspace(0, 1, n_new)\n",
        "f_new = lambda x_new : x_new*(1 - x_new)\n",
        "bc_new = [0, 0]\n",
        "A_new, b_new = finDif(omega_new, f_new, n_new, bc_new)\n",
        "A1_new = A_new.copy()\n",
        "u_new = np.linalg.solve(A1_new, b_new) \n",
        "\n",
        "u_ex = (x_new**4)/12.0 - (x_new**3)/6.0 + x_new/12.0\n",
        "\n",
        "# Plot the FD and exact solution\n",
        "_ = plt.plot(x_new, u_new, 'ro')\n",
        "_ = plt.plot(x_new, u_ex)"
      ],
      "id": "91212afb"
    },
    {
      "cell_type": "code",
      "execution_count": 10,
      "metadata": {
        "colab": {
          "base_uri": "https://localhost:8080/"
        },
        "id": "dEtJnRFLnvVA",
        "outputId": "78671dcc-dfc6-4b7b-fb5f-6dbcdb9cb773"
      },
      "outputs": [
        {
          "output_type": "stream",
          "name": "stdout",
          "text": [
            "2.3388862814248566e-05\n"
          ]
        }
      ],
      "source": [
        "# table where you show the decay of the error w.r.t. the number of grid points\n",
        "print(np.linalg.norm(u_ex - u_new, 2))"
      ],
      "id": "dEtJnRFLnvVA"
    },
    {
      "cell_type": "code",
      "execution_count": 11,
      "metadata": {
        "colab": {
          "base_uri": "https://localhost:8080/",
          "height": 447
        },
        "id": "GT-osuD1nvVA",
        "outputId": "4399f223-29df-497d-9397-6d8d808e8eca"
      },
      "outputs": [
        {
          "output_type": "execute_result",
          "data": {
            "text/plain": [
              "[<matplotlib.lines.Line2D at 0x7f52512820b0>]"
            ]
          },
          "metadata": {},
          "execution_count": 11
        },
        {
          "output_type": "display_data",
          "data": {
            "text/plain": [
              "<Figure size 640x480 with 1 Axes>"
            ],
            "image/png": "[encoded data removed]"
          },
          "metadata": {}
        }
      ],
      "source": [
        "omega_new = [0, 1]\n",
        "bc_new = [0, 0]\n",
        "\n",
        "error = []\n",
        "n_points = np.array([x for x in range(10, 101)])\n",
        "\n",
        "for j in n_points:\n",
        "    x_new = np.linspace(0, 1, j)\n",
        "    f_new = lambda x_new : x_new*(1 - x_new)\n",
        "    u_ex = (x_new**4)/12.0 - (x_new**3)/6.0 + x_new/12.0\n",
        "\n",
        "    A_new, b_new = finDif(omega_new, f_new, j, bc_new)\n",
        "    A1_new = A_new.copy()\n",
        "    u_new = np.linalg.solve(A1_new, b_new) \n",
        "    \n",
        "    error.append(np.linalg.norm(u_ex - u_new, 2))\n",
        "    \n",
        "plt.plot(n_points, error)"
      ],
      "id": "GT-osuD1nvVA"
    },
    {
      "cell_type": "code",
      "execution_count": 12,
      "metadata": {
        "colab": {
          "base_uri": "https://localhost:8080/"
        },
        "id": "YJ9oxuR4nvVB",
        "outputId": "b73bcbd3-66a0-4673-8137-0e37878e900e"
      },
      "outputs": [
        {
          "output_type": "execute_result",
          "data": {
            "text/plain": [
              "{10: 0.007772999668146033,\n",
              " 11: 0.006105623346817107,\n",
              " 12: 0.004897181708718345,\n",
              " 13: 0.003997793144152499,\n",
              " 14: 0.0033131111752743186,\n",
              " 15: 0.002781637039242217,\n",
              " 16: 0.0023620525901975526,\n",
              " 17: 0.0020258560136231295,\n",
              " 18: 0.0017529253036562427,\n",
              " 19: 0.0015287601683104048,\n",
              " 20: 0.0013427188575327491,\n",
              " 21: 0.0011868626029950208,\n",
              " 22: 0.0010551811788507644,\n",
              " 23: 0.0009430633336482032,\n",
              " 24: 0.0008469280079351693,\n",
              " 25: 0.0007639632286492956,\n",
              " 26: 0.0006919384218358439,\n",
              " 27: 0.0006290676150871532,\n",
              " 28: 0.0005739084509371638,\n",
              " 29: 0.0005252867535405623,\n",
              " 30: 0.0004822395651361836,\n",
              " 31: 0.0004439716925776177,\n",
              " 32: 0.00040982224605802845,\n",
              " 33: 0.0003792386450684837,\n",
              " 34: 0.0003517562584495953,\n",
              " 35: 0.0003269823342781275,\n",
              " 36: 0.000304583223619407,\n",
              " 37: 0.00028427415365950634,\n",
              " 38: 0.00026581098897695724,\n",
              " 39: 0.00024898355400228793,\n",
              " 40: 0.00023361018998267757,\n",
              " 41: 0.00021953329385579953,\n",
              " 42: 0.00020661564330137972,\n",
              " 43: 0.00019473735445336103,\n",
              " 44: 0.00018379335170209447,\n",
              " 45: 0.00017369125406061476,\n",
              " 46: 0.00016434960206761594,\n",
              " 47: 0.00015569636430143492,\n",
              " 48: 0.0001476676747304493,\n",
              " 49: 0.00014020676111493047,\n",
              " 50: 0.0001332630324407503,\n",
              " 51: 0.0001267912992273859,\n",
              " 52: 0.00012075110497893106,\n",
              " 53: 0.00011510615149098324,\n",
              " 54: 0.00010982380300137786,\n",
              " 55: 0.0001048746575292837,\n",
              " 56: 0.00010023217485242389,\n",
              " 57: 9.587235309943239e-05,\n",
              " 58: 9.177344690878048e-05,\n",
              " 59: 8.791572081130595e-05,\n",
              " 60: 8.428123348590033e-05,\n",
              " 61: 8.085364807343993e-05,\n",
              " 62: 7.761806525334823e-05,\n",
              " 63: 7.45608763930206e-05,\n",
              " 64: 7.166963320954954e-05,\n",
              " 65: 6.893293275827423e-05,\n",
              " 66: 6.634031526083616e-05,\n",
              " 67: 6.388217332547361e-05,\n",
              " 68: 6.154967090707704e-05,\n",
              " 69: 5.9334671387916635e-05,\n",
              " 70: 5.7229672943840596e-05,\n",
              " 71: 5.522775085338229e-05,\n",
              " 72: 5.332250584193847e-05,\n",
              " 73: 5.150801744966792e-05,\n",
              " 74: 4.977880251045477e-05,\n",
              " 75: 4.812977720931218e-05,\n",
              " 76: 4.6556223315042774e-05,\n",
              " 77: 4.505375759292977e-05,\n",
              " 78: 4.3618303893264395e-05,\n",
              " 79: 4.2246068025737585e-05,\n",
              " 80: 4.09335152312191e-05,\n",
              " 81: 3.967734920874262e-05,\n",
              " 82: 3.8474493527566014e-05,\n",
              " 83: 3.732207443739862e-05,\n",
              " 84: 3.621740525253356e-05,\n",
              " 85: 3.5157971996527715e-05,\n",
              " 86: 3.414142086616072e-05,\n",
              " 87: 3.31655458131222e-05,\n",
              " 88: 3.2228278013527303e-05,\n",
              " 89: 3.132767579738631e-05,\n",
              " 90: 3.0461915651556366e-05,\n",
              " 91: 2.9629283212937694e-05,\n",
              " 92: 2.8828166644780168e-05,\n",
              " 93: 2.8057048717946797e-05,\n",
              " 94: 2.731450047369742e-05,\n",
              " 95: 2.6599175328960992e-05,\n",
              " 96: 2.5909803463174748e-05,\n",
              " 97: 2.5245186641897863e-05,\n",
              " 98: 2.460419365958671e-05,\n",
              " 99: 2.398575576790692e-05,\n",
              " 100: 2.3388862814248566e-05}"
            ]
          },
          "metadata": {},
          "execution_count": 12
        }
      ],
      "source": [
        "# NB python dictionaries\n",
        "tab = {n : e for n, e in zip(n_points, error)}\n",
        "tab"
      ],
      "id": "YJ9oxuR4nvVB"
    },
    {
      "cell_type": "markdown",
      "metadata": {
        "id": "c8d5002f"
      },
      "source": [
        "Exploit the derived LU factorizations to compute the determinant of the system's matrix $A$ using the original problem formulation."
      ],
      "id": "c8d5002f"
    },
    {
      "cell_type": "code",
      "execution_count": 13,
      "metadata": {
        "colab": {
          "base_uri": "https://localhost:8080/"
        },
        "id": "A34ityJaYypS",
        "outputId": "494d7019-f46f-4e78-c362-4b0d6d6878ea"
      },
      "outputs": [
        {
          "output_type": "stream",
          "name": "stdout",
          "text": [
            "inf\n",
            "inf\n"
          ]
        },
        {
          "output_type": "stream",
          "name": "stderr",
          "text": [
            "<ipython-input-13-844bdda38043>:7: RuntimeWarning: overflow encountered in double_scalars\n",
            "  determinant *= U[i, i]\n",
            "/usr/local/lib/python3.10/dist-packages/numpy/linalg/linalg.py:2146: RuntimeWarning: overflow encountered in det\n",
            "  r = _umath_linalg.det(a, signature=signature)\n"
          ]
        }
      ],
      "source": [
        "def determinant(A):\n",
        "    L, U = LU(A)\n",
        "    size = A.shape[0]\n",
        "    determinant = 1\n",
        "    \n",
        "    for i in range(size):\n",
        "        determinant *= U[i, i]\n",
        "\n",
        "    return determinant\n",
        "\n",
        "print(determinant(A))\n",
        "print(np.linalg.det(A))"
      ],
      "id": "A34ityJaYypS"
    },
    {
      "cell_type": "code",
      "execution_count": 14,
      "metadata": {
        "colab": {
          "base_uri": "https://localhost:8080/"
        },
        "id": "c25fc1fe",
        "outputId": "ee35a044-9a78-461d-f277-9ea2497f7ecf"
      },
      "outputs": [
        {
          "output_type": "execute_result",
          "data": {
            "text/plain": [
              "2130922.837967708"
            ]
          },
          "metadata": {},
          "execution_count": 14
        }
      ],
      "source": [
        "def condNumb(A):\n",
        "    condNu = np.linalg.cond(A)\n",
        "    return condNu\n",
        "\n",
        "condNumb(A)\n",
        "# forse si deve fare diversamente? Boohh che poi il prof si è confuso secondo me perchè chiedeva di calcolare il determinante\n",
        "# (vedi cella sopra) e non il numero di condizionamento"
      ],
      "id": "c25fc1fe"
    },
    {
      "cell_type": "code",
      "execution_count": 15,
      "metadata": {
        "colab": {
          "base_uri": "https://localhost:8080/"
        },
        "id": "Squ_XCyvnvVC",
        "outputId": "520d8411-37e7-4c00-f57e-20e7668ce9ee"
      },
      "outputs": [
        {
          "output_type": "stream",
          "name": "stdout",
          "text": [
            "2130922.837967708\n",
            "2130922.837889514\n"
          ]
        }
      ],
      "source": [
        "# ho trovato questa formula ma mi sa che non fa\n",
        "def condNum(A):\n",
        "    return np.linalg.norm(A,2) * np.linalg.norm(np.linalg.inv(A),2)\n",
        "\n",
        "#def condNumWithOurInverse(A):\n",
        "#  return np.linalg.norm(A,2) * np.linalg.norm(inverseMatrix(A),2)\n",
        "\n",
        "print(np.linalg.cond(A))\n",
        "print(condNum(A))\n",
        "#print(condNumWithOurInverse(A))"
      ],
      "id": "Squ_XCyvnvVC"
    },
    {
      "cell_type": "markdown",
      "metadata": {
        "id": "2728b49a"
      },
      "source": [
        "Implement a preconditioned Conjugant Gradient method to solve the original linear system of equations using an iterative method:"
      ],
      "id": "2728b49a"
    },
    {
      "cell_type": "code",
      "execution_count": 16,
      "metadata": {
        "colab": {
          "base_uri": "https://localhost:8080/",
          "height": 482
        },
        "id": "oeIfcvFUnvVC",
        "outputId": "273c8694-3ff3-42cc-a6a3-9438726267a5"
      },
      "outputs": [
        {
          "output_type": "stream",
          "name": "stdout",
          "text": [
            "500 2609.664909589068\n",
            "0.791275207765697\n"
          ]
        },
        {
          "output_type": "execute_result",
          "data": {
            "text/plain": [
              "<matplotlib.legend.Legend at 0x7f525123fa30>"
            ]
          },
          "metadata": {},
          "execution_count": 16
        },
        {
          "output_type": "display_data",
          "data": {
            "text/plain": [
              "<Figure size 640x480 with 1 Axes>"
            ],
            "image/png": "[encoded data removed]"
          },
          "metadata": {}
        }
      ],
      "source": [
        "def conjugate_gradient(A, b, P, nmax=len(A), eps=1e-10):\n",
        "    N=len(A)\n",
        "    x = np.zeros_like(b)\n",
        "    tol = eps + 1\n",
        "    it = 0\n",
        "    r = b - np.dot(A,x)\n",
        "    rho_old = 1.\n",
        "    p_old = np.zeros_like(b)\n",
        "    while (it < nmax and tol > eps):\n",
        "        it += 1\n",
        "        z = np.linalg.solve(P,r)\n",
        "        rho = np.dot(r,z)\n",
        "        if (it > 1):\n",
        "            beta = rho/rho_old\n",
        "            p = z + beta*p_old\n",
        "        else:\n",
        "            p = z\n",
        "        q = np.dot(A,p)\n",
        "        alpha = rho/(np.dot(p,q))\n",
        "        x += p*alpha\n",
        "        r -= q*alpha\n",
        "        \n",
        "        p_old = p\n",
        "        rho_old = rho\n",
        "        \n",
        "        tol = np.linalg.norm(r,2)\n",
        "        \n",
        "    print(it, tol)\n",
        "    return x\n",
        "sol_conjugate_gradient = conjugate_gradient(A, b, np.identity(len(A)))\n",
        "print(np.linalg.norm(sol_conjugate_gradient - u)/np.linalg.norm(u))\n",
        "#non so se torna, ho copiato i codici paro paro\n",
        "#forse non torna perchè la matrice fa cagare?\n",
        "x_newnew = np.linspace(0,np.pi,n)\n",
        "plt.plot(x_newnew,sol_conjugate_gradient, label='conjugate gradient')\n",
        "plt.plot(x_newnew,u, label='LU solution')\n",
        "plt.legend()"
      ],
      "id": "oeIfcvFUnvVC"
    },
    {
      "cell_type": "markdown",
      "metadata": {
        "id": "8a4cfc02"
      },
      "source": [
        "Consider the following time dependent variation of the PDE starting from the orginal problem formulation:\n",
        "$$\n",
        "u'(t)-u_{xx} = \\alpha(t)f(x)\n",
        "$$\n",
        "\n",
        "for $t\\in [0,T]$, with $\\alpha(t) = \\cos(t)$ and $T = 6\\pi$\n",
        "\n",
        "Use the same finite difference scheme to derive the semi-discrete formulation and solve it using a forward Euler's method.\n",
        "\n",
        "Plot the time dependent solution solution at $x = \\pi/2$, $x=1$, \n",
        "$x=\\pi$\n"
      ],
      "id": "8a4cfc02"
    },
    {
      "cell_type": "code",
      "execution_count": 17,
      "metadata": {
        "id": "3ffe0689"
      },
      "outputs": [],
      "source": [
        "#TODO"
      ],
      "id": "3ffe0689"
    },
    {
      "cell_type": "markdown",
      "metadata": {
        "id": "36936121"
      },
      "source": [
        "Given the original $Au = b$ system, implement an algorithm to compute the largest and smallest eigenvalues and the associated eigenvectors of the matrix $A$."
      ],
      "id": "36936121"
    },
    {
      "cell_type": "code",
      "execution_count": 18,
      "metadata": {
        "colab": {
          "base_uri": "https://localhost:8080/"
        },
        "id": "7haaqv7TnvVD",
        "outputId": "f561efb6-a96b-4e2b-ecaa-2b5afe28e5a7"
      },
      "outputs": [
        {
          "output_type": "stream",
          "name": "stdout",
          "text": [
            "error = 165.4806414975151 iterations = 500\n",
            "l_max = 134352.1425668034 \n",
            "x_max = [ 0.00000000e+00  1.82979819e-03  1.33891737e-02 -2.75297642e-02\n",
            "  4.14593598e-02 -5.49905748e-02  6.80013476e-02 -8.03745268e-02\n",
            "  9.20030920e-02 -1.02791488e-01  1.12656916e-01 -1.21530343e-01\n",
            "  1.29357228e-01 -1.36097947e-01  1.41727932e-01 -1.46237508e-01\n",
            "  1.49631473e-01 -1.51928402e-01  1.53159743e-01 -1.53368697e-01\n",
            "  1.52608943e-01 -1.50943235e-01  1.48441901e-01 -1.45181293e-01\n",
            "  1.41242225e-01 -1.36708422e-01  1.31665024e-01 -1.26197170e-01\n",
            "  1.20388688e-01 -1.14320902e-01  1.08071592e-01 -1.01714099e-01\n",
            "  9.53165834e-02 -8.89414550e-02  8.26449517e-02 -7.64768756e-02\n",
            "  7.04804698e-02 -6.46924288e-02  5.91430263e-02 -5.38563462e-02\n",
            "  4.88506011e-02 -4.41385218e-02  3.97278008e-02 -3.56215753e-02\n",
            "  3.18189344e-02 -2.83154367e-02  2.51036258e-02 -2.21735346e-02\n",
            "  1.95131678e-02 -1.71089555e-02  1.49461741e-02 -1.30093278e-02\n",
            "  1.12824898e-02 -9.74960211e-03  8.39473247e-03 -7.20229116e-03\n",
            "  6.15720786e-03 -5.24507198e-03  4.45223896e-03 -3.76590588e-03\n",
            "  3.17415987e-03 -2.66600274e-03  2.23135539e-03 -1.86104534e-03\n",
            "  1.54678060e-03 -1.28111274e-03  1.05739197e-03 -8.69716433e-04\n",
            "  7.12877970e-04 -5.82305990e-04  4.74011009e-04 -3.84529040e-04\n",
            "  3.10867784e-04 -2.50455374e-04  2.01092166e-04 -1.60905949e-04\n",
            "  1.28310768e-04 -1.01969424e-04  8.07596464e-05 -6.37438175e-05\n",
            "  5.01420987e-05 -3.93087477e-05  3.07113980e-05 -2.39130508e-05\n",
            "  1.85565266e-05 -1.43511240e-05  1.10612402e-05 -8.49672414e-06\n",
            "  6.50474159e-06 -4.96295584e-06  3.77384061e-06 -2.85996276e-06\n",
            "  2.16008946e-06 -1.62599214e-06  1.21983548e-06 -9.12054780e-07\n",
            "  6.79638726e-07 -5.04746705e-07  3.73600687e-07 -2.75601272e-07\n",
            "  2.02625778e-07 -1.48473386e-07  1.08428501e-07 -7.89186538e-08\n",
            "  5.72476528e-08 -4.13883294e-08  2.98222684e-08 -2.14163945e-08\n",
            "  1.53283449e-08 -1.09342170e-08  7.77363048e-09 -5.50812929e-09\n",
            "  3.88981197e-09 -2.73777366e-09  1.92048581e-09 -1.34267052e-09\n",
            "  9.35562334e-10 -6.49712240e-10  4.49691328e-10 -3.10208149e-10\n",
            "  2.13273640e-10 -1.46139122e-10  9.98024426e-11 -6.79299387e-11\n",
            "  4.60815041e-11 -3.11556934e-11  2.09939188e-11 -1.40992129e-11\n",
            "  9.43716234e-12 -6.29554167e-12  4.18571647e-12 -2.77364855e-12\n",
            "  1.83179915e-12 -1.20572687e-12  7.90978250e-13 -5.17159494e-13\n",
            "  3.36999027e-13 -2.18865240e-13  1.41667015e-13 -9.13911813e-14\n",
            "  5.87601933e-14 -3.76534944e-14  2.40475183e-14 -1.53065704e-14\n",
            "  9.71019409e-15 -6.13931681e-15  3.86860164e-15 -2.42957055e-15\n",
            "  1.52070948e-15 -9.48645412e-16  5.89796465e-16 -3.65460702e-16\n",
            "  2.25693537e-16 -1.38911158e-16  8.52107430e-17 -5.20943246e-17\n",
            "  3.17413163e-17 -1.92751394e-17  1.16656194e-17 -7.03647829e-18\n",
            "  4.22999412e-18 -2.53431514e-18  1.51327371e-18 -9.00554354e-19\n",
            "  5.34118360e-19 -3.15718305e-19  1.85992845e-19 -1.09200961e-19\n",
            "  6.38983970e-20 -3.72637242e-20  2.16578256e-20 -1.25451325e-20\n",
            "  7.24214059e-21 -4.16667319e-21  2.38914326e-21 -1.36528931e-21\n",
            "  7.77564444e-22 -4.41343532e-22  2.49657870e-22 -1.40747705e-22\n",
            "  7.90795867e-23 -4.42806411e-23  2.47109405e-23 -1.37432655e-23\n",
            "  7.61754971e-24 -4.20789374e-24  2.31652899e-24 -1.27096507e-24\n",
            "  6.94947151e-25 -3.78696781e-25  2.05661262e-25 -1.11309900e-25\n",
            "  6.00391963e-26 -3.22741701e-26  1.72899519e-26 -9.23103333e-27\n",
            "  4.91161171e-27 -2.60443929e-27  1.37632274e-27 -7.24838894e-28\n",
            "  3.80432108e-28 -1.98987878e-28  1.03726367e-28 -5.38845297e-29\n",
            "  2.78965635e-29 -1.43928993e-29  7.40041567e-30 -3.79204488e-30\n",
            "  1.93642028e-30 -9.85448287e-31  4.99775981e-31 -2.52594273e-31\n",
            "  1.27226462e-31 -6.38611113e-32  3.19447729e-32 -1.59245323e-32\n",
            "  7.91109024e-33 -3.91658890e-33  1.93232803e-33 -9.50066806e-34\n",
            "  4.65507917e-34 -2.27299686e-34  1.10603440e-34 -5.36334405e-35\n",
            "  2.59178573e-35 -1.24812513e-35  5.98979460e-36 -2.86457157e-36\n",
            "  1.36521338e-36 -6.48386054e-37  3.06872679e-37 -1.44734933e-37\n",
            "  6.80265164e-38 -3.18619219e-38  1.48714636e-38 -6.91707677e-39\n",
            "  3.20610503e-39 -1.48087460e-39  6.81621571e-40 -3.12645354e-40\n",
            "  1.42903646e-40 -6.50902911e-41  2.95439613e-41 -1.33627079e-41\n",
            "  6.02232932e-42 -2.70354609e-42  1.20686829e-42 -5.30995153e-43\n",
            "  2.19385815e-43 -5.93868727e-44 -5.93868727e-44  2.19385815e-43\n",
            " -5.30995153e-43  1.20686829e-42 -2.70354609e-42  6.02232932e-42\n",
            " -1.33627079e-41  2.95439613e-41 -6.50902911e-41  1.42903646e-40\n",
            " -3.12645354e-40  6.81621571e-40 -1.48087460e-39  3.20610503e-39\n",
            " -6.91707677e-39  1.48714636e-38 -3.18619219e-38  6.80265164e-38\n",
            " -1.44734933e-37  3.06872679e-37 -6.48386054e-37  1.36521338e-36\n",
            " -2.86457157e-36  5.98979460e-36 -1.24812513e-35  2.59178573e-35\n",
            " -5.36334405e-35  1.10603440e-34 -2.27299686e-34  4.65507917e-34\n",
            " -9.50066806e-34  1.93232803e-33 -3.91658890e-33  7.91109024e-33\n",
            " -1.59245323e-32  3.19447729e-32 -6.38611113e-32  1.27226462e-31\n",
            " -2.52594273e-31  4.99775981e-31 -9.85448287e-31  1.93642028e-30\n",
            " -3.79204488e-30  7.40041567e-30 -1.43928993e-29  2.78965635e-29\n",
            " -5.38845297e-29  1.03726367e-28 -1.98987878e-28  3.80432108e-28\n",
            " -7.24838894e-28  1.37632274e-27 -2.60443929e-27  4.91161171e-27\n",
            " -9.23103333e-27  1.72899519e-26 -3.22741701e-26  6.00391963e-26\n",
            " -1.11309900e-25  2.05661262e-25 -3.78696781e-25  6.94947151e-25\n",
            " -1.27096507e-24  2.31652899e-24 -4.20789374e-24  7.61754971e-24\n",
            " -1.37432655e-23  2.47109405e-23 -4.42806411e-23  7.90795867e-23\n",
            " -1.40747705e-22  2.49657870e-22 -4.41343532e-22  7.77564444e-22\n",
            " -1.36528931e-21  2.38914326e-21 -4.16667319e-21  7.24214059e-21\n",
            " -1.25451325e-20  2.16578256e-20 -3.72637242e-20  6.38983970e-20\n",
            " -1.09200961e-19  1.85992845e-19 -3.15718305e-19  5.34118360e-19\n",
            " -9.00554354e-19  1.51327371e-18 -2.53431514e-18  4.22999412e-18\n",
            " -7.03647829e-18  1.16656194e-17 -1.92751394e-17  3.17413163e-17\n",
            " -5.20943246e-17  8.52107430e-17 -1.38911158e-16  2.25693537e-16\n",
            " -3.65460702e-16  5.89796465e-16 -9.48645412e-16  1.52070948e-15\n",
            " -2.42957055e-15  3.86860164e-15 -6.13931681e-15  9.71019409e-15\n",
            " -1.53065704e-14  2.40475183e-14 -3.76534944e-14  5.87601933e-14\n",
            " -9.13911813e-14  1.41667015e-13 -2.18865240e-13  3.36999027e-13\n",
            " -5.17159494e-13  7.90978250e-13 -1.20572687e-12  1.83179915e-12\n",
            " -2.77364855e-12  4.18571647e-12 -6.29554167e-12  9.43716234e-12\n",
            " -1.40992129e-11  2.09939188e-11 -3.11556934e-11  4.60815041e-11\n",
            " -6.79299387e-11  9.98024426e-11 -1.46139122e-10  2.13273640e-10\n",
            " -3.10208149e-10  4.49691328e-10 -6.49712240e-10  9.35562334e-10\n",
            " -1.34267052e-09  1.92048581e-09 -2.73777366e-09  3.88981197e-09\n",
            " -5.50812929e-09  7.77363048e-09 -1.09342170e-08  1.53283449e-08\n",
            " -2.14163945e-08  2.98222684e-08 -4.13883294e-08  5.72476528e-08\n",
            " -7.89186538e-08  1.08428501e-07 -1.48473386e-07  2.02625778e-07\n",
            " -2.75601272e-07  3.73600687e-07 -5.04746705e-07  6.79638726e-07\n",
            " -9.12054780e-07  1.21983548e-06 -1.62599214e-06  2.16008946e-06\n",
            " -2.85996276e-06  3.77384061e-06 -4.96295584e-06  6.50474159e-06\n",
            " -8.49672414e-06  1.10612402e-05 -1.43511240e-05  1.85565266e-05\n",
            " -2.39130508e-05  3.07113980e-05 -3.93087477e-05  5.01420987e-05\n",
            " -6.37438175e-05  8.07596464e-05 -1.01969424e-04  1.28310768e-04\n",
            " -1.60905949e-04  2.01092166e-04 -2.50455374e-04  3.10867784e-04\n",
            " -3.84529040e-04  4.74011009e-04 -5.82305990e-04  7.12877970e-04\n",
            " -8.69716433e-04  1.05739197e-03 -1.28111274e-03  1.54678060e-03\n",
            " -1.86104534e-03  2.23135539e-03 -2.66600274e-03  3.17415987e-03\n",
            " -3.76590588e-03  4.45223896e-03 -5.24507198e-03  6.15720786e-03\n",
            " -7.20229116e-03  8.39473247e-03 -9.74960211e-03  1.12824898e-02\n",
            " -1.30093278e-02  1.49461741e-02 -1.71089555e-02  1.95131678e-02\n",
            " -2.21735346e-02  2.51036258e-02 -2.83154367e-02  3.18189344e-02\n",
            " -3.56215753e-02  3.97278008e-02 -4.41385218e-02  4.88506011e-02\n",
            " -5.38563462e-02  5.91430263e-02 -6.46924288e-02  7.04804698e-02\n",
            " -7.64768756e-02  8.26449517e-02 -8.89414550e-02  9.53165834e-02\n",
            " -1.01714099e-01  1.08071592e-01 -1.14320902e-01  1.20388688e-01\n",
            " -1.26197170e-01  1.31665024e-01 -1.36708422e-01  1.41242225e-01\n",
            " -1.45181293e-01  1.48441901e-01 -1.50943235e-01  1.52608943e-01\n",
            " -1.53368697e-01  1.53159743e-01 -1.51928402e-01  1.49631473e-01\n",
            " -1.46237508e-01  1.41727932e-01 -1.36097947e-01  1.29357228e-01\n",
            " -1.21530343e-01  1.12656916e-01 -1.02791488e-01  9.20030920e-02\n",
            " -8.03745268e-02  6.80013476e-02 -5.49905748e-02  4.14593598e-02\n",
            " -2.75297642e-02  1.33891737e-02  1.82979819e-03  0.00000000e+00]\n",
            "\n",
            "Numpy Linalg\n",
            "l_max = 134553.39123798636 \n",
            "x_max = [ 0.00000000e+00  5.11631344e-05  3.75192910e-04 -7.74922778e-04\n",
            "  1.17610466e-03 -1.57715688e-03  1.97815065e-03 -2.37906508e-03\n",
            "  2.77988442e-03 -3.18059262e-03  3.58117366e-03 -3.98161154e-03\n",
            "  4.38189024e-03 -4.78199376e-03  5.18190610e-03 -5.58161128e-03\n",
            "  5.98109332e-03 -6.38033624e-03  6.77932409e-03 -7.17804092e-03\n",
            "  7.57647078e-03 -7.97459774e-03  8.37240590e-03 -8.76987934e-03\n",
            "  9.16700218e-03 -9.56375853e-03  9.96013255e-03 -1.03561084e-02\n",
            "  1.07516702e-02 -1.11468022e-02  1.15414885e-02 -1.19357134e-02\n",
            "  1.23294612e-02 -1.27227161e-02  1.31154623e-02 -1.35076842e-02\n",
            "  1.38993661e-02 -1.42904923e-02  1.46810472e-02 -1.50710152e-02\n",
            "  1.54603807e-02 -1.58491280e-02  1.62372418e-02 -1.66247065e-02\n",
            "  1.70115065e-02 -1.73976264e-02  1.77830508e-02 -1.81677642e-02\n",
            "  1.85517514e-02 -1.89349969e-02  1.93174854e-02 -1.96992016e-02\n",
            "  2.00801302e-02 -2.04602561e-02  2.08395641e-02 -2.12180389e-02\n",
            "  2.15956655e-02 -2.19724287e-02  2.23483134e-02 -2.27233048e-02\n",
            "  2.30973877e-02 -2.34705472e-02  2.38427684e-02 -2.42140364e-02\n",
            "  2.45843364e-02 -2.49536535e-02  2.53219730e-02 -2.56892802e-02\n",
            "  2.60555604e-02 -2.64207990e-02  2.67849812e-02 -2.71480927e-02\n",
            "  2.75101188e-02 -2.78710452e-02  2.82308573e-02 -2.85895407e-02\n",
            "  2.89470813e-02 -2.93034645e-02  2.96586763e-02 -3.00127023e-02\n",
            "  3.03655286e-02 -3.07171408e-02  3.10675250e-02 -3.14166673e-02\n",
            "  3.17645535e-02 -3.21111698e-02  3.24565024e-02 -3.28005375e-02\n",
            "  3.31432612e-02 -3.34846599e-02  3.38247200e-02 -3.41634278e-02\n",
            "  3.45007698e-02 -3.48367326e-02  3.51713026e-02 -3.55044665e-02\n",
            "  3.58362111e-02 -3.61665230e-02  3.64953890e-02 -3.68227959e-02\n",
            "  3.71487308e-02 -3.74731806e-02  3.77961322e-02 -3.81175728e-02\n",
            "  3.84374895e-02 -3.87558696e-02  3.90727003e-02 -3.93879689e-02\n",
            "  3.97016628e-02 -4.00137696e-02  4.03242767e-02 -4.06331717e-02\n",
            "  4.09404422e-02 -4.12460760e-02  4.15500609e-02 -4.18523847e-02\n",
            "  4.21530353e-02 -4.24520007e-02  4.27492689e-02 -4.30448281e-02\n",
            "  4.33386665e-02 -4.36307722e-02  4.39211337e-02 -4.42097392e-02\n",
            "  4.44965774e-02 -4.47816366e-02  4.50649056e-02 -4.53463730e-02\n",
            "  4.56260275e-02 -4.59038579e-02  4.61798532e-02 -4.64540023e-02\n",
            "  4.67262942e-02 -4.69967181e-02  4.72652632e-02 -4.75319187e-02\n",
            "  4.77966739e-02 -4.80595184e-02  4.83204415e-02 -4.85794328e-02\n",
            "  4.88364820e-02 -4.90915788e-02  4.93447130e-02 -4.95958745e-02\n",
            "  4.98450533e-02 -5.00922393e-02  5.03374228e-02 -5.05805938e-02\n",
            "  5.08217427e-02 -5.10608599e-02  5.12979357e-02 -5.15329607e-02\n",
            "  5.17659256e-02 -5.19968209e-02  5.22256375e-02 -5.24523662e-02\n",
            "  5.26769979e-02 -5.28995238e-02  5.31199348e-02 -5.33382221e-02\n",
            "  5.35543771e-02 -5.37683911e-02  5.39802555e-02 -5.41899619e-02\n",
            "  5.43975018e-02 -5.46028671e-02  5.48060494e-02 -5.50070407e-02\n",
            "  5.52058329e-02 -5.54024180e-02  5.55967883e-02 -5.57889359e-02\n",
            "  5.59788532e-02 -5.61665325e-02  5.63519664e-02 -5.65351475e-02\n",
            "  5.67160683e-02 -5.68947218e-02  5.70711007e-02 -5.72451980e-02\n",
            "  5.74170068e-02 -5.75865201e-02  5.77537312e-02 -5.79186335e-02\n",
            "  5.80812202e-02 -5.82414850e-02  5.83994214e-02 -5.85550230e-02\n",
            "  5.87082838e-02 -5.88591975e-02  5.90077581e-02 -5.91539597e-02\n",
            "  5.92977964e-02 -5.94392625e-02  5.95783523e-02 -5.97150603e-02\n",
            "  5.98493810e-02 -5.99813090e-02  6.01108391e-02 -6.02379660e-02\n",
            "  6.03626848e-02 -6.04849903e-02  6.06048778e-02 -6.07223424e-02\n",
            "  6.08373794e-02 -6.09499842e-02  6.10601524e-02 -6.11678795e-02\n",
            "  6.12731612e-02 -6.13759934e-02  6.14763718e-02 -6.15742925e-02\n",
            "  6.16697516e-02 -6.17627452e-02  6.18532697e-02 -6.19413214e-02\n",
            "  6.20268968e-02 -6.21099925e-02  6.21906051e-02 -6.22687314e-02\n",
            "  6.23443684e-02 -6.24175129e-02  6.24881621e-02 -6.25563132e-02\n",
            "  6.26219633e-02 -6.26851100e-02  6.27457506e-02 -6.28038827e-02\n",
            "  6.28595040e-02 -6.29126124e-02  6.29632056e-02 -6.30112816e-02\n",
            "  6.30568386e-02 -6.30998747e-02  6.31403881e-02 -6.31783773e-02\n",
            "  6.32138408e-02 -6.32467770e-02  6.32771848e-02 -6.33050629e-02\n",
            "  6.33304101e-02 -6.33532256e-02  6.33735082e-02 -6.33912573e-02\n",
            "  6.34064722e-02 -6.34191521e-02  6.34292967e-02 -6.34369055e-02\n",
            "  6.34419782e-02 -6.34445146e-02  6.34445146e-02 -6.34419782e-02\n",
            "  6.34369055e-02 -6.34292967e-02  6.34191521e-02 -6.34064722e-02\n",
            "  6.33912573e-02 -6.33735082e-02  6.33532256e-02 -6.33304101e-02\n",
            "  6.33050629e-02 -6.32771848e-02  6.32467770e-02 -6.32138408e-02\n",
            "  6.31783773e-02 -6.31403881e-02  6.30998747e-02 -6.30568386e-02\n",
            "  6.30112816e-02 -6.29632056e-02  6.29126124e-02 -6.28595040e-02\n",
            "  6.28038827e-02 -6.27457506e-02  6.26851100e-02 -6.26219633e-02\n",
            "  6.25563132e-02 -6.24881621e-02  6.24175129e-02 -6.23443684e-02\n",
            "  6.22687314e-02 -6.21906051e-02  6.21099925e-02 -6.20268968e-02\n",
            "  6.19413214e-02 -6.18532697e-02  6.17627452e-02 -6.16697516e-02\n",
            "  6.15742925e-02 -6.14763718e-02  6.13759934e-02 -6.12731612e-02\n",
            "  6.11678795e-02 -6.10601524e-02  6.09499842e-02 -6.08373794e-02\n",
            "  6.07223424e-02 -6.06048778e-02  6.04849903e-02 -6.03626848e-02\n",
            "  6.02379660e-02 -6.01108391e-02  5.99813090e-02 -5.98493810e-02\n",
            "  5.97150603e-02 -5.95783523e-02  5.94392625e-02 -5.92977964e-02\n",
            "  5.91539597e-02 -5.90077581e-02  5.88591975e-02 -5.87082838e-02\n",
            "  5.85550230e-02 -5.83994214e-02  5.82414850e-02 -5.80812202e-02\n",
            "  5.79186335e-02 -5.77537312e-02  5.75865201e-02 -5.74170068e-02\n",
            "  5.72451980e-02 -5.70711007e-02  5.68947218e-02 -5.67160683e-02\n",
            "  5.65351475e-02 -5.63519664e-02  5.61665325e-02 -5.59788532e-02\n",
            "  5.57889359e-02 -5.55967883e-02  5.54024180e-02 -5.52058329e-02\n",
            "  5.50070407e-02 -5.48060494e-02  5.46028671e-02 -5.43975018e-02\n",
            "  5.41899619e-02 -5.39802555e-02  5.37683911e-02 -5.35543771e-02\n",
            "  5.33382221e-02 -5.31199348e-02  5.28995238e-02 -5.26769980e-02\n",
            "  5.24523662e-02 -5.22256375e-02  5.19968209e-02 -5.17659256e-02\n",
            "  5.15329607e-02 -5.12979357e-02  5.10608599e-02 -5.08217427e-02\n",
            "  5.05805938e-02 -5.03374228e-02  5.00922393e-02 -4.98450533e-02\n",
            "  4.95958745e-02 -4.93447130e-02  4.90915788e-02 -4.88364820e-02\n",
            "  4.85794328e-02 -4.83204415e-02  4.80595184e-02 -4.77966740e-02\n",
            "  4.75319187e-02 -4.72652632e-02  4.69967181e-02 -4.67262942e-02\n",
            "  4.64540023e-02 -4.61798532e-02  4.59038579e-02 -4.56260275e-02\n",
            "  4.53463730e-02 -4.50649056e-02  4.47816367e-02 -4.44965774e-02\n",
            "  4.42097393e-02 -4.39211337e-02  4.36307722e-02 -4.33386665e-02\n",
            "  4.30448281e-02 -4.27492689e-02  4.24520007e-02 -4.21530353e-02\n",
            "  4.18523847e-02 -4.15500609e-02  4.12460760e-02 -4.09404422e-02\n",
            "  4.06331717e-02 -4.03242767e-02  4.00137696e-02 -3.97016628e-02\n",
            "  3.93879689e-02 -3.90727003e-02  3.87558696e-02 -3.84374895e-02\n",
            "  3.81175728e-02 -3.77961322e-02  3.74731806e-02 -3.71487308e-02\n",
            "  3.68227960e-02 -3.64953890e-02  3.61665230e-02 -3.58362111e-02\n",
            "  3.55044665e-02 -3.51713026e-02  3.48367326e-02 -3.45007698e-02\n",
            "  3.41634278e-02 -3.38247200e-02  3.34846599e-02 -3.31432612e-02\n",
            "  3.28005375e-02 -3.24565024e-02  3.21111698e-02 -3.17645535e-02\n",
            "  3.14166673e-02 -3.10675250e-02  3.07171408e-02 -3.03655286e-02\n",
            "  3.00127024e-02 -2.96586763e-02  2.93034645e-02 -2.89470813e-02\n",
            "  2.85895407e-02 -2.82308573e-02  2.78710452e-02 -2.75101188e-02\n",
            "  2.71480927e-02 -2.67849812e-02  2.64207990e-02 -2.60555604e-02\n",
            "  2.56892802e-02 -2.53219730e-02  2.49536535e-02 -2.45843364e-02\n",
            "  2.42140364e-02 -2.38427684e-02  2.34705472e-02 -2.30973877e-02\n",
            "  2.27233048e-02 -2.23483134e-02  2.19724287e-02 -2.15956655e-02\n",
            "  2.12180389e-02 -2.08395641e-02  2.04602562e-02 -2.00801302e-02\n",
            "  1.96992016e-02 -1.93174854e-02  1.89349969e-02 -1.85517514e-02\n",
            "  1.81677642e-02 -1.77830508e-02  1.73976264e-02 -1.70115065e-02\n",
            "  1.66247065e-02 -1.62372418e-02  1.58491280e-02 -1.54603807e-02\n",
            "  1.50710152e-02 -1.46810472e-02  1.42904923e-02 -1.38993661e-02\n",
            "  1.35076842e-02 -1.31154623e-02  1.27227161e-02 -1.23294612e-02\n",
            "  1.19357135e-02 -1.15414885e-02  1.11468022e-02 -1.07516702e-02\n",
            "  1.03561084e-02 -9.96013255e-03  9.56375854e-03 -9.16700218e-03\n",
            "  8.76987934e-03 -8.37240590e-03  7.97459774e-03 -7.57647078e-03\n",
            "  7.17804092e-03 -6.77932410e-03  6.38033625e-03 -5.98109332e-03\n",
            "  5.58161128e-03 -5.18190610e-03  4.78199376e-03 -4.38189024e-03\n",
            "  3.98161154e-03 -3.58117366e-03  3.18059262e-03 -2.77988442e-03\n",
            "  2.37906508e-03 -1.97815065e-03  1.57715688e-03 -1.17610466e-03\n",
            "  7.74922778e-04 -3.75192910e-04 -5.11631345e-05  0.00000000e+00]\n",
            "[ 4.15252858e+04  4.15252858e+04 -1.31333941e+05 -1.31477271e+05\n",
            " -1.31617433e+05 -1.31754421e+05 -1.31888224e+05 -1.32018835e+05\n",
            " -1.32146246e+05 -1.32270447e+05 -1.32391432e+05 -1.32509193e+05\n",
            " -1.32623722e+05 -1.32735011e+05 -1.32843055e+05 -1.32947846e+05\n",
            " -1.33049377e+05 -1.34553391e+05 -1.34548348e+05 -1.34539944e+05\n",
            " -1.34528178e+05 -1.34513052e+05 -1.34494567e+05 -1.34472723e+05\n",
            " -1.34447523e+05 -1.34418968e+05 -1.34387059e+05 -1.34351799e+05\n",
            " -1.34313190e+05 -1.34271234e+05 -1.34225935e+05 -1.34177294e+05\n",
            " -1.34125315e+05 -1.34070002e+05 -1.34011358e+05 -1.33949387e+05\n",
            " -1.33884092e+05 -1.33147642e+05 -1.33242635e+05 -1.33334349e+05\n",
            " -1.33815478e+05 -1.33743549e+05 -1.33668309e+05 -1.33589765e+05\n",
            " -1.33422779e+05 -1.33507920e+05 -1.28422399e+05 -1.28618016e+05\n",
            " -1.28810647e+05 -1.29000279e+05 -1.31187455e+05 -1.31037820e+05\n",
            " -1.30885047e+05 -1.30729144e+05 -1.30570123e+05 -1.30407992e+05\n",
            " -1.29186900e+05 -1.30242762e+05 -1.30074444e+05 -1.29903047e+05\n",
            " -1.29728584e+05 -1.29370499e+05 -1.29551064e+05 -1.26304735e+05\n",
            " -1.26529518e+05 -1.26751444e+05 -1.26970500e+05 -1.27186672e+05\n",
            " -1.27399946e+05 -1.27610310e+05 -1.28223807e+05 -1.27817750e+05\n",
            " -1.28022254e+05 -1.22331568e+05 -1.22600053e+05 -1.22865924e+05\n",
            " -1.23129164e+05 -1.23389757e+05 -1.23647686e+05 -1.23902937e+05\n",
            " -1.24155493e+05 -1.24405339e+05 -1.24652460e+05 -1.24896840e+05\n",
            " -1.26077109e+05 -1.25138464e+05 -1.25377318e+05 -1.25846655e+05\n",
            " -1.25613386e+05 -1.22060484e+05 -1.20380350e+05 -1.21786818e+05\n",
            " -1.20950497e+05 -1.21231808e+05 -1.21510587e+05 -1.20666672e+05\n",
            " -1.20091548e+05 -1.19800283e+05 -1.15148084e+05 -1.15474105e+05\n",
            " -1.15797941e+05 -1.16119571e+05 -1.19506574e+05 -1.16438977e+05\n",
            " -1.16756139e+05 -1.18610955e+05 -1.18307645e+05 -1.18001980e+05\n",
            " -1.17071040e+05 -1.17383659e+05 -1.17693979e+05 -1.18911892e+05\n",
            " -1.14819896e+05 -1.07831678e+05 -1.14489561e+05 -1.14157097e+05\n",
            " -1.13822526e+05 -1.13147137e+05 -1.13485866e+05 -1.12806360e+05\n",
            " -1.12463553e+05 -1.08199005e+05 -1.12118738e+05 -1.08564571e+05\n",
            " -1.08928353e+05 -1.09290332e+05 -1.11771934e+05 -1.09650486e+05\n",
            " -1.10008795e+05 -1.10365237e+05 -1.10719793e+05 -1.11072441e+05\n",
            " -1.11423162e+05 -1.19210437e+05 -1.04832159e+05 -1.05212821e+05\n",
            " -1.05591891e+05 -1.05969347e+05 -1.06345168e+05 -1.06719333e+05\n",
            " -1.07462609e+05 -1.00942714e+05 -1.01338110e+05 -1.01732130e+05\n",
            " -1.02124753e+05 -1.02515957e+05 -1.02905719e+05 -1.03294019e+05\n",
            " -1.04449926e+05 -1.03680835e+05 -1.04066144e+05 -1.07091820e+05\n",
            " -1.00545964e+05 -9.56873607e+04 -9.60986425e+04 -9.97484904e+04\n",
            " -1.00147882e+05 -9.93478107e+04 -9.89458649e+04 -9.65088345e+04\n",
            " -9.85426750e+04 -9.81382631e+04 -9.69179147e+04 -9.73258608e+04\n",
            " -9.77326510e+04 -8.72668597e+04 -9.48616159e+04 -9.52750111e+04\n",
            " -9.44471971e+04 -8.76953044e+04 -9.40317769e+04 -9.36153773e+04\n",
            " -9.31980204e+04 -8.81230999e+04 -9.27797283e+04 -9.23605231e+04\n",
            " -9.19404269e+04 -8.85502243e+04 -9.15194617e+04 -9.10976495e+04\n",
            " -9.06750125e+04 -9.02515726e+04 -8.98273518e+04 -8.89766558e+04\n",
            " -8.94023722e+04 -8.42514001e+04 -8.46837792e+04 -8.51156615e+04\n",
            " -8.55470251e+04 -8.59778485e+04 -8.64081099e+04 -8.68377875e+04\n",
            " -7.59702548e+04 -7.68456949e+04 -7.72832524e+04 -7.77206738e+04\n",
            " -8.38185456e+04 -7.81579385e+04 -8.33852374e+04 -7.85950256e+04\n",
            " -7.90319141e+04 -7.94685831e+04 -8.29514970e+04 -7.99050115e+04\n",
            " -8.03411783e+04 -8.07770623e+04 -8.12126424e+04 -8.16478972e+04\n",
            " -8.25173459e+04 -8.20828055e+04 -7.33428128e+04 -7.37807176e+04\n",
            " -7.42186504e+04 -7.46565909e+04 -7.50945187e+04 -7.55324135e+04\n",
            " -6.85334170e+04 -6.89697003e+04 -6.94062292e+04 -6.98429842e+04\n",
            " -7.02799458e+04 -7.29049560e+04 -7.24671675e+04 -7.20294672e+04\n",
            " -7.64080222e+04 -7.11544109e+04 -7.15918750e+04 -7.07170946e+04\n",
            " -5.98883280e+04 -6.80973984e+04 -6.76616637e+04 -6.07438355e+04\n",
            " -6.11724918e+04 -6.72262322e+04 -6.20315217e+04 -6.24618599e+04\n",
            " -6.28927231e+04 -6.33240934e+04 -6.37559528e+04 -6.41882830e+04\n",
            " -6.46210658e+04 -6.50542828e+04 -6.54879156e+04 -6.63563543e+04\n",
            " -6.67911227e+04 -6.59219456e+04 -6.16017264e+04 -6.03157751e+04\n",
            " -5.94615117e+04 -5.90353432e+04 -5.86098399e+04 -5.81850186e+04\n",
            " -5.06736301e+04 -5.77608963e+04 -5.10833874e+04 -5.14941142e+04\n",
            " -5.19057958e+04 -5.69148160e+04 -5.64928912e+04 -5.60717320e+04\n",
            " -5.56513548e+04 -5.52317759e+04 -5.23184168e+04 -5.48130114e+04\n",
            " -5.27319621e+04 -5.31464163e+04 -5.43950773e+04 -5.39779896e+04\n",
            " -5.35617640e+04 -5.73374899e+04 -4.82362748e+04 -4.86399057e+04\n",
            " -4.90445937e+04 -4.94503246e+04 -5.02648575e+04 -4.98570841e+04\n",
            " -4.42611737e+04 -4.46534722e+04 -4.78337154e+04 -4.74322414e+04\n",
            " -4.50469643e+04 -4.54416370e+04 -4.58374770e+04 -4.70318668e+04\n",
            " -4.62344710e+04 -4.66326054e+04 -4.38700818e+04 -4.30915691e+04\n",
            " -4.27041737e+04 -4.23180357e+04 -4.34802093e+04 -4.19331673e+04\n",
            " -4.15495810e+04 -3.59575881e+04 -4.11672887e+04 -3.63205559e+04\n",
            " -3.66849752e+04 -4.07863026e+04 -4.04066345e+04 -4.00282961e+04\n",
            " -3.70508353e+04 -3.96512993e+04 -3.92756554e+04 -3.89013759e+04\n",
            " -3.74181259e+04 -3.85284720e+04 -3.77868361e+04 -3.81569551e+04\n",
            " -3.38108307e+04 -3.41648773e+04 -3.45204355e+04 -3.48774956e+04\n",
            " -3.52360477e+04 -3.55960819e+04 -2.90180833e+04 -2.93500082e+04\n",
            " -2.96835692e+04 -3.00187580e+04 -3.03555664e+04 -3.34583054e+04\n",
            " -3.10340083e+04 -3.13756248e+04 -3.17188268e+04 -3.20636054e+04\n",
            " -3.24099516e+04 -3.27578565e+04 -3.31073108e+04 -3.06939860e+04\n",
            " -2.83591734e+04 -2.80322042e+04 -2.86878024e+04 -2.77069025e+04\n",
            " -2.73832758e+04 -2.70613317e+04 -2.67410776e+04 -2.64225206e+04\n",
            " -2.61056680e+04 -2.57905268e+04 -2.54771040e+04 -2.51654064e+04\n",
            " -2.45472139e+04 -2.42407320e+04 -2.48554408e+04 -2.39360017e+04\n",
            " -2.18524535e+04 -2.21447510e+04 -2.36330294e+04 -2.33318212e+04\n",
            " -2.24388423e+04 -2.30323833e+04 -2.27347217e+04 -2.15619555e+04\n",
            " -2.09863799e+04 -2.07013131e+04 -2.12732625e+04 -2.04180674e+04\n",
            " -1.44167838e+04 -1.46568979e+04 -2.01366479e+04 -1.48989299e+04\n",
            " -1.51428765e+04 -1.98570597e+04 -1.95793078e+04 -1.93033970e+04\n",
            " -1.90293323e+04 -1.56364999e+04 -1.58861695e+04 -1.87571182e+04\n",
            " -1.84867595e+04 -1.61377398e+04 -1.79516259e+04 -1.76868600e+04\n",
            " -1.74239670e+04 -1.63912069e+04 -1.71629511e+04 -1.66465671e+04\n",
            " -1.69038164e+04 -1.82182605e+04 -1.32450925e+04 -1.34755700e+04\n",
            " -1.37079809e+04 -1.39423221e+04 -1.14712052e+04 -1.21218041e+04\n",
            " -1.23425729e+04 -1.25652888e+04 -1.27899491e+04 -1.30165513e+04\n",
            " -1.41785908e+04 -1.53887343e+04 -9.23679066e+03 -9.43006241e+03\n",
            " -1.19029849e+04 -1.16861178e+04 -1.12582495e+04 -1.10472529e+04\n",
            " -1.00217324e+04 -1.02229012e+04 -1.04260397e+04 -1.06311459e+04\n",
            " -1.08382176e+04 -5.19500643e+03 -9.82253504e+03 -9.62531112e+03\n",
            " -9.04549758e+03 -8.66885389e+03 -8.48350641e+03 -8.30014385e+03\n",
            " -8.11876762e+03 -5.94219688e+03 -6.09764223e+03 -6.25508824e+03\n",
            " -6.57597882e+03 -6.73942160e+03 -6.90486143e+03 -7.76197965e+03\n",
            " -7.41315299e+03 -7.24172820e+03 -7.58657053e+03 -8.85618479e+03\n",
            " -7.93937911e+03 -7.07229732e+03 -6.41453406e+03 -5.34043736e+03\n",
            " -5.78875299e+03 -5.48787252e+03 -5.05158035e+03 -4.77074496e+03\n",
            " -4.63333667e+03 -4.49793528e+03 -4.91015968e+03 -5.63731129e+03\n",
            " -3.97640681e+03 -3.85104569e+03 -3.60635066e+03 -3.48701719e+03\n",
            " -4.23315489e+03 -4.10377664e+03 -4.36454122e+03 -3.36969335e+03\n",
            " -3.14107512e+03 -3.72769356e+03 -3.02978097e+03 -2.92049690e+03\n",
            " -2.81322298e+03 -2.60470564e+03 -2.50346222e+03 -2.40422892e+03\n",
            " -3.25437928e+03 -2.21179243e+03 -2.11858906e+03 -2.70795922e+03\n",
            " -1.68271581e+03 -1.93821149e+03 -2.02739546e+03 -1.60156872e+03\n",
            " -1.76587184e+03 -1.44530049e+03 -1.37017889e+03 -2.30700568e+03\n",
            " -1.85103701e+03 -1.29706532e+03 -1.08977017e+03 -1.02468607e+03\n",
            " -9.61608631e+02 -1.00000074e+00 -4.00001180e+00 -9.00005968e+00\n",
            " -8.41472608e+02 -7.84413429e+02 -2.50004596e+01 -3.60009518e+01\n",
            " -5.76228614e+02 -6.25267633e+02 -5.29193888e+02 -4.90017605e+01\n",
            " -1.44015034e+02 -1.96027680e+02 -4.00112544e+02 -1.21010644e+02\n",
            " -1.00007288e+02 -2.56046887e+02 -7.29359741e+02 -2.25036352e+02\n",
            " -3.61092089e+02 -1.22595952e+03 -6.40029980e+01 -8.10047926e+01\n",
            " -1.60001885e+01 -4.41136141e+02 -3.24074503e+02 -4.84163161e+02\n",
            " -1.15686123e+03 -9.00537576e+02 -1.52243035e+03 -2.89059522e+02\n",
            " -6.76311242e+02 -1.69020645e+02  1.00000000e+00  1.00000000e+00]\n"
          ]
        }
      ],
      "source": [
        "# let's implement Power Method\n",
        "z0 = np.ones_like(b)\n",
        "def PM(A,z0,tol=1e-20,nmax=500):\n",
        "    q = z0/np.linalg.norm(z0,2)\n",
        "    it = 0\n",
        "    err = tol + 1.\n",
        "    while it < nmax and err > tol:\n",
        "        z = np.dot(A,q)\n",
        "        l = np.dot(q.T,z)\n",
        "        err = np.linalg.norm(z-l*q,2)\n",
        "        q = z/np.linalg.norm(z,2)\n",
        "        \n",
        "        it += 1\n",
        "    print(\"error =\", err, \"iterations =\", it)\n",
        "    return l,q\n",
        "\n",
        "l,x = PM(A,z0)\n",
        "l_np, x_np = np.linalg.eig(A)\n",
        "print(\"l_max =\", abs(l), \"\\nx_max =\", x)\n",
        "print(\"\\nNumpy Linalg\")\n",
        "print(\"l_max =\", max(abs(l_np)), \"\\nx_max =\", x_np[:, np.argmax(abs(l_np))])\n",
        "print(l_np)\n"
      ],
      "id": "7haaqv7TnvVD"
    },
    {
      "cell_type": "code",
      "execution_count": 19,
      "metadata": {
        "colab": {
          "base_uri": "https://localhost:8080/"
        },
        "id": "opRbRUqKnvVD",
        "outputId": "fe143c11-fec9-47af-c387-bf0b89b9da24"
      },
      "outputs": [
        {
          "output_type": "stream",
          "name": "stdout",
          "text": [
            "error = 0.37905543589733093 iterations = 500\n",
            "lambda = 0.1742819723155608\n",
            "l_min = 0.1742819723155608 \n",
            "x_min = [0.04519717 0.04512195 0.04504496 0.04496947 0.0448957  0.04482365\n",
            " 0.04475331 0.04468466 0.04461767 0.04455234 0.04448865 0.04442657\n",
            " 0.0443661  0.04430722 0.0442499  0.04419414 0.04413992 0.04408721\n",
            " 0.04403601 0.0439863  0.04393806 0.04389127 0.04384593 0.043802\n",
            " 0.04375949 0.04371836 0.04367861 0.04364022 0.04360318 0.04356746\n",
            " 0.04353306 0.04349995 0.04346812 0.04343757 0.04340826 0.04338019\n",
            " 0.04335334 0.0433277  0.04330324 0.04327997 0.04325785 0.04323688\n",
            " 0.04321705 0.04319833 0.04318071 0.04316418 0.04314873 0.04313433\n",
            " 0.04312098 0.04310866 0.04309736 0.04308705 0.04307774 0.0430694\n",
            " 0.04306202 0.04305559 0.04305009 0.04304551 0.04304184 0.04303905\n",
            " 0.04303715 0.04303611 0.04303592 0.04303657 0.04303805 0.04304034\n",
            " 0.04304342 0.04304729 0.04305194 0.04305734 0.0430635  0.04307038\n",
            " 0.04307799 0.04308631 0.04309532 0.04310502 0.04311539 0.04312642\n",
            " 0.04313809 0.0431504  0.04316333 0.04317688 0.04319102 0.04320575\n",
            " 0.04322105 0.04323691 0.04325333 0.04327029 0.04328777 0.04330577\n",
            " 0.04332427 0.04334327 0.04336275 0.0433827  0.04340312 0.04342397\n",
            " 0.04344527 0.04346699 0.04348913 0.04351168 0.04353461 0.04355793\n",
            " 0.04358163 0.04360568 0.04363009 0.04365484 0.04367991 0.04370531\n",
            " 0.04373102 0.04375703 0.04378333 0.0438099  0.04383675 0.04386386\n",
            " 0.04389121 0.04391881 0.04394664 0.04397469 0.04400295 0.04403141\n",
            " 0.04406007 0.0440889  0.04411792 0.04414709 0.04417642 0.0442059\n",
            " 0.04423552 0.04426526 0.04429513 0.0443251  0.04435518 0.04438535\n",
            " 0.04441561 0.04444594 0.04447634 0.0445068  0.04453731 0.04456787\n",
            " 0.04459846 0.04462908 0.04465971 0.04469036 0.04472101 0.04475165\n",
            " 0.04478228 0.0448129  0.04484348 0.04487403 0.04490454 0.04493499\n",
            " 0.04496539 0.04499572 0.04502598 0.04505617 0.04508626 0.04511627\n",
            " 0.04514617 0.04517597 0.04520565 0.04523522 0.04526465 0.04529396\n",
            " 0.04532312 0.04535214 0.045381   0.04540971 0.04543825 0.04546662\n",
            " 0.04549481 0.04552282 0.04555064 0.04557827 0.04560569 0.04563291\n",
            " 0.04565992 0.04568671 0.04571328 0.04573962 0.04576573 0.04579159\n",
            " 0.04581722 0.04584259 0.04586771 0.04589257 0.04591717 0.04594149\n",
            " 0.04596555 0.04598933 0.04601282 0.04603603 0.04605894 0.04608156\n",
            " 0.04610388 0.04612589 0.04614759 0.04616898 0.04619006 0.04621081\n",
            " 0.04623124 0.04625134 0.0462711  0.04629054 0.04630963 0.04632838\n",
            " 0.04634678 0.04636483 0.04638253 0.04639987 0.04641685 0.04643347\n",
            " 0.04644972 0.04646561 0.04648112 0.04649626 0.04651102 0.04652541\n",
            " 0.04653941 0.04655302 0.04656625 0.04657909 0.04659154 0.04660359\n",
            " 0.04661525 0.04662651 0.04663737 0.04664782 0.04665788 0.04666752\n",
            " 0.04667676 0.04668559 0.04669401 0.04670202 0.04670962 0.0467168\n",
            " 0.04672356 0.04672991 0.04673584 0.04674135 0.04674644 0.04675111\n",
            " 0.04675536 0.04675918 0.04676258 0.04676556 0.04676811 0.04677024\n",
            " 0.04677194 0.04677322 0.04677407 0.0467745  0.0467745  0.04677407\n",
            " 0.04677322 0.04677194 0.04677024 0.04676811 0.04676556 0.04676258\n",
            " 0.04675918 0.04675536 0.04675111 0.04674644 0.04674135 0.04673584\n",
            " 0.04672991 0.04672356 0.0467168  0.04670962 0.04670202 0.04669401\n",
            " 0.04668559 0.04667676 0.04666752 0.04665788 0.04664782 0.04663737\n",
            " 0.04662651 0.04661525 0.04660359 0.04659154 0.04657909 0.04656625\n",
            " 0.04655302 0.04653941 0.04652541 0.04651102 0.04649626 0.04648112\n",
            " 0.04646561 0.04644972 0.04643347 0.04641685 0.04639987 0.04638253\n",
            " 0.04636483 0.04634678 0.04632838 0.04630963 0.04629054 0.0462711\n",
            " 0.04625134 0.04623124 0.04621081 0.04619006 0.04616898 0.04614759\n",
            " 0.04612589 0.04610388 0.04608156 0.04605894 0.04603603 0.04601282\n",
            " 0.04598933 0.04596555 0.04594149 0.04591717 0.04589257 0.04586771\n",
            " 0.04584259 0.04581722 0.04579159 0.04576573 0.04573962 0.04571328\n",
            " 0.04568671 0.04565992 0.04563291 0.04560569 0.04557827 0.04555064\n",
            " 0.04552282 0.04549481 0.04546662 0.04543825 0.04540971 0.045381\n",
            " 0.04535214 0.04532312 0.04529396 0.04526465 0.04523522 0.04520565\n",
            " 0.04517597 0.04514617 0.04511627 0.04508626 0.04505617 0.04502598\n",
            " 0.04499572 0.04496539 0.04493499 0.04490454 0.04487403 0.04484348\n",
            " 0.0448129  0.04478228 0.04475165 0.04472101 0.04469036 0.04465971\n",
            " 0.04462908 0.04459846 0.04456787 0.04453731 0.0445068  0.04447634\n",
            " 0.04444594 0.04441561 0.04438535 0.04435518 0.0443251  0.04429513\n",
            " 0.04426526 0.04423552 0.0442059  0.04417642 0.04414709 0.04411792\n",
            " 0.0440889  0.04406007 0.04403141 0.04400295 0.04397469 0.04394664\n",
            " 0.04391881 0.04389121 0.04386386 0.04383675 0.0438099  0.04378333\n",
            " 0.04375703 0.04373102 0.04370531 0.04367991 0.04365484 0.04363009\n",
            " 0.04360568 0.04358163 0.04355793 0.04353461 0.04351168 0.04348913\n",
            " 0.04346699 0.04344527 0.04342397 0.04340312 0.0433827  0.04336275\n",
            " 0.04334327 0.04332427 0.04330577 0.04328777 0.04327029 0.04325333\n",
            " 0.04323691 0.04322105 0.04320575 0.04319102 0.04317688 0.04316333\n",
            " 0.0431504  0.04313809 0.04312642 0.04311539 0.04310502 0.04309532\n",
            " 0.04308631 0.04307799 0.04307038 0.0430635  0.04305734 0.04305194\n",
            " 0.04304729 0.04304342 0.04304034 0.04303805 0.04303657 0.04303592\n",
            " 0.04303611 0.04303715 0.04303905 0.04304184 0.04304551 0.04305009\n",
            " 0.04305559 0.04306202 0.0430694  0.04307774 0.04308705 0.04309736\n",
            " 0.04310866 0.04312098 0.04313433 0.04314873 0.04316418 0.04318071\n",
            " 0.04319833 0.04321705 0.04323688 0.04325785 0.04327997 0.04330324\n",
            " 0.0433277  0.04335334 0.04338019 0.04340826 0.04343757 0.04346812\n",
            " 0.04349995 0.04353306 0.04356746 0.04360318 0.04364022 0.04367861\n",
            " 0.04371836 0.04375949 0.043802   0.04384593 0.04389127 0.04393806\n",
            " 0.0439863  0.04403601 0.04408721 0.04413992 0.04419414 0.0442499\n",
            " 0.04430722 0.0443661  0.04442657 0.04448865 0.04455234 0.04461767\n",
            " 0.04468466 0.04475331 0.04482365 0.0448957  0.04496947 0.04504496\n",
            " 0.04512195 0.04519717]\n",
            "\n",
            "Numpy Linalg\n",
            "l_min = 1.0 \n",
            "x_min = [1.12967318e-01 1.12265197e-01 1.11558626e-01 1.10855838e-01\n",
            " 1.10157398e-01 1.09463321e-01 1.08773583e-01 1.08088156e-01\n",
            " 1.07407013e-01 1.06730127e-01 1.06057472e-01 1.05389021e-01\n",
            " 1.04724747e-01 1.04064624e-01 1.03408626e-01 1.02756727e-01\n",
            " 1.02108901e-01 1.01465122e-01 1.00825364e-01 1.00189603e-01\n",
            " 9.95578137e-02 9.89299702e-02 9.83060480e-02 9.76860223e-02\n",
            " 9.70698686e-02 9.64575624e-02 9.58490795e-02 9.52443958e-02\n",
            " 9.46434873e-02 9.40463301e-02 9.34529007e-02 9.28631755e-02\n",
            " 9.22771310e-02 9.16947442e-02 9.11159918e-02 9.05408510e-02\n",
            " 8.99692990e-02 8.94013131e-02 8.88368707e-02 8.82759496e-02\n",
            " 8.77185275e-02 8.71645823e-02 8.66140920e-02 8.60670348e-02\n",
            " 8.55233891e-02 8.49831332e-02 8.44462458e-02 8.39127056e-02\n",
            " 8.33824915e-02 8.28555824e-02 8.23319574e-02 8.18115958e-02\n",
            " 8.12944769e-02 8.07805804e-02 8.02698857e-02 7.97623727e-02\n",
            " 7.92580212e-02 7.87568112e-02 7.82587230e-02 7.77637367e-02\n",
            " 7.72718326e-02 7.67829915e-02 7.62971937e-02 7.58144201e-02\n",
            " 7.53346516e-02 7.48578692e-02 7.43840538e-02 7.39131868e-02\n",
            " 7.34452495e-02 7.29802234e-02 7.25180900e-02 7.20588309e-02\n",
            " 7.16024281e-02 7.11488633e-02 7.06981187e-02 7.02501763e-02\n",
            " 6.98050185e-02 6.93626275e-02 6.89229858e-02 6.84860760e-02\n",
            " 6.80518808e-02 6.76203829e-02 6.71915654e-02 6.67654111e-02\n",
            " 6.63419031e-02 6.59210248e-02 6.55027593e-02 6.50870902e-02\n",
            " 6.46740010e-02 6.42634752e-02 6.38554966e-02 6.34500491e-02\n",
            " 6.30471165e-02 6.26466830e-02 6.22487325e-02 6.18532494e-02\n",
            " 6.14602180e-02 6.10696227e-02 6.06814479e-02 6.02956785e-02\n",
            " 5.99122989e-02 5.95312941e-02 5.91526489e-02 5.87763484e-02\n",
            " 5.84023775e-02 5.80307216e-02 5.76613658e-02 5.72942955e-02\n",
            " 5.69294962e-02 5.65669535e-02 5.62066528e-02 5.58485800e-02\n",
            " 5.54927209e-02 5.51390614e-02 5.47875874e-02 5.44382850e-02\n",
            " 5.40911403e-02 5.37461397e-02 5.34032694e-02 5.30625159e-02\n",
            " 5.27238656e-02 5.23873051e-02 5.20528210e-02 5.17204002e-02\n",
            " 5.13900295e-02 5.10616956e-02 5.07353857e-02 5.04110868e-02\n",
            " 5.00887860e-02 4.97684706e-02 4.94501279e-02 4.91337452e-02\n",
            " 4.88193101e-02 4.85068099e-02 4.81962325e-02 4.78875654e-02\n",
            " 4.75807964e-02 4.72759134e-02 4.69729042e-02 4.66717569e-02\n",
            " 4.63724595e-02 4.60750002e-02 4.57793672e-02 4.54855487e-02\n",
            " 4.51935331e-02 4.49033089e-02 4.46148644e-02 4.43281884e-02\n",
            " 4.40432694e-02 4.37600962e-02 4.34786575e-02 4.31989421e-02\n",
            " 4.29209390e-02 4.26446372e-02 4.23700256e-02 4.20970935e-02\n",
            " 4.18258300e-02 4.15562243e-02 4.12882658e-02 4.10219439e-02\n",
            " 4.07572479e-02 4.04941674e-02 4.02326919e-02 3.99728112e-02\n",
            " 3.97145149e-02 3.94577927e-02 3.92026346e-02 3.89490302e-02\n",
            " 3.86969698e-02 3.84464431e-02 3.81974403e-02 3.79499516e-02\n",
            " 3.77039671e-02 3.74594771e-02 3.72164718e-02 3.69749417e-02\n",
            " 3.67348772e-02 3.64962687e-02 3.62591068e-02 3.60233821e-02\n",
            " 3.57890853e-02 3.55562070e-02 3.53247381e-02 3.50946694e-02\n",
            " 3.48659917e-02 3.46386959e-02 3.44127732e-02 3.41882144e-02\n",
            " 3.39650108e-02 3.37431535e-02 3.35226336e-02 3.33034425e-02\n",
            " 3.30855714e-02 3.28690117e-02 3.26537548e-02 3.24397923e-02\n",
            " 3.22271155e-02 3.20157161e-02 3.18055858e-02 3.15967161e-02\n",
            " 3.13890988e-02 3.11827257e-02 3.09775886e-02 3.07736793e-02\n",
            " 3.05709898e-02 3.03695120e-02 3.01692380e-02 2.99701598e-02\n",
            " 2.97722696e-02 2.95755594e-02 2.93800215e-02 2.91856481e-02\n",
            " 2.89924316e-02 2.88003642e-02 2.86094384e-02 2.84196466e-02\n",
            " 2.82309813e-02 2.80434349e-02 2.78570001e-02 2.76716695e-02\n",
            " 2.74874357e-02 2.73042914e-02 2.71222293e-02 2.69412424e-02\n",
            " 2.67613232e-02 2.65824648e-02 2.64046601e-02 2.62279019e-02\n",
            " 2.60521834e-02 2.58774975e-02 2.57038373e-02 2.55311959e-02\n",
            " 2.53595665e-02 2.51889422e-02 2.50193164e-02 2.48506822e-02\n",
            " 2.46830331e-02 2.45163623e-02 2.43506633e-02 2.41859295e-02\n",
            " 2.40221543e-02 2.38593313e-02 2.36974540e-02 2.35365160e-02\n",
            " 2.33765109e-02 2.32174324e-02 2.30592741e-02 2.29020299e-02\n",
            " 2.27456934e-02 2.25902585e-02 2.24357190e-02 2.22820687e-02\n",
            " 2.21293017e-02 2.19774118e-02 2.18263930e-02 2.16762394e-02\n",
            " 2.15269449e-02 2.13785037e-02 2.12309099e-02 2.10841576e-02\n",
            " 2.09382410e-02 2.07931543e-02 2.06488919e-02 2.05054478e-02\n",
            " 2.03628166e-02 2.02209925e-02 2.00799698e-02 1.99397431e-02\n",
            " 1.98003067e-02 1.96616552e-02 1.95237830e-02 1.93866846e-02\n",
            " 1.92503547e-02 1.91147878e-02 1.89799785e-02 1.88459216e-02\n",
            " 1.87126116e-02 1.85800434e-02 1.84482116e-02 1.83171110e-02\n",
            " 1.81867365e-02 1.80570829e-02 1.79281450e-02 1.77999176e-02\n",
            " 1.76723959e-02 1.75455746e-02 1.74194487e-02 1.72940134e-02\n",
            " 1.71692634e-02 1.70451941e-02 1.69218003e-02 1.67990773e-02\n",
            " 1.66770202e-02 1.65556240e-02 1.64348841e-02 1.63147956e-02\n",
            " 1.61953538e-02 1.60765539e-02 1.59583913e-02 1.58408611e-02\n",
            " 1.57239589e-02 1.56076799e-02 1.54920196e-02 1.53769733e-02\n",
            " 1.52625365e-02 1.51487047e-02 1.50354733e-02 1.49228378e-02\n",
            " 1.48107939e-02 1.46993370e-02 1.45884628e-02 1.44781668e-02\n",
            " 1.43684447e-02 1.42592921e-02 1.41507047e-02 1.40426782e-02\n",
            " 1.39352082e-02 1.38282907e-02 1.37219212e-02 1.36160957e-02\n",
            " 1.35108098e-02 1.34060595e-02 1.33018405e-02 1.31981488e-02\n",
            " 1.30949803e-02 1.29923307e-02 1.28901962e-02 1.27885726e-02\n",
            " 1.26874558e-02 1.25868420e-02 1.24867271e-02 1.23871071e-02\n",
            " 1.22879781e-02 1.21893361e-02 1.20911773e-02 1.19934978e-02\n",
            " 1.18962936e-02 1.17995610e-02 1.17032961e-02 1.16074950e-02\n",
            " 1.15121541e-02 1.14172694e-02 1.13228373e-02 1.12288540e-02\n",
            " 1.11353158e-02 1.10422189e-02 1.09495597e-02 1.08573346e-02\n",
            " 1.07655397e-02 1.06741716e-02 1.05832266e-02 1.04927011e-02\n",
            " 1.04025915e-02 1.03128942e-02 1.02236056e-02 1.01347223e-02\n",
            " 1.00462408e-02 9.95815736e-03 9.87046869e-03 9.78317125e-03\n",
            " 9.69626158e-03 9.60973625e-03 9.52359181e-03 9.43782486e-03\n",
            " 9.35243200e-03 9.26740984e-03 9.18275501e-03 9.09846416e-03\n",
            " 9.01453394e-03 8.93096103e-03 8.84774212e-03 8.76487390e-03\n",
            " 8.68235310e-03 8.60017644e-03 8.51834066e-03 8.43684253e-03\n",
            " 8.35567880e-03 8.27484627e-03 8.19434173e-03 8.11416199e-03\n",
            " 8.03430387e-03 7.95476420e-03 7.87553983e-03 7.79662763e-03\n",
            " 7.71802446e-03 7.63972721e-03 7.56173278e-03 7.48403807e-03\n",
            " 7.40664000e-03 7.32953552e-03 7.25272155e-03 7.17619505e-03\n",
            " 7.09995300e-03 7.02399237e-03 6.94831015e-03 6.87290334e-03\n",
            " 6.79776895e-03 6.72290400e-03 6.64830553e-03 6.57397058e-03\n",
            " 6.49989620e-03 6.42607945e-03 6.35251742e-03 6.27920717e-03\n",
            " 6.20614582e-03 6.13333046e-03 6.06075821e-03 5.98842618e-03\n",
            " 5.91633152e-03 5.84447137e-03 5.77284287e-03 5.70144319e-03\n",
            " 5.63026950e-03 5.55931897e-03 5.48858880e-03 5.41807618e-03\n",
            " 5.34777831e-03 5.27769242e-03 5.20781571e-03 5.13814543e-03\n",
            " 5.06867881e-03 4.99941309e-03 4.93034554e-03 4.86147341e-03\n",
            " 4.79279397e-03 4.72430451e-03 4.65600230e-03 4.58788464e-03\n",
            " 4.51994884e-03 4.45219219e-03 4.38461201e-03 4.31720562e-03\n",
            " 4.24997035e-03 4.18290354e-03 4.11600253e-03 4.04926466e-03\n",
            " 3.98268729e-03 3.91626779e-03 3.85000351e-03 3.78389184e-03\n",
            " 3.71793015e-03 3.65211582e-03 3.58644626e-03 3.52091885e-03\n",
            " 3.45553099e-03 3.39028011e-03 3.32516360e-03 3.26017890e-03\n",
            " 3.19532342e-03 3.13059459e-03 3.06598984e-03 3.00150663e-03\n",
            " 2.93714238e-03 2.87289456e-03 2.80876060e-03 2.74473798e-03\n",
            " 2.68082415e-03 2.61701658e-03 2.55331274e-03 2.48971011e-03\n",
            " 2.42620616e-03 2.36279838e-03 2.29948425e-03 2.23626127e-03\n",
            " 2.17312692e-03 2.11007871e-03 2.04711414e-03 1.98423071e-03\n",
            " 1.92142593e-03 1.85869731e-03 1.79604236e-03 1.73345860e-03\n",
            " 1.67094355e-03 1.60849473e-03 1.54610967e-03 1.48378589e-03\n",
            " 1.42152092e-03 1.35931230e-03 1.29715755e-03 1.23505423e-03\n",
            " 1.17299985e-03 1.11099197e-03 1.04902813e-03 9.87105861e-04\n",
            " 9.25222723e-04 8.63376258e-04 8.01564014e-04 7.39783542e-04\n",
            " 6.78032393e-04 6.16308119e-04 5.54608273e-04 4.92930410e-04\n",
            " 4.31272086e-04 3.69630856e-04 3.08004277e-04 2.46389906e-04\n",
            " 1.84785299e-04 1.23187992e-04 6.15952166e-05 0.00000000e+00]\n"
          ]
        }
      ],
      "source": [
        "def IPM(A,x0,mu,tol=1e-20,nmax=500):\n",
        "    M = A -mu*np.eye(len(A))\n",
        "    P,L,U = scipy.linalg.lu(M)\n",
        "    err = tol + 1.\n",
        "    it = 0\n",
        "    q = x0/np.linalg.norm(x0,2)\n",
        "    while it < nmax and err > tol :\n",
        "        y = scipy.linalg.solve(L,np.dot(P.T,q))\n",
        "        x = scipy.linalg.solve(U,y)\n",
        "        q = x/np.linalg.norm(x,2)\n",
        "        z = np.dot(A,q)\n",
        "        l = np.dot(q.T,z)\n",
        "        err = np.linalg.norm(z-l*q,2)\n",
        "        it += 1\n",
        "    print(\"error =\", err, \"iterations =\", it)\n",
        "    print(\"lambda =\", l)\n",
        "    return l,q\n",
        "\n",
        "# compute IPM\n",
        "l, x = IPM(A, z0, 0)\n",
        "# use numpy library for comparing    \n",
        "l_np, x_np = np.linalg.eig(A)\n",
        "\n",
        "print(\"l_min =\", abs(l), \"\\nx_min =\", x)\n",
        "print(\"\\nNumpy Linalg\")\n",
        "\n",
        "print(\"l_min =\", min(abs(l_np)), \"\\nx_min =\", x_np[:, np.argmin(abs(l_np))])\n"
      ],
      "id": "opRbRUqKnvVD"
    },
    {
      "cell_type": "markdown",
      "metadata": {
        "id": "85d5f64e"
      },
      "source": [
        "Compute the inverse of the matrix A exploiting the derived LU factorization"
      ],
      "id": "85d5f64e"
    },
    {
      "cell_type": "code",
      "execution_count": 20,
      "metadata": {
        "colab": {
          "base_uri": "https://localhost:8080/"
        },
        "id": "MrdjqDk7WaCj",
        "outputId": "97ef9d6e-f1d3-48c5-b0a7-994e0e6bd3af"
      },
      "outputs": [
        {
          "output_type": "execute_result",
          "data": {
            "text/plain": [
              "array([[ 1.00000000e+00,  0.00000000e+00,  0.00000000e+00, ...,\n",
              "         0.00000000e+00,  0.00000000e+00,  0.00000000e+00],\n",
              "       [ 9.97995992e-01,  4.26105279e-05, -3.66378497e-05, ...,\n",
              "        -1.53161960e-07,  9.21959742e-08,  2.00400802e-03],\n",
              "       [ 9.95991984e-01,  4.55842496e-05, -7.32756993e-05, ...,\n",
              "        -3.06323919e-07,  1.84391948e-07,  4.00801603e-03],\n",
              "       ...,\n",
              "       [ 4.00801603e-03,  1.84391948e-07, -3.06323919e-07, ...,\n",
              "        -7.32756993e-05,  4.55842496e-05,  9.95991984e-01],\n",
              "       [ 2.00400802e-03,  9.21959742e-08, -1.53161960e-07, ...,\n",
              "        -3.66378497e-05,  4.26105279e-05,  9.97995992e-01],\n",
              "       [ 0.00000000e+00,  0.00000000e+00,  0.00000000e+00, ...,\n",
              "         0.00000000e+00,  0.00000000e+00,  1.00000000e+00]])"
            ]
          },
          "metadata": {},
          "execution_count": 20
        }
      ],
      "source": [
        "def inverseMatrix(A):\n",
        "    size = round(np.sqrt(A.size))\n",
        "    E = np.eye(size)\n",
        "    X = np.zeros_like(E)\n",
        "    W = np.zeros_like(E)\n",
        "    L, U = LU(A)\n",
        "\n",
        "    for i in range(size):\n",
        "        W[:, i:] = L_solve(L, E[:,i:])\n",
        "        X[:, i:] = U_solve(U, W[:,i:])\n",
        "  \n",
        "    #I = A@X  #uncomment for see identity matrix result of A@A**-1\n",
        "    #print(I) #uncomment for see identity matrix result of A@A**-1\n",
        "    return X\n",
        "\n",
        "inverseMatrix(A)"
      ],
      "id": "MrdjqDk7WaCj"
    },
    {
      "cell_type": "markdown",
      "metadata": {
        "id": "cb22566e"
      },
      "source": [
        "Consider the following Cauchy problem\n",
        "$$\n",
        "\\begin{cases}\n",
        "y'= -ty^2 \\quad 0\\le t \\le 2\\\\\n",
        "y(0) = 1\n",
        "\\end{cases}\n",
        "$$\n",
        "Implement a Backward Euler's method in a suitable function and solve the resulting non-linear equation using a Newton's method."
      ],
      "id": "cb22566e"
    },
    {
      "cell_type": "markdown",
      "metadata": {
        "id": "8RqlHYndnvVE"
      },
      "source": [
        "### Backward Euler\n",
        "\n",
        "$$\n",
        "\\frac{y_{n}-y_{n-1}}{h} = f(y_{n}, t_{n})\n",
        "$$\n",
        "\n",
        "witch led to this updating formula:\n",
        "\n",
        "$$\n",
        "y_{n} = y_{n-1} + h f(y_{n}, t_{n}) = y_{n-1} + h (-t) y_{n}^2 \n",
        "$$\n",
        "\n",
        "to find $y_n$ in:\n",
        "\n",
        "$$\n",
        "y_{n} = y_{n-1} + h (-t) y_{n}^2 \n",
        "$$\n",
        "\n",
        "we find zeros of function $g(y)$:\n",
        "\n",
        "$$\n",
        "g(y_n) = y_{n} - y_{n-1} - h (-t) y_{n}^2 = 0 \n",
        "$$\n",
        "\n",
        "so:\n",
        "\n",
        "$$\n",
        "g(y_n) = y_{n} - y_{n-1} + h t y_{n}^2\n",
        "$$"
      ],
      "id": "8RqlHYndnvVE"
    },
    {
      "cell_type": "markdown",
      "metadata": {
        "id": "f7ttiFPNnvVE"
      },
      "source": [
        "## Newton's method\n",
        "$$\n",
        "q^k = g^{\\prime}(y^k)\n",
        "$$\n",
        "\n",
        "$$\n",
        "y^{k+1} = y^k - \\frac{g(y^k)}{q^k}\n",
        "$$\n",
        "\n",
        "where:\n",
        "\n",
        "$$\n",
        "g^{\\prime}(y^k) = 2 h t y_n + 1\n",
        "$$"
      ],
      "id": "f7ttiFPNnvVE"
    },
    {
      "cell_type": "code",
      "execution_count": 21,
      "metadata": {
        "id": "f-EsI46QnvVK"
      },
      "outputs": [],
      "source": [
        "def newton(f,f_prime,x0,eps =1e-30 ,n_max =1000000 ):\n",
        "  err = abs(f(x0))\n",
        "  errors = [err]\n",
        "  it = 0\n",
        "  x = x0\n",
        "  while (err > eps and it < n_max):\n",
        "      qk = f_prime(x)\n",
        "      if abs(qk) < 1e-12:\n",
        "          raise RuntimeError(\"f_prime(x) is close to zero\")\n",
        "      x_new = x - f(x)/qk\n",
        "      err = abs(f(x_new))\n",
        "      x = x_new\n",
        "      errors.append(err)\n",
        "      it += 1\n",
        "  return x, errors"
      ],
      "id": "f-EsI46QnvVK"
    },
    {
      "cell_type": "code",
      "source": [
        "def be(y0, t0, tf, h):\n",
        "  timesteps = np.arange(t0, tf + 1e-10, h)\n",
        "  sol = np.zeros_like(timesteps)\n",
        "  sol[0] = y0\n",
        "  \n",
        "  for i in range(1, len(sol)):\n",
        "    t = timesteps[i-1]\n",
        "    f = lambda z: h * t * z**2 + z - sol[i-1]\n",
        "    f_prime = lambda z: 2 * h * t * z + 1\n",
        "    sol[i],_ = newton(f, f_prime, y0)\n",
        "  \n",
        "  return sol, timesteps"
      ],
      "metadata": {
        "id": "EmfD7t4rDijg"
      },
      "id": "EmfD7t4rDijg",
      "execution_count": 22,
      "outputs": []
    },
    {
      "cell_type": "code",
      "execution_count": 23,
      "metadata": {
        "colab": {
          "base_uri": "https://localhost:8080/",
          "height": 430
        },
        "id": "-foxSCPonvVK",
        "outputId": "fd630f3f-e520-494d-84e1-ea781489b503"
      },
      "outputs": [
        {
          "output_type": "display_data",
          "data": {
            "text/plain": [
              "<Figure size 640x480 with 1 Axes>"
            ],
            "image/png": "[encoded data removed]"
          },
          "metadata": {}
        }
      ],
      "source": [
        "t0 = 0\n",
        "tf = 2\n",
        "y0 = 1\n",
        "y, t = be(y0, t0, tf, 0.1)\n",
        "\n",
        "plt.plot(t, y, 'o-', label='Approximation')\n",
        "plt.legend()\n",
        "plt.grid()"
      ],
      "id": "-foxSCPonvVK"
    },
    {
      "cell_type": "markdown",
      "metadata": {
        "id": "VdOmjTR-nvVL"
      },
      "source": [
        "#### Exact solution\n",
        "$$\n",
        "y(x) = \\int{-t y^2(x) dx} = -t \\frac{y^3(x)}{3}\n",
        "$$\n",
        "\n",
        "OPPURE MEGLIO COSI?\n",
        "\n",
        "$$\n",
        "y = \\int{-t y^2 dy} = -t \\frac{y^3}{3} + C\n",
        "$$\n",
        "\n",
        "dato che deve essere $y(0) = 1$ allora $C = 1$"
      ],
      "id": "VdOmjTR-nvVL"
    },
    {
      "cell_type": "code",
      "source": [
        "# Definisci l'equazione differenziale\n",
        "def ode_func(t, y):\n",
        "    return -t*y**2  # Ad esempio, consideriamo l'equazione y' = t * y\n",
        "\n",
        "# Definisci le condizioni iniziali\n",
        "t0 = 0  # Tempo iniziale\n",
        "y0 = 1  # Valore iniziale di y(t0)\n",
        "\n",
        "# Definisci l'intervallo di tempo in cui risolvere l'ODE\n",
        "t_start = t0  # Inizio dell'intervallo di tempo\n",
        "t_end = 2  # Fine dell'intervallo di tempo\n",
        "num_points = 100  # Numero di punti di campionamento desiderati\n",
        "t_span = np.linspace(t_start, t_end, num_points)\n",
        "\n",
        "# Risolvi l'ODE con il passo di campionamento personalizzato\n",
        "sol = scipy.integrate.solve_ivp(ode_func, [t_start, t_end], [y0], t_eval=t_span)\n",
        "\n",
        "# Ottieni i risultati\n",
        "t = sol.t  # Array dei tempi\n",
        "y = sol.y[0]  # Array dei valori di y corrispondenti ai tempi\n",
        "\n",
        "# Stampa i risultati\n",
        "#for i in range(len(t)):\n",
        "#    print(f\"t: {t[i]}, y: {y[i]}\")\n",
        "ynostra, tnostra = be(y0, t0, tf, 0.1)\n",
        "plt.plot(sol.t,sol.y[0], label= 'numpy')\n",
        "plt.plot(tnostra,ynostra, label = 'approximation')\n",
        "plt.legend()\n"
      ],
      "metadata": {
        "id": "QyqDStZP6bMT",
        "outputId": "01df31c9-fb42-4545-def3-b7cfb69c1d87",
        "colab": {
          "base_uri": "https://localhost:8080/",
          "height": 447
        }
      },
      "id": "QyqDStZP6bMT",
      "execution_count": 24,
      "outputs": [
        {
          "output_type": "execute_result",
          "data": {
            "text/plain": [
              "<matplotlib.legend.Legend at 0x7f52511fded0>"
            ]
          },
          "metadata": {},
          "execution_count": 24
        },
        {
          "output_type": "display_data",
          "data": {
            "text/plain": [
              "<Figure size 640x480 with 1 Axes>"
            ],
            "image/png": "[encoded data removed]"
          },
          "metadata": {}
        }
      ]
    }
  ],
  "metadata": {
    "colab": {
      "provenance": [],
      "include_colab_link": true
    },
    "kernelspec": {
      "display_name": "Python 3",
      "language": "python",
      "name": "python3"
    },
    "language_info": {
      "codemirror_mode": {
        "name": "ipython",
        "version": 3
      },
      "file_extension": ".py",
      "mimetype": "text/x-python",
      "name": "python",
      "nbconvert_exporter": "python",
      "pygments_lexer": "ipython3",
      "version": "3.8.5"
    }
  },
  "nbformat": 4,
  "nbformat_minor": 5
}