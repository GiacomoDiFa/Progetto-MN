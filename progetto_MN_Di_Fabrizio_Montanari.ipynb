{
  "cells": [
    {
      "cell_type": "markdown",
      "metadata": {
        "id": "view-in-github",
        "colab_type": "text"
      },
      "source": [
        "<a href=\"https://colab.research.google.com/github/GiacomoDiFa/Progetto-MN/blob/main/progetto_MN_Di_Fabrizio_Montanari.ipynb\" target=\"_parent\"><img src=\"https://colab.research.google.com/assets/colab-badge.svg\" alt=\"Open In Colab\"/></a>"
      ]
    },
    {
      "cell_type": "code",
      "execution_count": 1,
      "metadata": {
        "id": "3fe94688"
      },
      "outputs": [],
      "source": [
        "%matplotlib inline\n",
        "import numpy as np\n",
        "import matplotlib.pyplot as plt\n",
        "import scipy.linalg\n",
        "import scipy.integrate"
      ],
      "id": "3fe94688"
    },
    {
      "cell_type": "markdown",
      "metadata": {
        "id": "405cafef"
      },
      "source": [
        "Compile the following notebook and share a link with me sending and e-mail to giovanni.stabile@uniurb.it at least one week before the oral examination. All the implemented function will have to be properly documented and commented."
      ],
      "id": "405cafef"
    },
    {
      "cell_type": "markdown",
      "metadata": {
        "id": "9d175179"
      },
      "source": [
        "Compile The following Cell with your information. In case it is a group project, put the info for all the group members\n",
        "\n",
        "Name1: Giacomo \\\n",
        "Surname1: Di Fabrizio\\\n",
        "Email1: \n",
        "\n",
        "Name2: Matteo Marco\\\n",
        "Surname2: Montanari\\\n",
        "Email2: "
      ],
      "id": "9d175179"
    },
    {
      "cell_type": "markdown",
      "metadata": {
        "id": "8184faab"
      },
      "source": [
        "Consider the following one-dimensional PDE:\n",
        "$$\n",
        "-u_{xx}(x) = f(x)\\quad\\mathrm{ in }\\ \\Omega = (0, \\pi)\n",
        "$$\n",
        "$$\n",
        "u(x) = 0, \\quad\\mathrm{ on }\\ \\partial\\Omega = \\{0, \\pi\\}\n",
        "$$\n",
        "\n",
        "Given the following $4^{th}$ order finite difference approximation of the second order derivative:\n",
        "\n",
        "$$u_{xx}(x_i) = \\frac{-u_{i-2}+16u_{i-1}-30u_i+16u_{i+1}-u_{i+2}}{12h^2}$$\n",
        "\n",
        "Implement a function that given the domain interval, the forcing function, the number of discretization points, the boundary conditions, returns the matrix $A$ and the the right hand side $b$."
      ],
      "id": "8184faab"
    },
    {
      "cell_type": "markdown",
      "metadata": {
        "id": "eCywEggtnvU7"
      },
      "source": [
        "# Mathematical Background"
      ],
      "id": "eCywEggtnvU7"
    },
    {
      "cell_type": "markdown",
      "metadata": {
        "id": "msxJQdVFnvU7"
      },
      "source": [
        "The physical interpretation of this problem is related to the modelling of an elastic string, which occupies at rest the space $[0, \\pi]$ and is fixed at the two extremes. The unknown $u(x)$ represents the displacement of the string at the point $x$, and the right-hand side models a prescribed force $f(x)$ on the string.\n",
        "\n",
        "For the numerical discretization of the problem, we consider a **Finite Difference (FD) Approximation**. Let $n$ be an integer, a consider a uniform subdivision of the interval $(0,\\pi)$ using $n$ equispaced points, denoted by $\\{x_i\\}_{i=0}^n$ . Moreover, let $u_i$ be the FD approximation of $u(x_i)$, and similarly $f_i \\approx f(x_i)$.\n",
        "\n",
        "In order to formulate the discrete problem, we consider a FD approximation of the left-hand side, as follows ($4^{th}$ order finite difference approximation of the second order derivative):\n",
        "\n",
        "$$u_{xx}(x_i) = \\frac{-u_{i-2}+16u_{i-1}-30u_i+16u_{i+1}-u_{i+2}}{12h^2} \\qquad \\text{for} \\qquad  i = 2, ..., n-2$$\n",
        "\n",
        "while we use the $2^{th}$ order finite difference approximation of the second order derivative for the remaining points $(i = 1, n-1)$:\n",
        "\n",
        "$$\n",
        "-u_{xx}(x_i) \\approx \\frac{-u_{i-1} + 2u_i - u_{i+1}}{h^2} \\qquad \\text{for} \\qquad  i = 1, n-1\n",
        "$$\n",
        "\n",
        "being $h = \\frac{1}{n-1}$ the size of each subinterval $(x_i, x_{i+1})$.\n",
        "\n",
        "Finally the problem that we need to solve is $(P) =$\n",
        "\n",
        "$$\n",
        "u_i = 0 \\qquad\\qquad\\qquad\\qquad\\qquad i=0\n",
        "$$\n",
        "\n",
        "$$\n",
        "\\frac{-u_{i-1} + 2u_i - u_{i+1}}{h^2} = f_i \\qquad\\qquad i=1\n",
        "$$\n",
        "\n",
        "$$\n",
        "\\frac{-u_{i-2}+16u_{i-1}-30u_i+16u_{i+1}-u_{i+2}}{12h^2} = - f_i \\qquad i=2, \\ldots, n-2\n",
        "$$\n",
        "\n",
        "$$\n",
        "\\frac{-u_{i-1} + 2u_i - u_{i+1}}{h^2} = f_i \\qquad\\qquad i=n-1\n",
        "$$\n",
        "\n",
        "$$\n",
        "u_i = 0 \\qquad\\qquad\\qquad\\qquad\\qquad i=n\n",
        "$$\n",
        "\n",
        "Then, let us collect al the unknowns $\\{u_i\\}_{i=0}^n$ in a vector $\\mathbf{u}$. Then, (P) is a linear system\n",
        "$$\n",
        "A \\mathbf{u} = \\mathbf{f}\n",
        "$$\n",
        "\n",
        "then $A$ is the matrix:\n",
        "\n",
        "\\begin{bmatrix}\n",
        "1  & 0  & 0  & 0 & 0 & 0 & 0 & 0 & 0\\\\\n",
        "-1/h^2 & +2/h^2 & -1/h^2 & 0 & 0 & ... & ... & ... & 0\\\\\n",
        "-1/12h^2 & +16/12h^2 & -30/12h^2 & +16/12h^2 & -1/12h^2 & 0 & ... & ... & 0\\\\\n",
        "0 & -1/12h^2 & +16/12h^2 & -30/12h^2 & +16/12h^2 & -1/12h^2 & 0 & ... & 0\\\\\n",
        "0 & 0 & -1/12h^2 & +16/12h^2 & -30/12h^2 & +16/12h^2 & -1/12h^2 & 0 & 0\\\\\n",
        "0 & ... & 0 & ... & ... & ... & ... & ... & 0 \\\\\n",
        "0 & ... & ... & 0 & -1/12h^2 & +16/12h^2 & -30/12h^2 & +16/12h^2 & -1/12h^2\\\\\n",
        "0 & ... & ... & ... & 0 & 0 & -1/h^2 & +2/h^2 & -1/h^2\\\\\n",
        "0 & 0 & 0 & 0 & 0 & 0 & 0 & 0 & 1\\\\\n",
        "\\end{bmatrix}"
      ],
      "id": "msxJQdVFnvU7"
    },
    {
      "cell_type": "code",
      "execution_count": 2,
      "metadata": {
        "id": "1c562f13"
      },
      "outputs": [],
      "source": [
        "# 4th order finite difference scheme\n",
        "def finDif(omega, f, n, bc):\n",
        "    \n",
        "    assert n > 4, \"n must be greater than 4!\"\n",
        "    assert omega[0] < omega[1], \"Discretization interval is not correct!\" \n",
        "    \n",
        "    # d(x, y) = | x - y |\n",
        "    h = np.abs(omega[0] - omega[1]) / (n - 1)\n",
        "        \n",
        "    x = np.linspace(0, 1, n)    \n",
        "    \n",
        "    # 4th order approximation term\n",
        "    termine_noto = -f(x)\n",
        "    # 2th order approximation term\n",
        "    termine_noto[1] = f(x[1])\n",
        "    termine_noto[-2] = f(x[-2])\n",
        "    # boundary conditions\n",
        "    termine_noto[0] = bc[0]\n",
        "    termine_noto[-1] = bc[1]\n",
        "\n",
        "    # create discretization matrix A\n",
        "    A = np.zeros((n, n))\n",
        "  \n",
        "    a = -np.ones((n-2, )) \n",
        "    b = 16*np.ones((n-1, ))\n",
        "    c = -30*np.ones((n, ))\n",
        "\n",
        "    A = (np.diag(a, -2) + np.diag(a, +2) + np.diag(b, -1) + np.diag(b, +1) + np.diag(c, 0))\n",
        "\n",
        "    A /= (12*h**2)\n",
        "    \n",
        "    A[0, :] = np.zeros(n)\n",
        "    A[1, :] = np.zeros(n)\n",
        "\n",
        "    A[n-1, :] = np.zeros(n)\n",
        "    A[n-2, :] = np.zeros(n)\n",
        "\n",
        "    A_second_row = np.array([-1.0, 2.0, -1.0]) / (h**2)\n",
        "    A_second_last_row = np.array([-1.0, 2.0, -1.0]) / (h**2)\n",
        "    \n",
        "    A[1, 0:3] = A_second_row\n",
        "    A[n-2, n-3:n] = A_second_last_row\n",
        "  \n",
        "    A[0, 0] = 1\n",
        "    A[-1, -1] = 1\n",
        "\n",
        "    return A, termine_noto"
      ],
      "id": "1c562f13"
    },
    {
      "cell_type": "code",
      "execution_count": 3,
      "metadata": {
        "colab": {
          "base_uri": "https://localhost:8080/"
        },
        "id": "iscHpCM1oDQ_",
        "outputId": "0084e81f-9ab0-4759-f007-42233ebd4e37"
      },
      "outputs": [
        {
          "output_type": "stream",
          "name": "stdout",
          "text": [
            "A =\n",
            "[[ 1.          0.          0.          0.          0.          0.        ]\n",
            " [-2.53302959  5.06605918 -2.53302959  0.          0.          0.        ]\n",
            " [-0.2110858   3.37737279 -6.33257398  3.37737279 -0.2110858   0.        ]\n",
            " [ 0.         -0.2110858   3.37737279 -6.33257398  3.37737279 -0.2110858 ]\n",
            " [ 0.          0.          0.         -2.53302959  5.06605918 -2.53302959]\n",
            " [ 0.          0.          0.          0.          0.          1.        ]]\n"
          ]
        }
      ],
      "source": [
        "omega = [0, np.pi]\n",
        "f = lambda x : np.sin(x)\n",
        "n = 6\n",
        "bc = [0, 0]\n",
        "A, b = finDif(omega, f, n, bc)\n",
        "print(\"A =\")\n",
        "print(A)"
      ],
      "id": "iscHpCM1oDQ_"
    },
    {
      "cell_type": "markdown",
      "metadata": {
        "id": "4f8a7c6f"
      },
      "source": [
        "Implement two functions that compute the LU and the Cholesky factorization of the system matrix $A$"
      ],
      "id": "4f8a7c6f"
    },
    {
      "cell_type": "code",
      "execution_count": 4,
      "metadata": {
        "id": "47468a37"
      },
      "outputs": [],
      "source": [
        "# LU factorization of matrix A\n",
        "def LU(A):\n",
        "    A = A.copy()\n",
        "    N=len(A)\n",
        "    for k in range(N-1):\n",
        "        if (abs(A[k,k]) < 1e-15):\n",
        "            raise RuntimeError(\"Null pivot\")\n",
        "            \n",
        "        A[k+1:N,k] /= A[k,k]\n",
        "        for j in range(k+1,N):\n",
        "            A[k+1:N,j] -= A[k+1:N,k]*A[k,j]\n",
        "    \n",
        "    L=np.tril(A)\n",
        "    for i in range(N):\n",
        "        L[i,i]=1.0\n",
        "    U = np.triu(A)\n",
        "    return L, U"
      ],
      "id": "47468a37"
    },
    {
      "cell_type": "code",
      "execution_count": 5,
      "metadata": {
        "id": "193ebfed"
      },
      "outputs": [],
      "source": [
        "# cholesky factorization\n",
        "def cholesky(A):\n",
        "    A = A.copy()\n",
        "    N = len(A)\n",
        "    for k in range(N-1):\n",
        "        A[k,k] = np.sqrt(A[k,k])\n",
        "        A[k+1:N,k] = A[k+1:N,k]/A[k,k]\n",
        "        \n",
        "        for j in range(k+1,N):\n",
        "            A[j:N,j] = A[j:N,j] - A[j:N,k]*A[j,k]\n",
        "        \n",
        "    A[-1,-1] = np.sqrt(A[-1,-1])\n",
        "    L=np.tril(A)\n",
        "    return L, L.transpose()"
      ],
      "id": "193ebfed"
    },
    {
      "cell_type": "markdown",
      "metadata": {
        "id": "41eb8436"
      },
      "source": [
        "Implement forward and backward substitution functions to exploit the developed factorization methods to solve the derived linear system of equations."
      ],
      "id": "41eb8436"
    },
    {
      "cell_type": "code",
      "execution_count": 6,
      "metadata": {
        "id": "019cf0df"
      },
      "outputs": [],
      "source": [
        "# forward substitution\n",
        "def L_solve(L,rhs):\n",
        "    x = np.zeros_like(rhs)\n",
        "    N = len(L)\n",
        "        \n",
        "    x[0] = rhs[0]/L[0,0]\n",
        "    \n",
        "    for i in range(1,N):\n",
        "        x[i] = (rhs[i] - np.dot(L[i, 0:i], x[0:i]))/L[i,i]\n",
        "    \n",
        "    return x"
      ],
      "id": "019cf0df"
    },
    {
      "cell_type": "code",
      "execution_count": 7,
      "metadata": {
        "id": "26ce17c4"
      },
      "outputs": [],
      "source": [
        "# backward substitution\n",
        "def U_solve(U,rhs):\n",
        "    x = np.zeros_like(rhs)\n",
        "    N = len(U)\n",
        "              \n",
        "    x[-1] = rhs[-1]/U[-1,-1]\n",
        "    \n",
        "    for i in reversed(range(N-1)):\n",
        "        x[i] = (rhs[i] -np.dot(U[i, i+1:N], x[i+1:N]))/U[i,i]\n",
        "    \n",
        "    return x"
      ],
      "id": "26ce17c4"
    },
    {
      "cell_type": "markdown",
      "metadata": {
        "id": "08ac9ba1"
      },
      "source": [
        "Solve the derived linear system using the implemented functions and plot the computed solution:"
      ],
      "id": "08ac9ba1"
    },
    {
      "cell_type": "code",
      "execution_count": 8,
      "metadata": {
        "colab": {
          "base_uri": "https://localhost:8080/",
          "height": 449
        },
        "id": "7c1de4f3",
        "outputId": "073b6a69-a8d4-4de9-d472-519728340761"
      },
      "outputs": [
        {
          "output_type": "display_data",
          "data": {
            "text/plain": [
              "<Figure size 640x480 with 1 Axes>"
            ],
            "image/png": "[encoded data removed]"
          },
          "metadata": {}
        }
      ],
      "source": [
        "omega = [0, np.pi]\n",
        "f = lambda x : np.sin(x)\n",
        "n = 20\n",
        "bc = [0, 0]\n",
        "\n",
        "A, b = finDif(omega, f, n, bc)\n",
        "L, U = LU(A)\n",
        "w = L_solve(L, b)\n",
        "u = U_solve(U, w)\n",
        "\n",
        "x = np.linspace(0, np.pi, n)\n",
        "plt.plot(x, u, 'ro')\n",
        "plt.xlabel('Omega')\n",
        "plt.ylabel('u')\n",
        "plt.grid()"
      ],
      "id": "7c1de4f3"
    },
    {
      "cell_type": "markdown",
      "metadata": {
        "id": "62cdfe65"
      },
      "source": [
        "Considering the new domain $\\Omega = (0,1)$ and the forcing term $f(x) = x(1-x)$ with B.C. $u(x) = 0$, on $\\partial \\Omega = \\{0,1\\}$ produce a plot and a table where you show the decay of the error w.r.t. the number of grid points.\n",
        "(The analytical solution for the above problems is $u_{an} = \\frac{x^4}{12} - \\frac{x^3}{6} + \\frac{x}{12}$)"
      ],
      "id": "62cdfe65"
    },
    {
      "cell_type": "code",
      "execution_count": 9,
      "metadata": {
        "colab": {
          "base_uri": "https://localhost:8080/",
          "height": 449
        },
        "id": "91212afb",
        "outputId": "db34257b-5a60-4eee-88c8-3dfc880d637a"
      },
      "outputs": [
        {
          "output_type": "display_data",
          "data": {
            "text/plain": [
              "<Figure size 640x480 with 1 Axes>"
            ],
            "image/png": "[encoded data removed]"
          },
          "metadata": {}
        }
      ],
      "source": [
        "omega_new = [0, 1]\n",
        "n_new = 100\n",
        "x_new = np.linspace(0, 1, n_new)\n",
        "f_new = lambda x_new : x_new*(1 - x_new)\n",
        "bc_new = [0, 0]\n",
        "A_new, b_new = finDif(omega_new, f_new, n_new, bc_new)\n",
        "A1_new = A_new.copy()\n",
        "u_new = np.linalg.solve(A1_new, b_new) \n",
        "\n",
        "u_ex = (x_new**4)/12.0 - (x_new**3)/6.0 + x_new/12.0\n",
        "\n",
        "# Plot the FD and exact solution\n",
        "plt.plot(x_new, u_new, 'ro', label='approx')\n",
        "plt.plot(x_new, u_ex, label='exact')\n",
        "plt.xlabel('Omega')\n",
        "plt.ylabel('u')\n",
        "plt.legend()\n",
        "plt.grid()"
      ],
      "id": "91212afb"
    },
    {
      "cell_type": "code",
      "execution_count": 10,
      "metadata": {
        "colab": {
          "base_uri": "https://localhost:8080/"
        },
        "id": "dEtJnRFLnvVA",
        "outputId": "4894ae90-1221-4470-d810-4118298ff394"
      },
      "outputs": [
        {
          "output_type": "stream",
          "name": "stdout",
          "text": [
            "1.9905417310394783e-08\n"
          ]
        }
      ],
      "source": [
        "# table where you show the decay of the error w.r.t. the number of grid points\n",
        "print(np.linalg.norm(u_ex - u_new, 2))"
      ],
      "id": "dEtJnRFLnvVA"
    },
    {
      "cell_type": "code",
      "execution_count": 11,
      "metadata": {
        "colab": {
          "base_uri": "https://localhost:8080/",
          "height": 465
        },
        "id": "GT-osuD1nvVA",
        "outputId": "f79a1c69-a93f-4fb8-b8c2-62eff7900f89"
      },
      "outputs": [
        {
          "output_type": "display_data",
          "data": {
            "text/plain": [
              "<Figure size 640x480 with 1 Axes>"
            ],
            "image/png": "[encoded data removed]"
          },
          "metadata": {}
        }
      ],
      "source": [
        "omega_new = [0, 1]\n",
        "bc_new = [0, 0]\n",
        "\n",
        "error = []\n",
        "n_points = np.array([x for x in range(10, 101)])\n",
        "\n",
        "for j in n_points:\n",
        "    x_new = np.linspace(0, 1, j)\n",
        "    f_new = lambda x_new : x_new*(1 - x_new)\n",
        "    u_ex = (x_new**4)/12.0 - (x_new**3)/6.0 + x_new/12.0\n",
        "\n",
        "    A_new, b_new = finDif(omega_new, f_new, j, bc_new)\n",
        "    A1_new = A_new.copy()\n",
        "    u_new = np.linalg.solve(A1_new, b_new) \n",
        "    \n",
        "    error.append(np.linalg.norm(u_ex - u_new, 2))\n",
        "    \n",
        "plt.plot(n_points, error)\n",
        "plt.xlabel('Number of discretization points')\n",
        "plt.ylabel('Error')\n",
        "plt.grid()"
      ],
      "id": "GT-osuD1nvVA"
    },
    {
      "cell_type": "code",
      "execution_count": 12,
      "metadata": {
        "colab": {
          "base_uri": "https://localhost:8080/"
        },
        "id": "YJ9oxuR4nvVB",
        "outputId": "477b49a6-5cff-4583-fb7f-fd8c7e8e445f"
      },
      "outputs": [
        {
          "output_type": "execute_result",
          "data": {
            "text/plain": [
              "{10: 8.182104913849225e-05,\n",
              " 11: 5.706190043777708e-05,\n",
              " 12: 4.115278746829856e-05,\n",
              " 13: 3.051750491708503e-05,\n",
              " 14: 2.3168609617246354e-05,\n",
              " 15: 1.7946045414151817e-05,\n",
              " 16: 1.4144027486156257e-05,\n",
              " 17: 1.1317631361057197e-05,\n",
              " 18: 9.177619391578304e-06,\n",
              " 19: 7.5308382678810345e-06,\n",
              " 20: 6.2452039891759625e-06,\n",
              " 21: 5.2284696168144255e-06,\n",
              " 22: 4.4149840113946926e-06,\n",
              " 23: 3.757224437859193e-06,\n",
              " 24: 3.2202585849810886e-06,\n",
              " 25: 2.778048103188456e-06,\n",
              " 26: 2.4109352684829296e-06,\n",
              " 27: 2.1039050656594176e-06,\n",
              " 28: 1.8453647937521708e-06,\n",
              " 29: 1.6262747785589246e-06,\n",
              " 30: 1.4395210936619862e-06,\n",
              " 31: 1.2794573244936942e-06,\n",
              " 32: 1.1415661472512682e-06,\n",
              " 33: 1.02220659077801e-06,\n",
              " 34: 9.184236512359627e-07,\n",
              " 35: 8.278033812434153e-07,\n",
              " 36: 7.483617302630032e-07,\n",
              " 37: 6.784586031810024e-07,\n",
              " 38: 6.167308304879536e-07,\n",
              " 39: 5.620396296155551e-07,\n",
              " 40: 5.134289901314642e-07,\n",
              " 41: 4.7009270690330147e-07,\n",
              " 42: 4.313478956282996e-07,\n",
              " 43: 3.9661375274939795e-07,\n",
              " 44: 3.6539433808174925e-07,\n",
              " 45: 3.372645788890978e-07,\n",
              " 46: 3.11858825484851e-07,\n",
              " 47: 2.8886152889802543e-07,\n",
              " 48: 2.679994073383377e-07,\n",
              " 49: 2.490350964745837e-07,\n",
              " 50: 2.3176180333197416e-07,\n",
              " 51: 2.159988064384265e-07,\n",
              " 52: 2.0158782081820903e-07,\n",
              " 53: 1.8838976547924333e-07,\n",
              " 54: 1.7628219497328872e-07,\n",
              " 55: 1.6515694021320322e-07,\n",
              " 56: 1.549183321457374e-07,\n",
              " 57: 1.4548156409514974e-07,\n",
              " 58: 1.3677115899340076e-07,\n",
              " 59: 1.2871996457657793e-07,\n",
              " 60: 1.2126798719400808e-07,\n",
              " 61: 1.1436158794806312e-07,\n",
              " 62: 1.0795282819384959e-07,\n",
              " 63: 1.0199847558837009e-07,\n",
              " 64: 9.645980675126713e-08,\n",
              " 65: 9.13019000657836e-08,\n",
              " 66: 8.649326129123388e-08,\n",
              " 67: 8.20053576366445e-08,\n",
              " 68: 7.781248829158234e-08,\n",
              " 69: 7.389125357364217e-08,\n",
              " 70: 7.02204591872991e-08,\n",
              " 71: 6.678083814301314e-08,\n",
              " 72: 6.355481797230707e-08,\n",
              " 73: 6.052647342305983e-08,\n",
              " 74: 5.768110174405043e-08,\n",
              " 75: 5.5005443838355e-08,\n",
              " 76: 5.248731308326042e-08,\n",
              " 77: 5.011544161085609e-08,\n",
              " 78: 4.787958087601654e-08,\n",
              " 79: 4.577039675939254e-08,\n",
              " 80: 4.377915237089644e-08,\n",
              " 81: 4.1897940816694976e-08,\n",
              " 82: 4.0119403097750126e-08,\n",
              " 83: 3.8436729761844486e-08,\n",
              " 84: 3.684367621330949e-08,\n",
              " 85: 3.533461463700578e-08,\n",
              " 86: 3.3904061696812614e-08,\n",
              " 87: 3.254714003788833e-08,\n",
              " 88: 3.1259262607191134e-08,\n",
              " 89: 3.0036177030850275e-08,\n",
              " 90: 2.887377247726215e-08,\n",
              " 91: 2.7768766478546378e-08,\n",
              " 92: 2.6717496328949794e-08,\n",
              " 93: 2.5716817542234907e-08,\n",
              " 94: 2.4763810330908236e-08,\n",
              " 95: 2.3855746618950487e-08,\n",
              " 96: 2.2990028864664777e-08,\n",
              " 97: 2.216432733098675e-08,\n",
              " 98: 2.137634855071883e-08,\n",
              " 99: 2.0624065083765488e-08,\n",
              " 100: 1.9905417310394783e-08}"
            ]
          },
          "metadata": {},
          "execution_count": 12
        }
      ],
      "source": [
        "# NB python dictionaries\n",
        "tab = {n : e for n, e in zip(n_points, error)}\n",
        "tab"
      ],
      "id": "YJ9oxuR4nvVB"
    },
    {
      "cell_type": "markdown",
      "metadata": {
        "id": "c8d5002f"
      },
      "source": [
        "Exploit the derived LU factorizations to compute the determinant of the system's matrix $A$ using the original problem formulation."
      ],
      "id": "c8d5002f"
    },
    {
      "cell_type": "code",
      "execution_count": 13,
      "metadata": {
        "colab": {
          "base_uri": "https://localhost:8080/"
        },
        "id": "A34ityJaYypS",
        "outputId": "97c67528-7f7f-44a8-c867-8cdec2056eae"
      },
      "outputs": [
        {
          "output_type": "stream",
          "name": "stdout",
          "text": [
            "2.2467218050587637e+48\n",
            "2.2467218050586745e+48\n"
          ]
        }
      ],
      "source": [
        "def determinant(A):\n",
        "    L, U = LU(A)\n",
        "    size = A.shape[0]\n",
        "    determinant = 1\n",
        "    \n",
        "    for i in range(size):\n",
        "        determinant *= U[i, i]\n",
        "\n",
        "    return determinant\n",
        "\n",
        "omega_new = [0, 1]\n",
        "n_new = 20\n",
        "x_new = np.linspace(0, 1, n_new)\n",
        "f_new = lambda x_new : x_new*(1 - x_new)\n",
        "bc_new = [0, 0]\n",
        "A_new, b_new = finDif(omega_new, f_new, n_new, bc_new)\n",
        "\n",
        "print(determinant(A_new))\n",
        "print(np.linalg.det(A_new))"
      ],
      "id": "A34ityJaYypS"
    },
    {
      "cell_type": "code",
      "execution_count": 14,
      "metadata": {
        "colab": {
          "base_uri": "https://localhost:8080/"
        },
        "id": "c25fc1fe",
        "outputId": "323189cd-0c5f-4337-9468-1939a69c7e34"
      },
      "outputs": [
        {
          "output_type": "execute_result",
          "data": {
            "text/plain": [
              "6033.525045137745"
            ]
          },
          "metadata": {},
          "execution_count": 14
        }
      ],
      "source": [
        "def condNumb(A):\n",
        "    condNu = np.linalg.cond(A)\n",
        "    return condNu\n",
        "\n",
        "condNumb(A_new)\n",
        "# forse si deve fare diversamente? Boohh che poi il prof si è confuso secondo me perchè chiedeva di calcolare il determinante\n",
        "# (vedi cella sopra) e non il numero di condizionamento"
      ],
      "id": "c25fc1fe"
    },
    {
      "cell_type": "code",
      "execution_count": 15,
      "metadata": {
        "colab": {
          "base_uri": "https://localhost:8080/"
        },
        "id": "Squ_XCyvnvVC",
        "outputId": "74808af9-e1f5-4e21-e472-82764d0049a3"
      },
      "outputs": [
        {
          "output_type": "stream",
          "name": "stdout",
          "text": [
            "6033.525045137745\n",
            "6033.525045135221\n"
          ]
        }
      ],
      "source": [
        "# ho trovato questa formula ma mi sa che non fa\n",
        "def condNum(A):\n",
        "    return np.linalg.norm(A,2) * np.linalg.norm(np.linalg.inv(A),2)\n",
        "\n",
        "#def condNumWithOurInverse(A):\n",
        "#  return np.linalg.norm(A,2) * np.linalg.norm(inverseMatrix(A),2)\n",
        "\n",
        "print(np.linalg.cond(A_new))\n",
        "print(condNum(A_new))\n",
        "#print(condNumWithOurInverse(A))"
      ],
      "id": "Squ_XCyvnvVC"
    },
    {
      "cell_type": "markdown",
      "metadata": {
        "id": "2728b49a"
      },
      "source": [
        "Implement a preconditioned Conjugant Gradient method to solve the original linear system of equations using an iterative method:"
      ],
      "id": "2728b49a"
    },
    {
      "cell_type": "code",
      "execution_count": 16,
      "metadata": {
        "id": "0Y-XHrm5Ca_y"
      },
      "outputs": [],
      "source": [
        "def conjugate_gradient(A, b, P, nmax=len(A), eps=1e-10):\n",
        "    N=len(A)\n",
        "    x = np.zeros_like(b)\n",
        "    tol = eps + 1\n",
        "    it = 0\n",
        "    r = b - np.dot(A,x)\n",
        "    rho_old = 1.\n",
        "    p_old = np.zeros_like(b)\n",
        "    while (it < nmax and tol > eps):\n",
        "        it += 1\n",
        "        z = np.linalg.solve(P,r)\n",
        "        rho = np.dot(r,z)\n",
        "        if (it > 1):\n",
        "            beta = rho/rho_old\n",
        "            p = z + beta*p_old\n",
        "        else:\n",
        "            p = z\n",
        "        q = np.dot(A,p)\n",
        "        alpha = rho/(np.dot(p,q))\n",
        "        x += p*alpha\n",
        "        r -= q*alpha\n",
        "        \n",
        "        p_old = p\n",
        "        rho_old = rho\n",
        "        \n",
        "        tol = np.linalg.norm(r,2)\n",
        "        \n",
        "    print('n iterazioni:\\t', it)\n",
        "    print('Tolleranza:\\t', tol)\n",
        "    return x"
      ],
      "id": "0Y-XHrm5Ca_y"
    },
    {
      "cell_type": "code",
      "execution_count": 17,
      "metadata": {
        "colab": {
          "base_uri": "https://localhost:8080/",
          "height": 499
        },
        "id": "oeIfcvFUnvVC",
        "outputId": "bdc9dedb-68c9-41fa-8565-906cf55e34fd"
      },
      "outputs": [
        {
          "output_type": "stream",
          "name": "stdout",
          "text": [
            "n iterazioni:\t 20\n",
            "Tolleranza:\t 13.778323639478318\n",
            "Errore:\t\t 0.6006359763338985\n"
          ]
        },
        {
          "output_type": "execute_result",
          "data": {
            "text/plain": [
              "<matplotlib.legend.Legend at 0x7f0af0aea4a0>"
            ]
          },
          "metadata": {},
          "execution_count": 17
        },
        {
          "output_type": "display_data",
          "data": {
            "text/plain": [
              "<Figure size 640x480 with 1 Axes>"
            ],
            "image/png": "[encoded data removed]"
          },
          "metadata": {}
        }
      ],
      "source": [
        "sol_conjugate_gradient = conjugate_gradient(A, b, np.identity(len(A)))\n",
        "print('Errore:\\t\\t', np.linalg.norm(sol_conjugate_gradient - u)/np.linalg.norm(u))\n",
        "#non so se torna, ho copiato i codici paro paro\n",
        "#forse non torna perchè la matrice fa cagare?\n",
        "x_newnew = np.linspace(0, np.pi, n)\n",
        "plt.plot(x_newnew, sol_conjugate_gradient, label='conjugate gradient')\n",
        "plt.plot(x_newnew, u, label='LU solution')\n",
        "plt.legend()"
      ],
      "id": "oeIfcvFUnvVC"
    },
    {
      "cell_type": "markdown",
      "metadata": {
        "id": "8a4cfc02"
      },
      "source": [
        "Consider the following time dependent variation of the PDE starting from the orginal problem formulation:\n",
        "$$\n",
        "u'(t)-u_{xx} = \\alpha(t)f(x)\n",
        "$$\n",
        "\n",
        "for $t\\in [0,T]$, with $\\alpha(t) = \\cos(t)$ and $T = 6\\pi$\n",
        "\n",
        "Use the same finite difference scheme to derive the semi-discrete formulation and solve it using a forward Euler's method.\n",
        "\n",
        "Plot the time dependent solution solution at $x = \\pi/2$, $x=1$, \n",
        "$x=\\pi$\n"
      ],
      "id": "8a4cfc02"
    },
    {
      "cell_type": "code",
      "execution_count": 18,
      "metadata": {
        "id": "3ffe0689"
      },
      "outputs": [],
      "source": [
        "#TODO"
      ],
      "id": "3ffe0689"
    },
    {
      "cell_type": "markdown",
      "metadata": {
        "id": "36936121"
      },
      "source": [
        "Given the original $Au = b$ system, implement an algorithm to compute the largest and smallest eigenvalues and the associated eigenvectors of the matrix $A$."
      ],
      "id": "36936121"
    },
    {
      "cell_type": "code",
      "execution_count": 19,
      "metadata": {
        "id": "-jomtbRSCa_z"
      },
      "outputs": [],
      "source": [
        "# let's implement Power Method\n",
        "z0 = np.ones_like(b)\n",
        "\n",
        "def PM(A, z0, tol=1e-20, nmax=40000):\n",
        "\n",
        "    z = z0\n",
        "    \n",
        "    it = 0\n",
        "    eps = tol + 1\n",
        "    while (it < nmax and eps > tol):\n",
        "        it += 1\n",
        "        \n",
        "        q = z / (np.linalg.norm(z))\n",
        "\n",
        "        if (it == 1):\n",
        "            l_km1 = q.T @ z\n",
        "        else:\n",
        "            l_km1 = l.copy()\n",
        "\n",
        "        z = A @ q\n",
        "\n",
        "        l = q.T @ z\n",
        "\n",
        "        #eps = np.linalg.norm(l_km1 - l) / np.linalg.norm(l)\n",
        "\n",
        "        # Ax = lx <=> ||Ax - lx||_2 = 0\n",
        "        eps = np.linalg.norm(A @ q - l * q, 2) \n",
        "    \n",
        "    print(\"Iterazioni:\", it, \"\\nTolleranza:\", eps)\n",
        "\n",
        "    return l, q"
      ],
      "id": "-jomtbRSCa_z"
    },
    {
      "cell_type": "code",
      "execution_count": 20,
      "metadata": {
        "colab": {
          "base_uri": "https://localhost:8080/"
        },
        "id": "XE2WN8F2Ca_z",
        "outputId": "5aa4ac9b-6c0d-49c9-ff5b-5d0602388085"
      },
      "outputs": [
        {
          "output_type": "stream",
          "name": "stdout",
          "text": [
            "Iterazioni: 40000 \n",
            "Tolleranza: 1.2434497875801753e-14\n",
            "l_max = -186.7652164282855 \n",
            "x_max = [ 0.         -0.01651192 -0.11733521  0.22675692 -0.30551472  0.34230281\n",
            " -0.33209835  0.27630073 -0.18257038  0.06377532  0.06377532 -0.18257038\n",
            "  0.27630073 -0.33209835  0.34230281 -0.30551472  0.22675692 -0.11733521\n",
            " -0.01651192  0.        ]\n",
            "\n",
            "Numpy Linalg\n",
            "l_max = 192.97092729708658 \n",
            "x_max = [ 0.         -0.00820075 -0.05966664  0.12123758 -0.17884896  0.23025749\n",
            " -0.27369794  0.30766613 -0.33098653  0.34285205 -0.34285205  0.33098653\n",
            " -0.30766613  0.27369794 -0.23025749  0.17884896 -0.12123758  0.05966664\n",
            "  0.00820075  0.        ]\n"
          ]
        }
      ],
      "source": [
        "# compute PM\n",
        "l, x = PM(A, z0)\n",
        "# use numpy library for comparing    \n",
        "l_np, x_np = np.linalg.eig(A)\n",
        "\n",
        "print(\"l_max =\", l, \"\\nx_max =\", x)\n",
        "print(\"\\nNumpy Linalg\")\n",
        "# autovalore ed autovettore di modulo massimo\n",
        "print(\"l_max =\", max(abs(l_np)), \"\\nx_max =\", x_np[:, np.argmax(abs(l_np))])\n",
        "# qua e' strano perche la tolleranza viene bassa ma l'errore mi sembra alto quindi non ha \n",
        "# senso ma il codice mi sembra giusto"
      ],
      "id": "XE2WN8F2Ca_z"
    },
    {
      "cell_type": "markdown",
      "metadata": {
        "id": "pw4_htsyCa_0"
      },
      "source": [
        "## chatgpt\n",
        "Se ottieni risultati diversi utilizzando la libreria NumPy per calcolare gli autovalori e gli autovettori rispetto al tuo metodo delle potenze, potrebbe esserci una differenza nella precisione numerica o nella gestione degli errori tra le due implementazioni.\n",
        "\n",
        "Il metodo delle potenze è un algoritmo iterativo che può richiedere un numero elevato di iterazioni per convergere alla soluzione desiderata, specialmente se la matrice è malcondizionata o ha autovalori multipli. La precisione numerica e la gestione degli errori possono influire sul comportamento dell'algoritmo e sulla sua capacità di convergere correttamente.\n",
        "\n",
        "Ecco alcune considerazioni da tenere a mente:\n",
        "\n",
        "1. Tolleranza: Assicurati di aver impostato una tolleranza adeguata per il tuo metodo delle potenze e per il confronto dei risultati. Se la tolleranza è troppo bassa, potrebbe essere necessario un numero maggiore di iterazioni per raggiungere la convergenza. D'altra parte, se la tolleranza è troppo alta, potresti ottenere risultati meno accurati.\n",
        "\n",
        "2. Condizionamento della matrice: Il condizionamento della matrice può influire sulla convergenza del metodo delle potenze. Se la matrice è malcondizionata o ha autovalori molto simili in valore assoluto, potrebbe essere più difficile ottenere una convergenza accurata.\n",
        "\n",
        "3. Precisione numerica: La precisione numerica delle operazioni matematiche può influire sulle iterazioni dell'algoritmo. Assicurati di utilizzare un tipo di dato appropriato per le tue operazioni, ad esempio il tipo `float64` di NumPy, che offre una precisione maggiore rispetto a `float32`.\n",
        "\n",
        "4. Implementazione del metodo delle potenze: Verifica attentamente la tua implementazione del metodo delle potenze per assicurarti che sia corretta e coerente con l'algoritmo corretto. Controlla che le operazioni matematiche vengano eseguite correttamente e che le dimensioni delle matrici e dei vettori siano gestite correttamente.\n",
        "\n",
        "Se hai effettuato tutte queste verifiche e persistono ancora differenze significative tra i risultati ottenuti con il tuo metodo delle potenze e quelli ottenuti con NumPy, potrebbe essere necessario esaminare ulteriormente il codice per individuare eventuali errori o anomalie."
      ],
      "id": "pw4_htsyCa_0"
    },
    {
      "cell_type": "markdown",
      "metadata": {
        "id": "D8fGcCXBCa_0"
      },
      "source": [
        "# chatgpt2\n",
        "Se aumentando il numero di iterazioni nel tuo metodo delle potenze ottieni risultati molto simili a quelli ottenuti con NumPy, ma la tolleranza richiesta è molto alta, potrebbe essere dovuto a una lenta convergenza dell'algoritmo o a una matrice con autovalori molto simili in valore assoluto.\n",
        "\n",
        "Ecco alcune possibili spiegazioni:\n",
        "\n",
        "1. Convergenza lenta: Il metodo delle potenze può richiedere un numero elevato di iterazioni per convergere completamente, specialmente se la matrice ha autovalori multipli o autovalori con moduli simili. In alcuni casi, potrebbe essere necessario un numero di iterazioni molto elevato per raggiungere una buona approssimazione dell'autovalore dominante e dell'autovettore corrispondente.\n",
        "\n",
        "2. Autovalori simili in valore assoluto: Se la matrice ha autovalori molto simili in valore assoluto, il metodo delle potenze potrebbe avere difficoltà a distinguere l'autovalore dominante dagli altri. In questi casi, potrebbe essere necessario un numero molto elevato di iterazioni per ottenere una convergenza accurata.\n",
        "\n",
        "3. Matrice malcondizionata: Se la matrice è malcondizionata, cioè ha un elevato numero di condizionamento, potrebbe essere più difficile ottenere una convergenza accurata con il metodo delle potenze. Il condizionamento della matrice può influire sulla stabilità numerica e sulla capacità dell'algoritmo di raggiungere la soluzione desiderata.\n",
        "\n",
        "Aumentare il numero di iterazioni può compensare la lenta convergenza, permettendo all'algoritmo di avvicinarsi maggiormente alla soluzione. Tuttavia, ciò potrebbe richiedere una tolleranza più alta per considerare i risultati come \"simili\" a quelli ottenuti con NumPy.\n",
        "\n",
        "È importante notare che il metodo delle potenze è un algoritmo iterativo e può richiedere un certo grado di sperimentazione e adattamento dei parametri per ottenere risultati accurati in base alle caratteristiche specifiche della matrice con cui stai lavorando."
      ],
      "id": "D8fGcCXBCa_0"
    },
    {
      "cell_type": "code",
      "execution_count": 21,
      "metadata": {
        "colab": {
          "base_uri": "https://localhost:8080/"
        },
        "id": "5qwkso-OCa_0",
        "outputId": "44976535-9449-4126-bb30-96a22ceecff3"
      },
      "outputs": [
        {
          "output_type": "stream",
          "name": "stdout",
          "text": [
            "Iterazioni: 21 \n",
            "Tolleranza: 7.234053636088146e-11\n",
            "l_min = 1.0000000000694715 \n",
            "x_min = [0.3367937  0.30546188 0.26577884 0.2321758  0.20484835 0.18312796\n",
            " 0.16642524 0.1542829  0.14636825 0.14246441 0.14246441 0.14636825\n",
            " 0.1542829  0.16642524 0.18312796 0.20484835 0.2321758  0.26577884\n",
            " 0.30546188 0.3367937 ]\n",
            "\n",
            "Numpy Linalg\n",
            "l_min = 1.0 \n",
            "x_min = [-0.51462089 -0.45851798 -0.38987936 -0.33011861 -0.27927395 -0.23607265\n",
            " -0.19933959 -0.16806883 -0.14140352 -0.11861298 -0.09907269 -0.08224722\n",
            " -0.06767549 -0.05495823 -0.04374694 -0.0337344  -0.02464609 -0.0162308\n",
            " -0.00822787 -0.        ]\n"
          ]
        }
      ],
      "source": [
        "# QUESTO E' CORRETTO !!!!\n",
        "\n",
        "# let's implement Inverse Power Method\n",
        "def IPM(A, x0, mu, tol=1e-10, nmax=500):\n",
        "\n",
        "    M = A - mu * np.identity(A.shape[0])\n",
        "    P, L, U = scipy.linalg.lu(M)\n",
        "    \n",
        "    it = 0\n",
        "    eps = tol + 1\n",
        "    while (it<nmax and eps > tol):\n",
        "        it += 1\n",
        "        \n",
        "        if (it == 1):\n",
        "            q_km1 = x0 / np.linalg.norm(x0)\n",
        "        else:\n",
        "            q_km1 = q.copy()\n",
        "\n",
        "        # NB decomposizione LU con precondizionatore P\n",
        "        # M x_k = q_k-1 <=> LUx = P.T b\n",
        "        # Ly = P.T b\n",
        "        y = scipy.linalg.solve_triangular(L, P.T@q_km1, lower= True)\n",
        "        # Ux = y\n",
        "        x = scipy.linalg.solve_triangular(U, y, lower=False)\n",
        "        \n",
        "        # same as (- efficiente)\n",
        "        # M x_k = q_k-1\n",
        "        # x = numpy.linalg.solve(M, q_km1)\n",
        "\n",
        "        q = x / np.linalg.norm(x)\n",
        "        \n",
        "        z = A @ q\n",
        "\n",
        "        if (it == 1):\n",
        "            l_km1 = q.T @ z\n",
        "        else:\n",
        "            l_km1 = l.copy()\n",
        "\n",
        "        l = q.T @ z\n",
        "\n",
        "        #eps = np.linalg.norm(l_km1 - l) / np.linalg.norm(l)\n",
        "\n",
        "        # Ax = lx <=> ||Ax - lx||_2 = 0\n",
        "        eps = np.linalg.norm(A @ q - l * q) \n",
        "    \n",
        "    print(\"Iterazioni:\", it, \"\\nTolleranza:\", eps)\n",
        "\n",
        "    return l, q  \n",
        "\n",
        "# compute IPM\n",
        "l, x = IPM(A, z0, 0.5)\n",
        "# use numpy library for comparing    \n",
        "l_np, x_np = np.linalg.eig(A)\n",
        "\n",
        "print(\"l_min =\", l, \"\\nx_min =\", x)\n",
        "print(\"\\nNumpy Linalg\")\n",
        "# se x e' autovalore anche alpha*x lo e' (per ogni alpha != 0)\n",
        "# NB alpha = -1\n",
        "# autovalore ed autovettore di modulo minimo\n",
        "print(\"l_min =\", min(abs(l_np)), \"\\nx_min =\", -x_np[:, np.argmin(abs(l_np))])\n",
        "\n",
        "# questo torna quasi perfetto per lambda quindi penso sia giusto\n",
        "# dipende da come metti lo shift comunque"
      ],
      "id": "5qwkso-OCa_0"
    },
    {
      "cell_type": "markdown",
      "metadata": {
        "id": "85d5f64e"
      },
      "source": [
        "Compute the inverse of the matrix A exploiting the derived LU factorization"
      ],
      "id": "85d5f64e"
    },
    {
      "cell_type": "code",
      "execution_count": 22,
      "metadata": {
        "colab": {
          "base_uri": "https://localhost:8080/"
        },
        "id": "MrdjqDk7WaCj",
        "outputId": "e89c36fd-b1f5-4e79-b8ca-eb1d78be20d8"
      },
      "outputs": [
        {
          "output_type": "execute_result",
          "data": {
            "text/plain": [
              "array([[ 1.        ,  0.        ,  0.        ,  0.        ,  0.        ,\n",
              "         0.        ,  0.        ,  0.        ,  0.        ,  0.        ,\n",
              "         0.        ,  0.        ,  0.        ,  0.        ,  0.        ,\n",
              "         0.        ,  0.        ,  0.        ,  0.        ,  0.        ],\n",
              "       [ 0.94736842,  0.02778421, -0.02260218, -0.02288933, -0.02157433,\n",
              "        -0.0201443 , -0.01870601, -0.01726713, -0.0158282 , -0.01438928,\n",
              "        -0.01295035, -0.01151142, -0.01007249, -0.00863356, -0.0071946 ,\n",
              "        -0.00575518, -0.00430937, -0.00277454,  0.00167014,  0.05263158],\n",
              "       [ 0.89473684,  0.0282288 , -0.04520437, -0.04577866, -0.04314866,\n",
              "        -0.0402886 , -0.03741202, -0.03453426, -0.03165641, -0.02877855,\n",
              "        -0.0259007 , -0.02302284, -0.02014499, -0.01726713, -0.0143892 ,\n",
              "        -0.01151036, -0.00861873, -0.00554909,  0.00334028,  0.10526316],\n",
              "       [ 0.84210526,  0.02671049, -0.04425179, -0.06697683, -0.06460157,\n",
              "        -0.06042418, -0.0561174 , -0.05180134, -0.04748461, -0.04316783,\n",
              "        -0.03885105, -0.03453426, -0.03021748, -0.02590069, -0.0215838 ,\n",
              "        -0.01726553, -0.0129281 , -0.00832363,  0.00501042,  0.15789474],\n",
              "       [ 0.78947368,  0.02505125, -0.04160805, -0.06449883, -0.0843546 ,\n",
              "        -0.08043771, -0.07481402, -0.06906779, -0.06331276, -0.0575571 ,\n",
              "        -0.05180139, -0.04604568, -0.04028997, -0.03453425, -0.0287784 ,\n",
              "        -0.02302071, -0.01723746, -0.01109818,  0.00668056,  0.21052632],\n",
              "       [ 0.73684211,  0.02338189, -0.0388429 , -0.06032095, -0.08043083,\n",
              "        -0.09875133, -0.0933886 , -0.08632548, -0.07914029, -0.07194633,\n",
              "        -0.06475174, -0.0575571 , -0.05036246, -0.04316781, -0.035973  ,\n",
              "        -0.02877589, -0.02154683, -0.01387272,  0.0083507 ,  0.26315789],\n",
              "       [ 0.68421053,  0.02171181, -0.03606903, -0.05602102, -0.07480714,\n",
              "        -0.09338814, -0.11026325, -0.10346112, -0.09495905, -0.08633493,\n",
              "        -0.07770204, -0.06906852, -0.06043496, -0.05180138, -0.0431676 ,\n",
              "        -0.03453107, -0.02585619, -0.01664727,  0.01002084,  0.31578947],\n",
              "       [ 0.63157895,  0.02004168, -0.03329453, -0.05171233, -0.0690614 ,\n",
              "        -0.08632503, -0.10346109, -0.11889685, -0.11065577, -0.10071476,\n",
              "        -0.09065171, -0.08057989, -0.07050745, -0.06043494, -0.0503622 ,\n",
              "        -0.04028624, -0.03016556, -0.01942181,  0.01169098,  0.36842105],\n",
              "       [ 0.57894737,  0.01837154, -0.03051999, -0.04740302, -0.0633069 ,\n",
              "        -0.07913987, -0.09495902, -0.11065576, -0.12465256, -0.11497255,\n",
              "        -0.10359262, -0.09209064, -0.08057989, -0.0690685 , -0.0575568 ,\n",
              "        -0.04604142, -0.03447492, -0.02219636,  0.01336112,  0.42105263],\n",
              "       [ 0.52631579,  0.0167014 , -0.02774545, -0.04309365, -0.05755177,\n",
              "        -0.07194595, -0.0863349 , -0.10071476, -0.11497255, -0.12753042,\n",
              "        -0.11641148, -0.10359262, -0.09065171, -0.07770201, -0.06475139,\n",
              "        -0.0517966 , -0.03878429, -0.0249709 ,  0.01503126,  0.47368421],\n",
              "       [ 0.47368421,  0.01503126, -0.0249709 , -0.03878429, -0.0517966 ,\n",
              "        -0.06475139, -0.07770201, -0.09065171, -0.10359262, -0.11641148,\n",
              "        -0.12753042, -0.11497255, -0.10071476, -0.0863349 , -0.07194595,\n",
              "        -0.05755177, -0.04309365, -0.02774545,  0.0167014 ,  0.52631579],\n",
              "       [ 0.42105263,  0.01336112, -0.02219636, -0.03447492, -0.04604142,\n",
              "        -0.0575568 , -0.0690685 , -0.08057989, -0.09209064, -0.10359262,\n",
              "        -0.11497255, -0.12465256, -0.11065576, -0.09495902, -0.07913987,\n",
              "        -0.0633069 , -0.04740302, -0.03051999,  0.01837154,  0.57894737],\n",
              "       [ 0.36842105,  0.01169098, -0.01942181, -0.03016556, -0.04028624,\n",
              "        -0.0503622 , -0.06043494, -0.07050745, -0.08057989, -0.09065171,\n",
              "        -0.10071476, -0.11065577, -0.11889685, -0.10346109, -0.08632503,\n",
              "        -0.0690614 , -0.05171233, -0.03329453,  0.02004168,  0.63157895],\n",
              "       [ 0.31578947,  0.01002084, -0.01664727, -0.02585619, -0.03453107,\n",
              "        -0.0431676 , -0.05180138, -0.06043496, -0.06906852, -0.07770204,\n",
              "        -0.08633493, -0.09495905, -0.10346112, -0.11026325, -0.09338814,\n",
              "        -0.07480714, -0.05602102, -0.03606903,  0.02171181,  0.68421053],\n",
              "       [ 0.26315789,  0.0083507 , -0.01387272, -0.02154683, -0.02877589,\n",
              "        -0.035973  , -0.04316781, -0.05036246, -0.0575571 , -0.06475174,\n",
              "        -0.07194633, -0.07914029, -0.08632548, -0.0933886 , -0.09875133,\n",
              "        -0.08043083, -0.06032095, -0.0388429 ,  0.02338189,  0.73684211],\n",
              "       [ 0.21052632,  0.00668056, -0.01109818, -0.01723746, -0.02302071,\n",
              "        -0.0287784 , -0.03453425, -0.04028997, -0.04604568, -0.05180139,\n",
              "        -0.0575571 , -0.06331276, -0.06906779, -0.07481402, -0.08043771,\n",
              "        -0.0843546 , -0.06449883, -0.04160805,  0.02505125,  0.78947368],\n",
              "       [ 0.15789474,  0.00501042, -0.00832363, -0.0129281 , -0.01726553,\n",
              "        -0.0215838 , -0.02590069, -0.03021748, -0.03453426, -0.03885105,\n",
              "        -0.04316783, -0.04748461, -0.05180134, -0.0561174 , -0.06042418,\n",
              "        -0.06460157, -0.06697683, -0.04425179,  0.02671049,  0.84210526],\n",
              "       [ 0.10526316,  0.00334028, -0.00554909, -0.00861873, -0.01151036,\n",
              "        -0.0143892 , -0.01726713, -0.02014499, -0.02302284, -0.0259007 ,\n",
              "        -0.02877855, -0.03165641, -0.03453426, -0.03741202, -0.0402886 ,\n",
              "        -0.04314866, -0.04577866, -0.04520437,  0.0282288 ,  0.89473684],\n",
              "       [ 0.05263158,  0.00167014, -0.00277454, -0.00430937, -0.00575518,\n",
              "        -0.0071946 , -0.00863356, -0.01007249, -0.01151142, -0.01295035,\n",
              "        -0.01438928, -0.0158282 , -0.01726713, -0.01870601, -0.0201443 ,\n",
              "        -0.02157433, -0.02288933, -0.02260218,  0.02778421,  0.94736842],\n",
              "       [ 0.        ,  0.        ,  0.        ,  0.        ,  0.        ,\n",
              "         0.        ,  0.        ,  0.        ,  0.        ,  0.        ,\n",
              "         0.        ,  0.        ,  0.        ,  0.        ,  0.        ,\n",
              "         0.        ,  0.        ,  0.        ,  0.        ,  1.        ]])"
            ]
          },
          "metadata": {},
          "execution_count": 22
        }
      ],
      "source": [
        "def inverseMatrix(A):\n",
        "    size = round(np.sqrt(A.size))\n",
        "    E = np.eye(size)\n",
        "    X = np.zeros_like(E)\n",
        "    W = np.zeros_like(E)\n",
        "    L, U = LU(A)\n",
        "\n",
        "    for i in range(size):\n",
        "        W[:, i:] = L_solve(L, E[:,i:])\n",
        "        X[:, i:] = U_solve(U, W[:,i:])\n",
        "  \n",
        "    #I = A@X  #uncomment for see identity matrix result of A@A**-1\n",
        "    #print(I) #uncomment for see identity matrix result of A@A**-1\n",
        "    return X\n",
        "\n",
        "inverseMatrix(A)"
      ],
      "id": "MrdjqDk7WaCj"
    },
    {
      "cell_type": "markdown",
      "metadata": {
        "id": "cb22566e"
      },
      "source": [
        "Consider the following Cauchy problem\n",
        "$$\n",
        "\\begin{cases}\n",
        "y'= -ty^2 \\quad 0\\le t \\le 2\\\\\n",
        "y(0) = 1\n",
        "\\end{cases}\n",
        "$$\n",
        "Implement a Backward Euler's method in a suitable function and solve the resulting non-linear equation using a Newton's method."
      ],
      "id": "cb22566e"
    },
    {
      "cell_type": "markdown",
      "metadata": {
        "id": "8RqlHYndnvVE"
      },
      "source": [
        "### Backward Euler\n",
        "\n",
        "$$\n",
        "\\frac{y_{n}-y_{n-1}}{h} = f(y_{n}, t_{n})\n",
        "$$\n",
        "\n",
        "witch led to this updating formula:\n",
        "\n",
        "$$\n",
        "y_{n} = y_{n-1} + h f(y_{n}, t_{n}) = y_{n-1} + h (-t) y_{n}^2 \n",
        "$$\n",
        "\n",
        "Now, to find $y_n$ in:\n",
        "\n",
        "$$\n",
        "y_{n} = y_{n-1} + h (-t) y_{n}^2 \n",
        "$$\n",
        "\n",
        "we find zeros of function $g(y_n)$:\n",
        "\n",
        "$$\n",
        "g(y_n) = y_{n} - y_{n-1} - h (-t) y_{n}^2 \n",
        "$$\n",
        "\n",
        "\n",
        "this is beacuse:\n",
        "$$\n",
        "y_{n} = y_{n-1} + h (-t) y_{n}^2 \\iff g(y_n) = 0 \n",
        "$$\n",
        "\n",
        "so we want to find zeros of function $g(y_n)$ using Newton Method:\n",
        "\n",
        "$$\n",
        "g(y_n) = y_{n} - y_{n-1} + h t y_{n}^2\n",
        "$$"
      ],
      "id": "8RqlHYndnvVE"
    },
    {
      "cell_type": "markdown",
      "metadata": {
        "id": "f7ttiFPNnvVE"
      },
      "source": [
        "## Newton's method\n",
        "$$\n",
        "q^n = g^{\\prime}(y_n) = \\frac{dg(y_n)}{dy_n} = 2 h t y_n + 1\n",
        "$$\n",
        "\n",
        "$$\n",
        "y_{n+1} = y_n - \\frac{g(y_n)}{q^n}\n",
        "$$"
      ],
      "id": "f7ttiFPNnvVE"
    },
    {
      "cell_type": "code",
      "execution_count": 23,
      "metadata": {
        "id": "WQfeR3f6Ca__"
      },
      "outputs": [],
      "source": [
        "# Newton method\n",
        "def newton(f, f_prime, x0, eps=1e-30, n_max=10000):\n",
        "\n",
        "    # initial guess\n",
        "    x = x0\n",
        "    err = abs(f(x))\n",
        "    # lista di tutti gli errori\n",
        "    errors = [err]\n",
        "\n",
        "    err = eps + 1.\n",
        "    it = 0\n",
        "    while (err > eps and it < n_max):\n",
        "        \n",
        "        qk = f_prime(x)\n",
        "\n",
        "        if (abs(qk) < 1e-12):\n",
        "            raise RuntimeError(\"f_prime(x) is close to zero\")\n",
        "\n",
        "        x = x - (f(x) / qk)\n",
        "        # same as\n",
        "        #x_new = x - (f(x) / qk)\n",
        "        #x = x_new\n",
        "\n",
        "        # calcolo e salvo l'errore\n",
        "        err = abs(f(x))\n",
        "        errors.append(err)\n",
        "        it += 1\n",
        "    \n",
        "    # scala semilogaritmica su asse y\n",
        "    #plt.ylabel('Errore (log)')\n",
        "    #plt.xlabel('# Iterazioni')\n",
        "    #plt.semilogy(errors)\n",
        "    #print('Iterazioni:\\t', it)\n",
        "    #print('Soluzione:\\t', x)\n",
        "    #print('Errore:\\t\\t', err)\n",
        "    return x, errors"
      ],
      "id": "WQfeR3f6Ca__"
    },
    {
      "cell_type": "code",
      "execution_count": 24,
      "metadata": {
        "id": "qFr6PPp6Ca__"
      },
      "outputs": [],
      "source": [
        "# backward euler method\n",
        "def be(y0, t0, tf, h):\n",
        "    \n",
        "    timesteps = np.arange(t0, tf+1e-10, h)\n",
        "    sol = np.zeros_like(timesteps)\n",
        "    \n",
        "    # initial condition\n",
        "    sol[0] = y0  \n",
        "    for i in range(1, len(sol)):\n",
        "        t = timesteps[i-1]\n",
        "        g = lambda y: h * t * y**2 + y - sol[i-1]\n",
        "        g_prime = lambda y: 2 * h * t * y + 1\n",
        "        sol[i], errors = newton(g, g_prime, y0)\n",
        "    \n",
        "    return sol, timesteps"
      ],
      "id": "qFr6PPp6Ca__"
    },
    {
      "cell_type": "code",
      "execution_count": 25,
      "metadata": {
        "colab": {
          "base_uri": "https://localhost:8080/",
          "height": 430
        },
        "id": "-foxSCPonvVK",
        "outputId": "958439d6-350f-472f-a801-9fed2222d673"
      },
      "outputs": [
        {
          "output_type": "display_data",
          "data": {
            "text/plain": [
              "<Figure size 640x480 with 1 Axes>"
            ],
            "image/png": "[encoded data removed]"
          },
          "metadata": {}
        }
      ],
      "source": [
        "t0 = 0\n",
        "tf = 2\n",
        "y0 = 1\n",
        "h = 0.1\n",
        "y, t = be(y0, t0, tf, h)\n",
        "\n",
        "plt.plot(t, y, 'o-', label='Approximation')\n",
        "plt.legend()\n",
        "plt.grid()"
      ],
      "id": "-foxSCPonvVK"
    },
    {
      "cell_type": "code",
      "execution_count": 26,
      "metadata": {
        "colab": {
          "base_uri": "https://localhost:8080/",
          "height": 430
        },
        "id": "QyqDStZP6bMT",
        "outputId": "93f5bebd-fe3e-4f26-aa5f-77b5d6d91781"
      },
      "outputs": [
        {
          "output_type": "display_data",
          "data": {
            "text/plain": [
              "<Figure size 640x480 with 1 Axes>"
            ],
            "image/png": "[encoded data removed]"
          },
          "metadata": {}
        }
      ],
      "source": [
        "# Definisci l'equazione differenziale\n",
        "def ode_func(t, y):\n",
        "    return -t*y**2  # Ad esempio, consideriamo l'equazione y' = t * y\n",
        "\n",
        "# Definisci le condizioni iniziali\n",
        "t0 = 0  # Tempo iniziale\n",
        "y0 = 1  # Valore iniziale di y(t0)\n",
        "\n",
        "# Definisci l'intervallo di tempo in cui risolvere l'ODE\n",
        "t_start = t0  # Inizio dell'intervallo di tempo\n",
        "t_end = 2  # Fine dell'intervallo di tempo\n",
        "num_points = 100  # Numero di punti di campionamento desiderati\n",
        "t_span = np.linspace(t_start, t_end, num_points)\n",
        "\n",
        "# Risolvi l'ODE con il passo di campionamento personalizzato\n",
        "sol = scipy.integrate.solve_ivp(ode_func, [t_start, t_end], [y0], t_eval=t_span)\n",
        "\n",
        "# Ottieni i risultati\n",
        "t = sol.t  # Array dei tempi\n",
        "y = sol.y[0]  # Array dei valori di y corrispondenti ai tempi\n",
        "\n",
        "# Stampa i risultati\n",
        "#for i in range(len(t)):\n",
        "#    print(f\"t: {t[i]}, y: {y[i]}\")\n",
        "\n",
        "ynostra, tnostra = be(y0, t0, tf, 0.1)\n",
        "plt.plot(sol.t, sol.y[0], label= 'numpy')\n",
        "plt.plot(tnostra, ynostra, label = 'approximation')\n",
        "plt.legend()\n",
        "plt.grid()"
      ],
      "id": "QyqDStZP6bMT"
    },
    {
      "cell_type": "markdown",
      "metadata": {
        "id": "INInXO-2CbAB"
      },
      "source": [
        "### Exact solution\n",
        "\n",
        "Recall the ODE:\n",
        "$$\n",
        "y'= -ty^2 \n",
        "$$\n",
        "\n",
        "Let's solve algrebrically (separable variables DE):\n",
        "\n",
        "$$\n",
        "\\frac{dy}{dt} = -ty^2\n",
        "$$\n",
        "\n",
        "$$\n",
        "\\frac{1}{y^2} \\frac{dy}{dt} = -t\n",
        "$$\n",
        "\n",
        "$$\n",
        "\\frac{1}{y^2} dy = -t dt\n",
        "$$\n",
        "\n",
        "$$\n",
        "\\int{\\frac{1}{y^2} dy} = \\int{-t dt}\n",
        "$$\n",
        "\n",
        "$$\n",
        "- \\frac{1}{y} + C1 = -\\frac{t^2}{2} + C2\n",
        "$$\n",
        "\n",
        "$$\n",
        "\\frac{1}{y} = \\frac{t^2}{2} + C\n",
        "$$\n",
        "\n",
        "$$\n",
        "y = \\frac{1}{\\frac{t^2}{2} + C}\n",
        "$$\n",
        "\n",
        "dato che deve essere $y(0) = 1$ allora $C = 1$:\n",
        "\n",
        "$$\n",
        "y(t) = \\frac{1}{\\frac{t^2}{2} + 1}\n",
        "$$"
      ],
      "id": "INInXO-2CbAB"
    },
    {
      "cell_type": "code",
      "execution_count": 27,
      "metadata": {
        "colab": {
          "base_uri": "https://localhost:8080/",
          "height": 447
        },
        "id": "X0GjvwHlCbAB",
        "outputId": "523ce962-cfe1-4518-ec14-1c2faedf4115"
      },
      "outputs": [
        {
          "output_type": "stream",
          "name": "stdout",
          "text": [
            "Error: 0.12339200773274814\n"
          ]
        },
        {
          "output_type": "display_data",
          "data": {
            "text/plain": [
              "<Figure size 640x480 with 1 Axes>"
            ],
            "image/png": "[encoded data removed]"
          },
          "metadata": {}
        }
      ],
      "source": [
        "y, t = be(y0, t0, tf, h)\n",
        "\n",
        "# analitycal solution\n",
        "exact = lambda t: 1/(t**2/2+1)\n",
        "\n",
        "plt.plot(t, y, 'o-', label='Approximation')\n",
        "plt.plot(t, exact(t), label='Analytical')\n",
        "plt.legend()\n",
        "plt.grid()\n",
        "\n",
        "error = np.linalg.norm(exact(t) - y, 2)\n",
        "print('Error:', error)"
      ],
      "id": "X0GjvwHlCbAB"
    }
  ],
  "metadata": {
    "colab": {
      "provenance": [],
      "include_colab_link": true
    },
    "kernelspec": {
      "display_name": "Python 3",
      "language": "python",
      "name": "python3"
    },
    "language_info": {
      "codemirror_mode": {
        "name": "ipython",
        "version": 3
      },
      "file_extension": ".py",
      "mimetype": "text/x-python",
      "name": "python",
      "nbconvert_exporter": "python",
      "pygments_lexer": "ipython3",
      "version": "3.8.5"
    }
  },
  "nbformat": 4,
  "nbformat_minor": 5
}