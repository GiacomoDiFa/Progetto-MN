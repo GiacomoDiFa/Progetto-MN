{
  "cells": [
    {
      "cell_type": "markdown",
      "metadata": {
        "id": "view-in-github",
        "colab_type": "text"
      },
      "source": [
        "<a href=\"https://colab.research.google.com/github/GiacomoDiFa/Progetto-MN/blob/main/progetto_MN_Di_Fabrizio_Montanari.ipynb\" target=\"_parent\"><img src=\"https://colab.research.google.com/assets/colab-badge.svg\" alt=\"Open In Colab\"/></a>"
      ]
    },
    {
      "cell_type": "code",
      "execution_count": 1,
      "metadata": {
        "id": "3fe94688"
      },
      "outputs": [],
      "source": [
        "%matplotlib inline\n",
        "import numpy as np\n",
        "import matplotlib.pyplot as plt\n",
        "import scipy.linalg"
      ],
      "id": "3fe94688"
    },
    {
      "cell_type": "markdown",
      "metadata": {
        "id": "405cafef"
      },
      "source": [
        "Compile the following notebook and share a link with me sending and e-mail to giovanni.stabile@uniurb.it at least one week before the oral examination. All the implemented function will have to be properly documented and commented."
      ],
      "id": "405cafef"
    },
    {
      "cell_type": "markdown",
      "metadata": {
        "id": "9d175179"
      },
      "source": [
        "Compile The following Cell with your information. In case it is a group project, put the info for all the group members\n",
        "\n",
        "Name1: Giacomo \\\n",
        "Surname1: Di Fabrizio\\\n",
        "Email1: \n",
        "\n",
        "Name2: Matteo Marco\\\n",
        "Surname2: Montanari\\\n",
        "Email2: "
      ],
      "id": "9d175179"
    },
    {
      "cell_type": "markdown",
      "metadata": {
        "id": "8184faab"
      },
      "source": [
        "Consider the following one-dimensional PDE:\n",
        "$$\n",
        "-u_{xx}(x) = f(x)\\quad\\mathrm{ in }\\ \\Omega = (0, \\pi)\n",
        "$$\n",
        "$$\n",
        "u(x) = 0, \\quad\\mathrm{ on }\\ \\partial\\Omega = \\{0, \\pi\\}\n",
        "$$\n",
        "\n",
        "Given the following $4^{th}$ order finite difference approximation of the second order derivative:\n",
        "\n",
        "$$u_{xx}(x_i) = \\frac{-u_{i-2}+16u_{i-1}-30u_i+16u_{i+1}-u_{i+2}}{12h^2}$$\n",
        "\n",
        "Implement a function that given the domain interval, the forcing function, the number of discretization points, the boundary conditions, returns the matrix $A$ and the the right hand side $b$."
      ],
      "id": "8184faab"
    },
    {
      "cell_type": "markdown",
      "metadata": {
        "id": "eCywEggtnvU7"
      },
      "source": [
        "# Mathematical Background"
      ],
      "id": "eCywEggtnvU7"
    },
    {
      "cell_type": "markdown",
      "metadata": {
        "id": "msxJQdVFnvU7"
      },
      "source": [
        "The physical interpretation of this problem is related to the modelling of an elastic string, which occupies at rest the space $[0, \\pi]$ and is fixed at the two extremes. The unknown $u(x)$ represents the displacement of the string at the point $x$, and the right-hand side models a prescribed force $f(x)$ on the string.\n",
        "\n",
        "For the numerical discretization of the problem, we consider a **Finite Difference (FD) Approximation**. Let $n$ be an integer, a consider a uniform subdivision of the interval $(0,\\pi)$ using $n$ equispaced points, denoted by $\\{x_i\\}_{i=0}^n$ . Moreover, let $u_i$ be the FD approximation of $u(x_i)$, and similarly $f_i \\approx f(x_i)$.\n",
        "\n",
        "In order to formulate the discrete problem, we consider a FD approximation of the left-hand side, as follows ($4^{th}$ order finite difference approximation of the second order derivative):\n",
        "\n",
        "$$u_{xx}(x_i) = \\frac{-u_{i-2}+16u_{i-1}-30u_i+16u_{i+1}-u_{i+2}}{12h^2}$$\n",
        "\n",
        "The problem that we need to solve is\n",
        "\n",
        "$$\n",
        "u_i = 0 \\qquad\\qquad\\qquad\\qquad\\qquad i=0,\n",
        "$$\n",
        "\n",
        "$$\n",
        "\\frac{-u_{i-2}+16u_{i-1}-30u_i+16u_{i+1}-u_{i+2}}{12h^2} = - f_i \\qquad\\qquad\\qquad  i=1, \\ldots, n-1,\\qquad\\qquad\\qquad(P)\n",
        "$$\n",
        "\n",
        "$$\n",
        "u_i = 0 \\qquad\\qquad\\qquad\\qquad\\qquad i=n.\n",
        "$$\n",
        "\n",
        "Then, let us collect al the unknowns $\\{u_i\\}_{i=0}^n$ in a vector $\\mathbf{u}$. Then, (P) is a linear system\n",
        "$$\n",
        "A \\mathbf{u} = \\mathbf{f}.\n",
        "$$"
      ],
      "id": "msxJQdVFnvU7"
    },
    {
      "cell_type": "code",
      "execution_count": 2,
      "metadata": {
        "id": "1c562f13"
      },
      "outputs": [],
      "source": [
        "# 4th order finite difference scheme\n",
        "def finDif(omega, f, n, bc):\n",
        "    \n",
        "    assert n > 4, \"n must be greater than 4!\"\n",
        "    assert omega[0] < omega[1], \"Discretization interval is not correct!\" \n",
        "    \n",
        "    # d(x, y) = | x - y |\n",
        "    h = np.abs(omega[0] - omega[1]) / (n - 1)\n",
        "        \n",
        "    x = np.linspace(0, 1, n)    \n",
        "    \n",
        "    termine_noto = -f(x)\n",
        "    termine_noto[0] = bc[0]\n",
        "    termine_noto[-1] = bc[1]\n",
        "\n",
        "    # create discretization matrix A\n",
        "    A = np.zeros((n, n))\n",
        "  \n",
        "    a = -np.ones((n-2, )) \n",
        "    b = 16*np.ones((n-1, ))\n",
        "    c = -30*np.ones((n, ))\n",
        "\n",
        "    A = (np.diag(a, -2) + np.diag(a, +2) + np.diag(b, -1) + np.diag(b, +1) + np.diag(c, 0))\n",
        "\n",
        "    A /= (12*h**2)\n",
        "    \n",
        "    A[0, :] = np.zeros(n)\n",
        "    A[1, :] = np.zeros(n)\n",
        "\n",
        "    A[n-1, :] = np.zeros(n)\n",
        "    A[n-2, :] = np.zeros(n)\n",
        "\n",
        "    A_second_row = np.array([-1.0, 2.0, -1.0]) / (h**2)\n",
        "    A_second_last_row = np.array([-1.0, 2.0, -1.0]) / (h**2)\n",
        "    \n",
        "    A[1, 0:3] = A_second_row\n",
        "    A[n-2, n-3:n] = A_second_last_row\n",
        "  \n",
        "    A[0, 0] = 1\n",
        "    A[-1, -1] = 1\n",
        "\n",
        "    return A, termine_noto"
      ],
      "id": "1c562f13"
    },
    {
      "cell_type": "code",
      "execution_count": 3,
      "metadata": {
        "id": "iscHpCM1oDQ_",
        "colab": {
          "base_uri": "https://localhost:8080/"
        },
        "outputId": "3b1d44d4-c104-4818-af3a-6f8a5a2a16bb"
      },
      "outputs": [
        {
          "output_type": "stream",
          "name": "stdout",
          "text": [
            "A =\n",
            "[[ 1.          0.          0.          0.          0.        ]\n",
            " [-1.62113894  3.24227788 -1.62113894  0.          0.        ]\n",
            " [-0.13509491  2.16151858 -4.05284735  2.16151858 -0.13509491]\n",
            " [ 0.          0.         -1.62113894  3.24227788 -1.62113894]\n",
            " [ 0.          0.          0.          0.          1.        ]]\n"
          ]
        }
      ],
      "source": [
        "omega = [0, np.pi]\n",
        "f = lambda x : np.sin(x)\n",
        "n = 5\n",
        "bc = [0, 0]\n",
        "A, b = finDif(omega, f, n, bc)\n",
        "print(\"A =\")\n",
        "print(A)"
      ],
      "id": "iscHpCM1oDQ_"
    },
    {
      "cell_type": "markdown",
      "metadata": {
        "id": "4f8a7c6f"
      },
      "source": [
        "Implement two functions that compute the LU and the Cholesky factorization of the system matrix $A$"
      ],
      "id": "4f8a7c6f"
    },
    {
      "cell_type": "code",
      "execution_count": 4,
      "metadata": {
        "id": "47468a37"
      },
      "outputs": [],
      "source": [
        "def LU(A):\n",
        "    A = A.copy()\n",
        "    N=len(A)\n",
        "    for k in range(N-1):\n",
        "        if (abs(A[k,k]) < 1e-15):\n",
        "            raise RuntimeError(\"Null pivot\")\n",
        "            \n",
        "        A[k+1:N,k] /= A[k,k]\n",
        "        for j in range(k+1,N):\n",
        "            A[k+1:N,j] -= A[k+1:N,k]*A[k,j]\n",
        "    \n",
        "    L=np.tril(A)\n",
        "    for i in range(N):\n",
        "        L[i,i]=1.0\n",
        "    U = np.triu(A)\n",
        "    return L, U"
      ],
      "id": "47468a37"
    },
    {
      "cell_type": "code",
      "execution_count": 5,
      "metadata": {
        "id": "193ebfed"
      },
      "outputs": [],
      "source": [
        "def cholesky(A):\n",
        "    A = A.copy()\n",
        "    N = len(A)\n",
        "    for k in range(N-1):\n",
        "        A[k,k] = np.sqrt(A[k,k])\n",
        "        A[k+1:N,k] = A[k+1:N,k]/A[k,k]\n",
        "        \n",
        "        for j in range(k+1,N):\n",
        "            A[j:N,j] = A[j:N,j] - A[j:N,k]*A[j,k]\n",
        "        \n",
        "    A[-1,-1] = np.sqrt(A[-1,-1])\n",
        "    L=np.tril(A)\n",
        "    return L, L.transpose()"
      ],
      "id": "193ebfed"
    },
    {
      "cell_type": "markdown",
      "metadata": {
        "id": "41eb8436"
      },
      "source": [
        "Implement forward and backward substitution functions to exploit the developed factorization methods to solve the derived linear system of equations."
      ],
      "id": "41eb8436"
    },
    {
      "cell_type": "code",
      "execution_count": 6,
      "metadata": {
        "id": "019cf0df"
      },
      "outputs": [],
      "source": [
        "def L_solve(L,rhs):\n",
        "    x = np.zeros_like(rhs)\n",
        "    N = len(L)\n",
        "        \n",
        "    x[0] = rhs[0]/L[0,0]\n",
        "    \n",
        "    for i in range(1,N):\n",
        "        x[i] = (rhs[i] - np.dot(L[i, 0:i], x[0:i]))/L[i,i]\n",
        "    \n",
        "    return x"
      ],
      "id": "019cf0df"
    },
    {
      "cell_type": "code",
      "execution_count": 7,
      "metadata": {
        "id": "26ce17c4"
      },
      "outputs": [],
      "source": [
        "def U_solve(U,rhs):\n",
        "    x = np.zeros_like(rhs)\n",
        "    N = len(U)\n",
        "              \n",
        "    x[-1] = rhs[-1]/U[-1,-1]\n",
        "    \n",
        "    for i in reversed(range(N-1)):\n",
        "        x[i] = (rhs[i] -np.dot(U[i, i+1:N], x[i+1:N]))/U[i,i]\n",
        "    \n",
        "    return x"
      ],
      "id": "26ce17c4"
    },
    {
      "cell_type": "markdown",
      "metadata": {
        "id": "08ac9ba1"
      },
      "source": [
        "Solve the derived linear system using the implemented functions and plot the computed solution:"
      ],
      "id": "08ac9ba1"
    },
    {
      "cell_type": "code",
      "execution_count": 8,
      "metadata": {
        "colab": {
          "base_uri": "https://localhost:8080/",
          "height": 430
        },
        "id": "7c1de4f3",
        "outputId": "962403e2-46f8-4200-f5be-7f77e958d64d"
      },
      "outputs": [
        {
          "output_type": "display_data",
          "data": {
            "text/plain": [
              "<Figure size 640x480 with 1 Axes>"
            ],
            "image/png": "[encoded data removed]"
          },
          "metadata": {}
        }
      ],
      "source": [
        "omega = [0, np.pi]\n",
        "f = lambda x : np.sin(x)\n",
        "n = 10\n",
        "bc = [0, 0]\n",
        "A, b = finDif(omega, f, n, bc)\n",
        "x = np.linspace(0, np.pi, n)\n",
        "L, U = LU(A)\n",
        "w = L_solve(L, b)\n",
        "u = U_solve(U, w)\n",
        "\n",
        "_ = plt.plot(x, u, 'ro')"
      ],
      "id": "7c1de4f3"
    },
    {
      "cell_type": "markdown",
      "metadata": {
        "id": "62cdfe65"
      },
      "source": [
        "Considering the new domain $\\Omega = (0,1)$ and the forcing term $f(x) = x(1-x)$ with B.C. $u(x) = 0$, on $\\partial \\Omega = \\{0,1\\}$ produce a plot and a table where you show the decay of the error w.r.t. the number of grid points.\n",
        "(The analytical solution for the above problems is $u_{an} = \\frac{x^4}{12} - \\frac{x^3}{6} + \\frac{x}{12}$)"
      ],
      "id": "62cdfe65"
    },
    {
      "cell_type": "code",
      "execution_count": 9,
      "metadata": {
        "colab": {
          "base_uri": "https://localhost:8080/",
          "height": 430
        },
        "id": "91212afb",
        "outputId": "a6e3094d-95c8-4b9b-e3ed-f2647279f860"
      },
      "outputs": [
        {
          "output_type": "display_data",
          "data": {
            "text/plain": [
              "<Figure size 640x480 with 1 Axes>"
            ],
            "image/png": "[encoded data removed]"
          },
          "metadata": {}
        }
      ],
      "source": [
        "omega_new = [0, 1]\n",
        "n_new = 100\n",
        "x_new = np.linspace(0, 1, n_new)\n",
        "f_new = lambda x_new : x_new*(1 - x_new)\n",
        "bc_new = [0, 0]\n",
        "A_new, b_new = finDif(omega_new, f_new, n_new, bc_new)\n",
        "A1_new = A_new.copy()\n",
        "u_new = np.linalg.solve(A1_new, b_new) \n",
        "\n",
        "u_ex = (x_new**4)/12.0 - (x_new**3)/6.0 + x_new/12.0\n",
        "\n",
        "# Plot the FD and exact solution\n",
        "_ = plt.plot(x_new, u_new, 'ro')\n",
        "_ = plt.plot(x_new, u_ex)"
      ],
      "id": "91212afb"
    },
    {
      "cell_type": "code",
      "execution_count": 10,
      "metadata": {
        "colab": {
          "base_uri": "https://localhost:8080/"
        },
        "id": "dEtJnRFLnvVA",
        "outputId": "8944f8e2-3102-4867-976c-ac13fa2951c6"
      },
      "outputs": [
        {
          "output_type": "stream",
          "name": "stdout",
          "text": [
            "2.3388862814248566e-05\n"
          ]
        }
      ],
      "source": [
        "# table where you show the decay of the error w.r.t. the number of grid points\n",
        "print(np.linalg.norm(u_ex - u_new, 2))"
      ],
      "id": "dEtJnRFLnvVA"
    },
    {
      "cell_type": "code",
      "execution_count": 11,
      "metadata": {
        "colab": {
          "base_uri": "https://localhost:8080/",
          "height": 447
        },
        "id": "GT-osuD1nvVA",
        "outputId": "0754cd30-4189-405b-d511-837234f6e598"
      },
      "outputs": [
        {
          "output_type": "execute_result",
          "data": {
            "text/plain": [
              "[<matplotlib.lines.Line2D at 0x7f29dc8c8ee0>]"
            ]
          },
          "metadata": {},
          "execution_count": 11
        },
        {
          "output_type": "display_data",
          "data": {
            "text/plain": [
              "<Figure size 640x480 with 1 Axes>"
            ],
            "image/png": "[encoded data removed]"
          },
          "metadata": {}
        }
      ],
      "source": [
        "omega_new = [0, 1]\n",
        "bc_new = [0, 0]\n",
        "\n",
        "error = []\n",
        "n_points = np.array([x for x in range(10, 101)])\n",
        "\n",
        "for j in n_points:\n",
        "    x_new = np.linspace(0, 1, j)\n",
        "    f_new = lambda x_new : x_new*(1 - x_new)\n",
        "    u_ex = (x_new**4)/12.0 - (x_new**3)/6.0 + x_new/12.0\n",
        "\n",
        "    A_new, b_new = finDif(omega_new, f_new, j, bc_new)\n",
        "    A1_new = A_new.copy()\n",
        "    u_new = np.linalg.solve(A1_new, b_new) \n",
        "    \n",
        "    error.append(np.linalg.norm(u_ex - u_new, 2))\n",
        "    \n",
        "plt.plot(n_points, error)"
      ],
      "id": "GT-osuD1nvVA"
    },
    {
      "cell_type": "code",
      "execution_count": 12,
      "metadata": {
        "colab": {
          "base_uri": "https://localhost:8080/"
        },
        "id": "YJ9oxuR4nvVB",
        "outputId": "607fa75f-f376-4b85-9c70-e04d82e92f22"
      },
      "outputs": [
        {
          "output_type": "execute_result",
          "data": {
            "text/plain": [
              "{10: 0.007772999668146033,\n",
              " 11: 0.006105623346817107,\n",
              " 12: 0.004897181708718345,\n",
              " 13: 0.003997793144152499,\n",
              " 14: 0.0033131111752743186,\n",
              " 15: 0.002781637039242217,\n",
              " 16: 0.0023620525901975526,\n",
              " 17: 0.0020258560136231295,\n",
              " 18: 0.0017529253036562427,\n",
              " 19: 0.0015287601683104048,\n",
              " 20: 0.0013427188575327491,\n",
              " 21: 0.0011868626029950208,\n",
              " 22: 0.0010551811788507644,\n",
              " 23: 0.0009430633336482032,\n",
              " 24: 0.0008469280079351693,\n",
              " 25: 0.0007639632286492956,\n",
              " 26: 0.0006919384218358439,\n",
              " 27: 0.0006290676150871532,\n",
              " 28: 0.0005739084509371638,\n",
              " 29: 0.0005252867535405623,\n",
              " 30: 0.0004822395651361836,\n",
              " 31: 0.0004439716925776177,\n",
              " 32: 0.00040982224605802845,\n",
              " 33: 0.0003792386450684837,\n",
              " 34: 0.0003517562584495953,\n",
              " 35: 0.0003269823342781275,\n",
              " 36: 0.000304583223619407,\n",
              " 37: 0.00028427415365950634,\n",
              " 38: 0.00026581098897695724,\n",
              " 39: 0.00024898355400228793,\n",
              " 40: 0.00023361018998267757,\n",
              " 41: 0.00021953329385579953,\n",
              " 42: 0.00020661564330137972,\n",
              " 43: 0.00019473735445336103,\n",
              " 44: 0.00018379335170209447,\n",
              " 45: 0.00017369125406061476,\n",
              " 46: 0.00016434960206761594,\n",
              " 47: 0.00015569636430143492,\n",
              " 48: 0.0001476676747304493,\n",
              " 49: 0.00014020676111493047,\n",
              " 50: 0.0001332630324407503,\n",
              " 51: 0.0001267912992273859,\n",
              " 52: 0.00012075110497893106,\n",
              " 53: 0.00011510615149098324,\n",
              " 54: 0.00010982380300137786,\n",
              " 55: 0.0001048746575292837,\n",
              " 56: 0.00010023217485242389,\n",
              " 57: 9.587235309943239e-05,\n",
              " 58: 9.177344690878048e-05,\n",
              " 59: 8.791572081130595e-05,\n",
              " 60: 8.428123348590033e-05,\n",
              " 61: 8.085364807343993e-05,\n",
              " 62: 7.761806525334823e-05,\n",
              " 63: 7.45608763930206e-05,\n",
              " 64: 7.166963320954954e-05,\n",
              " 65: 6.893293275827423e-05,\n",
              " 66: 6.634031526083616e-05,\n",
              " 67: 6.388217332547361e-05,\n",
              " 68: 6.154967090707704e-05,\n",
              " 69: 5.9334671387916635e-05,\n",
              " 70: 5.7229672943840596e-05,\n",
              " 71: 5.522775085338229e-05,\n",
              " 72: 5.332250584193847e-05,\n",
              " 73: 5.150801744966792e-05,\n",
              " 74: 4.977880251045477e-05,\n",
              " 75: 4.812977720931218e-05,\n",
              " 76: 4.6556223315042774e-05,\n",
              " 77: 4.505375759292977e-05,\n",
              " 78: 4.3618303893264395e-05,\n",
              " 79: 4.2246068025737585e-05,\n",
              " 80: 4.09335152312191e-05,\n",
              " 81: 3.967734920874262e-05,\n",
              " 82: 3.8474493527566014e-05,\n",
              " 83: 3.732207443739862e-05,\n",
              " 84: 3.621740525253356e-05,\n",
              " 85: 3.5157971996527715e-05,\n",
              " 86: 3.414142086616072e-05,\n",
              " 87: 3.31655458131222e-05,\n",
              " 88: 3.2228278013527303e-05,\n",
              " 89: 3.132767579738631e-05,\n",
              " 90: 3.0461915651556366e-05,\n",
              " 91: 2.9629283212937694e-05,\n",
              " 92: 2.8828166644780168e-05,\n",
              " 93: 2.8057048717946797e-05,\n",
              " 94: 2.731450047369742e-05,\n",
              " 95: 2.6599175328960992e-05,\n",
              " 96: 2.5909803463174748e-05,\n",
              " 97: 2.5245186641897863e-05,\n",
              " 98: 2.460419365958671e-05,\n",
              " 99: 2.398575576790692e-05,\n",
              " 100: 2.3388862814248566e-05}"
            ]
          },
          "metadata": {},
          "execution_count": 12
        }
      ],
      "source": [
        "# NB python dictionaries\n",
        "tab = {n : e for n, e in zip(n_points, error)}\n",
        "tab"
      ],
      "id": "YJ9oxuR4nvVB"
    },
    {
      "cell_type": "markdown",
      "metadata": {
        "id": "c8d5002f"
      },
      "source": [
        "Exploit the derived LU factorizations to compute the determinant of the system's matrix $A$ using the original problem formulation."
      ],
      "id": "c8d5002f"
    },
    {
      "cell_type": "code",
      "execution_count": 13,
      "metadata": {
        "colab": {
          "base_uri": "https://localhost:8080/"
        },
        "id": "A34ityJaYypS",
        "outputId": "744c4d54-cc46-4e54-e560-16e57cefc743"
      },
      "outputs": [
        {
          "output_type": "stream",
          "name": "stdout",
          "text": [
            "455252429.5659624\n",
            "455252429.5659615\n"
          ]
        }
      ],
      "source": [
        "def determinant(A):\n",
        "    L, U = LU(A)\n",
        "    size = A.shape[0]\n",
        "    determinant = 1\n",
        "    \n",
        "    for i in range(size):\n",
        "        determinant *= U[i, i]\n",
        "\n",
        "    return determinant\n",
        "\n",
        "print(determinant(A))\n",
        "print(np.linalg.det(A))"
      ],
      "id": "A34ityJaYypS"
    },
    {
      "cell_type": "code",
      "execution_count": 14,
      "metadata": {
        "colab": {
          "base_uri": "https://localhost:8080/"
        },
        "id": "c25fc1fe",
        "outputId": "6c83b1e7-7674-433e-ea8c-77cb466912fe"
      },
      "outputs": [
        {
          "output_type": "execute_result",
          "data": {
            "text/plain": [
              "100.17388423731148"
            ]
          },
          "metadata": {},
          "execution_count": 14
        }
      ],
      "source": [
        "def condNumb(A):\n",
        "    condNu = np.linalg.cond(A)\n",
        "    return condNu\n",
        "\n",
        "condNumb(A)\n",
        "# forse si deve fare diversamente? Boohh che poi il prof si è confuso secondo me perchè chiedeva di calcolare il determinante\n",
        "# (vedi cella sopra) e non il numero di condizionamento"
      ],
      "id": "c25fc1fe"
    },
    {
      "cell_type": "code",
      "execution_count": 15,
      "metadata": {
        "colab": {
          "base_uri": "https://localhost:8080/"
        },
        "id": "Squ_XCyvnvVC",
        "outputId": "65e6119d-1584-4198-c869-df02844662e0"
      },
      "outputs": [
        {
          "output_type": "stream",
          "name": "stdout",
          "text": [
            "100.17388423731148\n",
            "100.17388423731123\n"
          ]
        }
      ],
      "source": [
        "# ho trovato questa formula ma mi sa che non fa\n",
        "def condNum(A):\n",
        "    return np.linalg.norm(A,2) * np.linalg.norm(np.linalg.inv(A),2)\n",
        "\n",
        "#def condNumWithOurInverse(A):\n",
        "#  return np.linalg.norm(A,2) * np.linalg.norm(inverseMatrix(A),2)\n",
        "\n",
        "print(np.linalg.cond(A))\n",
        "print(condNum(A))\n",
        "#print(condNumWithOurInverse(A))"
      ],
      "id": "Squ_XCyvnvVC"
    },
    {
      "cell_type": "markdown",
      "metadata": {
        "id": "2728b49a"
      },
      "source": [
        "Implement a preconditioned Conjugant Gradient method to solve the original linear system of equations using an iterative method:"
      ],
      "id": "2728b49a"
    },
    {
      "cell_type": "code",
      "execution_count": 16,
      "metadata": {
        "colab": {
          "base_uri": "https://localhost:8080/",
          "height": 482
        },
        "id": "oeIfcvFUnvVC",
        "outputId": "e9319edc-08a2-4f99-c9d7-8ac21bf0bb5e"
      },
      "outputs": [
        {
          "output_type": "stream",
          "name": "stdout",
          "text": [
            "10 12631.41666776856\n",
            "1309.871589335853\n"
          ]
        },
        {
          "output_type": "execute_result",
          "data": {
            "text/plain": [
              "[<matplotlib.lines.Line2D at 0x7f29dc7550f0>]"
            ]
          },
          "metadata": {},
          "execution_count": 16
        },
        {
          "output_type": "display_data",
          "data": {
            "text/plain": [
              "<Figure size 640x480 with 1 Axes>"
            ],
            "image/png": "[encoded data removed]"
          },
          "metadata": {}
        }
      ],
      "source": [
        "def conjugate_gradient(A, b, P, nmax=len(A), eps=1e-10):\n",
        "    N=len(A)\n",
        "    x = np.zeros_like(b)\n",
        "    tol = eps + 1\n",
        "    it = 0\n",
        "    r = b - np.dot(A,x)\n",
        "    rho_old = 1.\n",
        "    p_old = np.zeros_like(b)\n",
        "    while (it < nmax and tol > eps):\n",
        "        it += 1\n",
        "        z = np.linalg.solve(P,r)\n",
        "        rho = np.dot(r,z)\n",
        "        if (it > 1):\n",
        "            beta = rho/rho_old\n",
        "            p = z + beta*p_old\n",
        "        else:\n",
        "            p = z\n",
        "        q = np.dot(A,p)\n",
        "        alpha = rho/(np.dot(p,q))\n",
        "        x += p*alpha\n",
        "        r -= q*alpha\n",
        "        \n",
        "        p_old = p\n",
        "        rho_old = rho\n",
        "        \n",
        "        tol = np.linalg.norm(r,2)\n",
        "        \n",
        "    print(it, tol)\n",
        "    return x\n",
        "sol_conjugate_gradient = conjugate_gradient(A, b, np.identity(len(A)))\n",
        "print(np.linalg.norm(sol_conjugate_gradient - u)/np.linalg.norm(u))\n",
        "#non so se torna, ho copiato i codici paro paro\n",
        "#forse non torna perchè la matrice fa cagare?\n",
        "x_newnew = np.linspace(0,np.pi,n)\n",
        "plt.plot(x_newnew,sol_conjugate_gradient)\n",
        "plt.plot(x_newnew,u)"
      ],
      "id": "oeIfcvFUnvVC"
    },
    {
      "cell_type": "markdown",
      "metadata": {
        "id": "8a4cfc02"
      },
      "source": [
        "Consider the following time dependent variation of the PDE starting from the orginal problem formulation:\n",
        "$$\n",
        "u'(t)-u_{xx} = \\alpha(t)f(x)\n",
        "$$\n",
        "\n",
        "for $t\\in [0,T]$, with $\\alpha(t) = \\cos(t)$ and $T = 6\\pi$\n",
        "\n",
        "Use the same finite difference scheme to derive the semi-discrete formulation and solve it using a forward Euler's method.\n",
        "\n",
        "Plot the time dependent solution solution at $x = \\pi/2$, $x=1$, \n",
        "$x=\\pi$\n"
      ],
      "id": "8a4cfc02"
    },
    {
      "cell_type": "code",
      "execution_count": 17,
      "metadata": {
        "id": "3ffe0689"
      },
      "outputs": [],
      "source": [
        "#TODO"
      ],
      "id": "3ffe0689"
    },
    {
      "cell_type": "markdown",
      "metadata": {
        "id": "36936121"
      },
      "source": [
        "Given the original $Au = b$ system, implement an algorithm to compute the largest and smallest eigenvalues and the associated eigenvectors of the matrix $A$."
      ],
      "id": "36936121"
    },
    {
      "cell_type": "code",
      "execution_count": 18,
      "metadata": {
        "colab": {
          "base_uri": "https://localhost:8080/"
        },
        "id": "7haaqv7TnvVD",
        "outputId": "e502820e-1e91-4f4b-c743-b7674250af3e"
      },
      "outputs": [
        {
          "output_type": "stream",
          "name": "stdout",
          "text": [
            "error = 1.4649896587576702e-14 iterations = 500\n",
            "l_max = 40.97881370992437 \n",
            "x_max = [ 0.         -0.0319284  -0.22327988  0.4166219  -0.52493129  0.52493129\n",
            " -0.4166219   0.22327988  0.0319284   0.        ]\n",
            "\n",
            "Numpy Linalg\n",
            "l_max = 40.97881370992447 \n",
            "x_max = [ 0.         -0.0319284  -0.22327988  0.4166219  -0.52493129  0.52493129\n",
            " -0.4166219   0.22327988  0.0319284   0.        ]\n"
          ]
        }
      ],
      "source": [
        "# let's implement Power Method\n",
        "z0 = np.ones_like(b)\n",
        "def PM(A,z0,tol=1e-20,nmax=500):\n",
        "    q = z0/np.linalg.norm(z0,2)\n",
        "    it = 0\n",
        "    err = tol + 1.\n",
        "    while it < nmax and err > tol:\n",
        "        z = np.dot(A,q)\n",
        "        l = np.dot(q.T,z)\n",
        "        err = np.linalg.norm(z-l*q,2)\n",
        "        q = z/np.linalg.norm(z,2)\n",
        "        \n",
        "        it += 1\n",
        "    print(\"error =\", err, \"iterations =\", it)\n",
        "    return l,q\n",
        "\n",
        "l,x = PM(A,z0)\n",
        "l_np, x_np = np.linalg.eig(A)\n",
        "print(\"l_max =\", abs(l), \"\\nx_max =\", x)\n",
        "print(\"\\nNumpy Linalg\")\n",
        "print(\"l_max =\", max(abs(l_np)), \"\\nx_max =\", x_np[:, np.argmax(abs(l_np))])\n"
      ],
      "id": "7haaqv7TnvVD"
    },
    {
      "cell_type": "code",
      "execution_count": 19,
      "metadata": {
        "colab": {
          "base_uri": "https://localhost:8080/"
        },
        "id": "opRbRUqKnvVD",
        "outputId": "12c5ccbd-ad49-4526-c546-6f9f14635606"
      },
      "outputs": [
        {
          "output_type": "stream",
          "name": "stdout",
          "text": [
            "error = 1.250849905792134e-15 iterations = 500\n",
            "lambda = 0.9999999999999998\n",
            "l_min = 0.9999999999999998 \n",
            "x_min = [0.41452208 0.37631718 0.29225916 0.23750349 0.21150295 0.21150295\n",
            " 0.23750349 0.29225916 0.37631718 0.41452208]\n",
            "\n",
            "Numpy Linalg\n",
            "l_min = 1.0 \n",
            "x_min = [0.63586665 0.5473645  0.39216765 0.27553768 0.19212553 0.13231478\n",
            " 0.08878682 0.0561507  0.02989677 0.        ]\n"
          ]
        }
      ],
      "source": [
        "def IPM(A,x0,mu,tol=1e-20,nmax=500):\n",
        "    M = A -mu*np.eye(len(A))\n",
        "    P,L,U = scipy.linalg.lu(M)\n",
        "    err = tol + 1.\n",
        "    it = 0\n",
        "    q = x0/np.linalg.norm(x0,2)\n",
        "    while it < nmax and err > tol :\n",
        "        y = scipy.linalg.solve(L,np.dot(P.T,q))\n",
        "        x = scipy.linalg.solve(U,y)\n",
        "        q = x/np.linalg.norm(x,2)\n",
        "        z = np.dot(A,q)\n",
        "        l = np.dot(q.T,z)\n",
        "        err = np.linalg.norm(z-l*q,2)\n",
        "        it += 1\n",
        "    print(\"error =\", err, \"iterations =\", it)\n",
        "    print(\"lambda =\", l)\n",
        "    return l,q\n",
        "\n",
        "# compute IPM\n",
        "l, x = IPM(A, z0, 0)\n",
        "# use numpy library for comparing    \n",
        "l_np, x_np = np.linalg.eig(A)\n",
        "\n",
        "print(\"l_min =\", abs(l), \"\\nx_min =\", x)\n",
        "print(\"\\nNumpy Linalg\")\n",
        "\n",
        "print(\"l_min =\", min(abs(l_np)), \"\\nx_min =\", x_np[:, np.argmin(abs(l_np))])\n"
      ],
      "id": "opRbRUqKnvVD"
    },
    {
      "cell_type": "markdown",
      "metadata": {
        "id": "85d5f64e"
      },
      "source": [
        "Compute the inverse of the matrix A exploiting the derived LU factorization"
      ],
      "id": "85d5f64e"
    },
    {
      "cell_type": "code",
      "execution_count": 20,
      "metadata": {
        "colab": {
          "base_uri": "https://localhost:8080/"
        },
        "id": "MrdjqDk7WaCj",
        "outputId": "c6cd12b7-52ff-44ba-dd44-2ab49da5b9b5"
      },
      "outputs": [
        {
          "output_type": "execute_result",
          "data": {
            "text/plain": [
              "array([[ 1.        ,  0.        ,  0.        ,  0.        ,  0.        ,\n",
              "         0.        ,  0.        ,  0.        ,  0.        ,  0.        ],\n",
              "       [ 0.88888889,  0.11555789, -0.08699367, -0.08067298, -0.06765232,\n",
              "        -0.05414632, -0.04054566, -0.02610506,  0.01571397,  0.11111111],\n",
              "       [ 0.77777778,  0.10926881, -0.17398734, -0.16134596, -0.13530463,\n",
              "        -0.10829264, -0.08109132, -0.05221013,  0.03142795,  0.22222222],\n",
              "       [ 0.66666667,  0.09423151, -0.15600238, -0.23448182, -0.20241581,\n",
              "        -0.16240011, -0.12163419, -0.078315  ,  0.04714191,  0.33333333],\n",
              "       [ 0.55555556,  0.07856612, -0.1304803 , -0.2020979 , -0.261951  ,\n",
              "        -0.21596364, -0.16213801, -0.10441707,  0.06285563,  0.44444444],\n",
              "       [ 0.44444444,  0.06285563, -0.10441707, -0.16213801, -0.21596364,\n",
              "        -0.261951  , -0.2020979 , -0.1304803 ,  0.07856612,  0.55555556],\n",
              "       [ 0.33333333,  0.04714191, -0.078315  , -0.12163419, -0.16240011,\n",
              "        -0.20241581, -0.23448182, -0.15600238,  0.09423151,  0.66666667],\n",
              "       [ 0.22222222,  0.03142795, -0.05221013, -0.08109132, -0.10829264,\n",
              "        -0.13530463, -0.16134596, -0.17398734,  0.10926881,  0.77777778],\n",
              "       [ 0.11111111,  0.01571397, -0.02610506, -0.04054566, -0.05414632,\n",
              "        -0.06765232, -0.08067298, -0.08699367,  0.11555789,  0.88888889],\n",
              "       [ 0.        ,  0.        ,  0.        ,  0.        ,  0.        ,\n",
              "         0.        ,  0.        ,  0.        ,  0.        ,  1.        ]])"
            ]
          },
          "metadata": {},
          "execution_count": 20
        }
      ],
      "source": [
        "def inverseMatrix(A):\n",
        "    size = round(np.sqrt(A.size))\n",
        "    E = np.eye(size)\n",
        "    X = np.zeros_like(E)\n",
        "    W = np.zeros_like(E)\n",
        "    L, U = LU(A)\n",
        "\n",
        "    for i in range(size):\n",
        "        W[:, i:] = L_solve(L, E[:,i:])\n",
        "        X[:, i:] = U_solve(U, W[:,i:])\n",
        "  \n",
        "    #I = A@X  #uncomment for see identity matrix result of A@A**-1\n",
        "    #print(I) #uncomment for see identity matrix result of A@A**-1\n",
        "    return X\n",
        "\n",
        "inverseMatrix(A)\n",
        "\n"
      ],
      "id": "MrdjqDk7WaCj"
    },
    {
      "cell_type": "markdown",
      "metadata": {
        "id": "cb22566e"
      },
      "source": [
        "Consider the following Cauchy problem\n",
        "$$\n",
        "\\begin{cases}\n",
        "y'= -ty^2 \\quad 0\\le t \\le 2\\\\\n",
        "y(0) = 1\n",
        "\\end{cases}\n",
        "$$\n",
        "Implement a Backward Euler's method in a suitable function and solve the resulting non-linear equation using a Newton's method."
      ],
      "id": "cb22566e"
    },
    {
      "cell_type": "markdown",
      "metadata": {
        "id": "8RqlHYndnvVE"
      },
      "source": [
        "### Backward Euler\n",
        "\n",
        "$$\n",
        "\\frac{y_{n}-y_{n-1}}{h} = f(y_{n}, t_{n})\n",
        "$$\n",
        "\n",
        "witch led to this updating formula:\n",
        "\n",
        "$$\n",
        "y_{n} = y_{n-1} + h f(y_{n}, t_{n}) = y_{n-1} + h (-t) y_{n}^2 \n",
        "$$\n",
        "\n",
        "to find $y_n$ in:\n",
        "\n",
        "$$\n",
        "y_{n} = y_{n-1} + h (-t) y_{n}^2 \n",
        "$$\n",
        "\n",
        "we find zeros of function $g(y)$:\n",
        "\n",
        "$$\n",
        "g(y_n) = y_{n} - y_{n-1} - h (-t) y_{n}^2 = 0 \n",
        "$$\n",
        "\n",
        "so:\n",
        "\n",
        "$$\n",
        "g(y_n) = y_{n} - y_{n-1} + h t y_{n}^2\n",
        "$$"
      ],
      "id": "8RqlHYndnvVE"
    },
    {
      "cell_type": "markdown",
      "metadata": {
        "id": "f7ttiFPNnvVE"
      },
      "source": [
        "## Newton's method\n",
        "$$\n",
        "q^k = g^{\\prime}(y^k)\n",
        "$$\n",
        "\n",
        "$$\n",
        "y^{k+1} = y^k - \\frac{g(y^k)}{q^k}\n",
        "$$\n",
        "\n",
        "where:\n",
        "\n",
        "$$\n",
        "g^{\\prime}(y^k) = 2 h t y_n + 1\n",
        "$$"
      ],
      "id": "f7ttiFPNnvVE"
    },
    {
      "cell_type": "code",
      "execution_count": 21,
      "metadata": {
        "id": "f-EsI46QnvVK"
      },
      "outputs": [],
      "source": [
        "def newton(f, f_prime, x0, eps, n_max):\n",
        "\n",
        "    # initial guess\n",
        "    x = x0\n",
        "    err = abs(f(x))\n",
        "    # lista di tutti gli errori\n",
        "    errors = [err]\n",
        "\n",
        "    err = eps + 1.\n",
        "    it = 0\n",
        "    while (err > eps and it < n_max):\n",
        "        \n",
        "        qk = f_prime(x)\n",
        "\n",
        "        if (abs(qk) < 1e-12):\n",
        "            raise RuntimeError(\"f_prime(x) is close to zero\")\n",
        "\n",
        "        x = x - (f(x) / qk)\n",
        "        # same as\n",
        "        #x_new = x - (f(x) / qk)\n",
        "        #x = x_new\n",
        "\n",
        "        # calcolo e salvo l'errore\n",
        "        err = abs(f(x))\n",
        "        errors.append(err)\n",
        "        it += 1\n",
        "    \n",
        "    # scala semilogaritmica su asse y\n",
        "    #plt.ylabel('Errore (log)')\n",
        "    #plt.xlabel('# Iterazioni')\n",
        "    #plt.semilogy(errors)\n",
        "    #print('Iterazioni:\\t', it)\n",
        "    #print('Soluzione:\\t', x)\n",
        "    #print('Errore:\\t\\t', err)\n",
        "    return x, errors"
      ],
      "id": "f-EsI46QnvVK"
    },
    {
      "cell_type": "code",
      "execution_count": 22,
      "metadata": {
        "id": "3184e358"
      },
      "outputs": [],
      "source": [
        "# backward euler method\n",
        "n_max = 500\n",
        "eps = 1e-10\n",
        "errors = []\n",
        "def be(t, y0, t0, tf, h):\n",
        "    \n",
        "    timesteps = np.arange(t0, tf+1e-10, h)\n",
        "    sol = np.zeros_like(timesteps)\n",
        "    \n",
        "    # initial condition\n",
        "    sol[0] = y0  \n",
        "    for i in range(1, len(sol)):\n",
        "        g = lambda y: h*t*y**2 + y - sol[i-1]\n",
        "        g_prime = lambda y: 2*h*t*y + 1\n",
        "        sol[i], errors = newton(g, g_prime, y0, eps, n_max)\n",
        "        \n",
        "        # gli errori ad ogni step sono piccoli\n",
        "        if errors[-1] > eps:\n",
        "            print('large error')\n",
        "    \n",
        "    return sol, timesteps"
      ],
      "id": "3184e358"
    },
    {
      "cell_type": "code",
      "execution_count": 23,
      "metadata": {
        "colab": {
          "base_uri": "https://localhost:8080/"
        },
        "id": "-foxSCPonvVK",
        "outputId": "3e631153-2e63-4943-ffc5-6e9bbdec563a"
      },
      "outputs": [
        {
          "output_type": "execute_result",
          "data": {
            "text/plain": [
              "array([1.        , 0.95445115, 0.91279171, 0.87454984, 0.8393264 ,\n",
              "       0.80678158, 0.77662431, 0.74860392, 0.72250336, 0.69813382,\n",
              "       0.67533027, 0.65394788, 0.63385902, 0.61495079, 0.597123  ,\n",
              "       0.58028639, 0.56436121, 0.549276  , 0.53496654, 0.52137495,\n",
              "       0.50844893])"
            ]
          },
          "metadata": {},
          "execution_count": 23
        }
      ],
      "source": [
        "t0 = 0\n",
        "tf = 2\n",
        "y0 = 1\n",
        "h = 0.1\n",
        "t = 0.5\n",
        "sol, timesteps = be(t, y0, t0, tf, h)\n",
        "sol"
      ],
      "id": "-foxSCPonvVK"
    },
    {
      "cell_type": "markdown",
      "metadata": {
        "id": "VdOmjTR-nvVL"
      },
      "source": [
        "#### Exact solution\n",
        "$$\n",
        "y(x) = \\int{-t y^2(x) dx} = -t \\frac{y^3(x)}{3}\n",
        "$$\n",
        "\n",
        "OPPURE MEGLIO COSI?\n",
        "\n",
        "$$\n",
        "y = \\int{-t y^2 dy} = -t \\frac{y^3}{3} + C\n",
        "$$\n",
        "\n",
        "dato che deve essere $y(0) = 1$ allora $C = 1$"
      ],
      "id": "VdOmjTR-nvVL"
    },
    {
      "cell_type": "code",
      "execution_count": 24,
      "metadata": {
        "id": "8lsZUwU_nvVL"
      },
      "outputs": [],
      "source": [
        "# qua non ho capito bene il problema e se t e' una costante o variabile\n",
        "# penso la seconda ma poi non mi tornano le derivate quindi per ora l'ho messo costante\n",
        "# l'esempio a lezione era molto ma molto piu facile"
      ],
      "id": "8lsZUwU_nvVL"
    },
    {
      "cell_type": "code",
      "execution_count": 25,
      "metadata": {
        "id": "oj1cXfyLnvVL"
      },
      "outputs": [],
      "source": [
        "# non mi ricodo come si integra il prodotto sicuro quello e' da correggere"
      ],
      "id": "oj1cXfyLnvVL"
    },
    {
      "cell_type": "code",
      "execution_count": 26,
      "metadata": {
        "colab": {
          "base_uri": "https://localhost:8080/",
          "height": 447
        },
        "id": "mAsSzspfnvVL",
        "outputId": "6b9a5a8e-d296-4505-f694-6b94cdb16694"
      },
      "outputs": [
        {
          "output_type": "stream",
          "name": "stdout",
          "text": [
            "Error: 1.991804038714425\n"
          ]
        },
        {
          "output_type": "display_data",
          "data": {
            "text/plain": [
              "<Figure size 640x480 with 1 Axes>"
            ],
            "image/png": "[encoded data removed]"
          },
          "metadata": {}
        }
      ],
      "source": [
        "# let's plot with h = 0.1\n",
        "y, t = be(l, y0, t0, tf, 0.1)\n",
        "\n",
        "exact = lambda x: -t*y**3/3 + 1\n",
        "\n",
        "plt.plot(t, y, 'o-', label='Approximation')\n",
        "plt.plot(t, exact(t), label='Exact')\n",
        "#plt.xlim([-1, 4])\n",
        "plt.legend()\n",
        "plt.grid()\n",
        "\n",
        "error = np.linalg.norm(exact(t) - y, 2)\n",
        "print('Error:', error)"
      ],
      "id": "mAsSzspfnvVL"
    }
  ],
  "metadata": {
    "colab": {
      "provenance": [],
      "include_colab_link": true
    },
    "kernelspec": {
      "display_name": "Python 3",
      "language": "python",
      "name": "python3"
    },
    "language_info": {
      "codemirror_mode": {
        "name": "ipython",
        "version": 3
      },
      "file_extension": ".py",
      "mimetype": "text/x-python",
      "name": "python",
      "nbconvert_exporter": "python",
      "pygments_lexer": "ipython3",
      "version": "3.8.5"
    }
  },
  "nbformat": 4,
  "nbformat_minor": 5
}