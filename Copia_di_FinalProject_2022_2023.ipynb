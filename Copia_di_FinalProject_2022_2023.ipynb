{
  "cells": [
    {
      "cell_type": "markdown",
      "metadata": {
        "id": "view-in-github",
        "colab_type": "text"
      },
      "source": [
        "<a href=\"https://colab.research.google.com/github/GiacomoDiFa/Progetto-MN/blob/main/Copia_di_FinalProject_2022_2023.ipynb\" target=\"_parent\"><img src=\"https://colab.research.google.com/assets/colab-badge.svg\" alt=\"Open In Colab\"/></a>"
      ]
    },
    {
      "cell_type": "code",
      "execution_count": 1,
      "id": "3fe94688",
      "metadata": {
        "id": "3fe94688"
      },
      "outputs": [],
      "source": [
        "%matplotlib inline\n",
        "import numpy as np\n",
        "from matplotlib.pyplot import *\n",
        "import numpy.linalg\n",
        "import scipy.linalg"
      ]
    },
    {
      "cell_type": "markdown",
      "id": "405cafef",
      "metadata": {
        "id": "405cafef"
      },
      "source": [
        "Compile the following notebook and share a link with me sending and e-mail to giovanni.stabile@uniurb.it at least one week before the oral examination. All the implemented function will have to be properly documented and commented."
      ]
    },
    {
      "cell_type": "markdown",
      "id": "9d175179",
      "metadata": {
        "id": "9d175179"
      },
      "source": [
        "Compile The following Cell with your information. In case it is a group project, put the info for all the group members\n",
        "\n",
        "Name1: Giacomo \\\n",
        "Surname1: Di Fabrizio\\\n",
        "Email1: \n",
        "\n",
        "Name2: Matteo Marco\\\n",
        "Surname2: Montanari\\\n",
        "Email2: "
      ]
    },
    {
      "cell_type": "markdown",
      "id": "8184faab",
      "metadata": {
        "id": "8184faab"
      },
      "source": [
        "Consider the following one-dimensional PDE:\n",
        "$$\n",
        "-u_{xx}(x) = f(x)\\quad\\mathrm{ in }\\ \\Omega = (0, \\pi)\n",
        "$$\n",
        "$$\n",
        "u(x) = 0, \\quad\\mathrm{ on }\\ \\partial\\Omega = \\{0, \\pi\\}\n",
        "$$\n",
        "\n",
        "Given the following $4^{th}$ order finite difference approximation of the second order derivative:\n",
        "\n",
        "$$u_{xx}(x_i) = \\frac{-u_{i-2}+16u_{i-1}-30u_i+16u_{i+1}-u_{i+2}}{12h^2}$$\n",
        "\n",
        "Implement a function that given the domain interval, the forcing function, the number of discretization points, the boundary conditions, returns the matrix $A$ and the the right hand side $b$."
      ]
    },
    {
      "cell_type": "code",
      "execution_count": 2,
      "id": "1c562f13",
      "metadata": {
        "id": "1c562f13"
      },
      "outputs": [],
      "source": [
        "def finDif(omega,f,n,bc):\n",
        "  h = omega[1]/(n-1)\n",
        "  x = np.linspace(0,1,n)\n",
        "  terminenoto = -f(x)\n",
        "\n",
        "  A = np.zeros((n,n))\n",
        "  \n",
        "  a = -np.ones((n-2,)) \n",
        "  b = 16*np.ones((n-1,))\n",
        "  c = -30*np.ones((n,))\n",
        "\n",
        "  A = (np.diag(a, -2) + np.diag(a, +2) + np.diag(b, -1) + np.diag(b, +1) + np.diag(c, 0))\n",
        "\n",
        "  A /= (12*h**2)\n",
        "\n",
        "  A[0, :] = np.zeros(n)\n",
        "  A[1, :] = np.zeros(n)\n",
        "\n",
        "  A[n-1, :] = np.zeros(n)\n",
        "  A[n-2, :] = np.zeros(n)\n",
        "\n",
        "  A_top_left = np.array([[-1.0, 0.0, 0.0], [-1.0, +2.0, -1.0]]) / (h**2)\n",
        "  A_bottom_rigth = np.array([[-1.0, +2.0, -1.0], [0.0, 0.0, -1.0]]) / (h**2)\n",
        "\n",
        "  A[0:2, 0:3] = A_top_left \n",
        "  A[n-2:n, n-3:n ] = A_bottom_rigth\n",
        "  A[0,0] = 1\n",
        "  A[-1,-1] = 1\n",
        "\n",
        "  terminenoto[0] = bc[0]\n",
        "  terminenoto[-1] = bc[1]\n",
        "\n",
        "  return A, terminenoto\n"
      ]
    },
    {
      "cell_type": "code",
      "source": [
        "omega = [0,np.pi]\n",
        "f = lambda x : np.sin(x)\n",
        "n=3\n",
        "bc = [0,0]\n",
        "A, b = finDif(omega, f, n, bc)\n",
        "#fare un controllo che n sia maggiore di un certo valore"
      ],
      "metadata": {
        "id": "iscHpCM1oDQ_"
      },
      "id": "iscHpCM1oDQ_",
      "execution_count": 3,
      "outputs": []
    },
    {
      "cell_type": "markdown",
      "id": "c21bb21e",
      "metadata": {
        "id": "c21bb21e"
      },
      "source": [
        "Call the function using:"
      ]
    },
    {
      "cell_type": "markdown",
      "id": "4f8a7c6f",
      "metadata": {
        "id": "4f8a7c6f"
      },
      "source": [
        "Implement two functions that compute the LU and the Cholesky factorization of the system matrix $A$"
      ]
    },
    {
      "cell_type": "code",
      "execution_count": 4,
      "id": "47468a37",
      "metadata": {
        "id": "47468a37"
      },
      "outputs": [],
      "source": [
        "def LU(A):\n",
        "    A = A.copy()\n",
        "    N=len(A)\n",
        "    for k in range(N-1):\n",
        "        if (abs(A[k,k]) < 1e-15):\n",
        "            raise RuntimeError(\"Null pivot\")\n",
        "            \n",
        "        A[k+1:N,k] /= A[k,k]\n",
        "        for j in range(k+1,N):\n",
        "            A[k+1:N,j] -= A[k+1:N,k]*A[k,j]\n",
        "    \n",
        "    L=np.tril(A)\n",
        "    for i in range(N):\n",
        "        L[i,i]=1.0\n",
        "    U = np.triu(A)\n",
        "    return L, U"
      ]
    },
    {
      "cell_type": "code",
      "execution_count": 5,
      "id": "193ebfed",
      "metadata": {
        "id": "193ebfed"
      },
      "outputs": [],
      "source": [
        "def cholesky(A):\n",
        "    A = A.copy()\n",
        "    N = len(A)\n",
        "    for k in range(N-1):\n",
        "        A[k,k] = np.sqrt(A[k,k])\n",
        "        A[k+1:N,k] = A[k+1:N,k]/A[k,k]\n",
        "        \n",
        "        for j in range(k+1,N):\n",
        "            A[j:N,j] = A[j:N,j] - A[j:N,k]*A[j,k]\n",
        "        \n",
        "    A[-1,-1] = np.sqrt(A[-1,-1])\n",
        "    L=np.tril(A)\n",
        "    return L, L.transpose()"
      ]
    },
    {
      "cell_type": "markdown",
      "id": "41eb8436",
      "metadata": {
        "id": "41eb8436"
      },
      "source": [
        "Implement forward and backward substitution functions to exploit the developed factorization methods to solve the derived linear system of equations."
      ]
    },
    {
      "cell_type": "code",
      "execution_count": 6,
      "id": "019cf0df",
      "metadata": {
        "id": "019cf0df"
      },
      "outputs": [],
      "source": [
        "def L_solve(L,rhs):\n",
        "  x = np.zeros_like(rhs)\n",
        "  N = len(L)\n",
        "        \n",
        "  x[0] = rhs[0]/L[0,0]\n",
        "  for i in range(1,N):\n",
        "    x[i] = (rhs[i] - np.dot(L[i, 0:i], x[0:i]))/L[i,i]\n",
        "  return x"
      ]
    },
    {
      "cell_type": "code",
      "execution_count": 7,
      "id": "26ce17c4",
      "metadata": {
        "id": "26ce17c4"
      },
      "outputs": [],
      "source": [
        "def U_solve(U,rhs):\n",
        "  x = np.zeros_like(rhs)\n",
        "  N=len(U)\n",
        "              \n",
        "  x[-1] = rhs[-1]/U[-1,-1]\n",
        "  for i in reversed(range(N-1)):\n",
        "    x[i] = (rhs[i] -np.dot(U[i, i+1:N], x[i+1:N]))/U[i,i]\n",
        "  return x"
      ]
    },
    {
      "cell_type": "markdown",
      "id": "08ac9ba1",
      "metadata": {
        "id": "08ac9ba1"
      },
      "source": [
        "Solve the derived linear system using the implemented functions and plot the computed solution:"
      ]
    },
    {
      "cell_type": "code",
      "execution_count": 8,
      "id": "7c1de4f3",
      "metadata": {
        "id": "7c1de4f3",
        "colab": {
          "base_uri": "https://localhost:8080/",
          "height": 430
        },
        "outputId": "5453c7cc-fbeb-4aa4-9eb6-ba5ad0a73c57"
      },
      "outputs": [
        {
          "output_type": "display_data",
          "data": {
            "text/plain": [
              "<Figure size 640x480 with 1 Axes>"
            ],
            "image/png": "[encoded data removed]"
          },
          "metadata": {}
        }
      ],
      "source": [
        "omega = [0,np.pi]\n",
        "f = lambda x : np.sin(x)\n",
        "n=20\n",
        "bc = [0,0]\n",
        "A, b = finDif(omega, f, n, bc)\n",
        "x =np.linspace(0,np.pi,n)\n",
        "L, U = LU(A)\n",
        "w = L_solve(L,b)\n",
        "u = U_solve(U,w)\n",
        "\n",
        "_ = plot(x,u,'ro')"
      ]
    },
    {
      "cell_type": "markdown",
      "id": "62cdfe65",
      "metadata": {
        "id": "62cdfe65"
      },
      "source": [
        "Considering the new domain $\\Omega = (0,1)$ and the forcing term $f(x) = x(1-x)$ with B.C. $u(x) = 0$, on $\\partial \\Omega = {0,1}$ produce a plot and a table where you show the decay of the error w.r.t. the number of grid points.\n",
        "(The analytical solution for the above problems is $u_{an} = \\frac{x^4}{12} - \\frac{x^3}{6} + \\frac{x}{12}$)"
      ]
    },
    {
      "cell_type": "code",
      "execution_count": 9,
      "id": "91212afb",
      "metadata": {
        "id": "91212afb",
        "outputId": "4d7f3481-8c00-443f-99ae-5fbdf520bd7c",
        "colab": {
          "base_uri": "https://localhost:8080/",
          "height": 430
        }
      },
      "outputs": [
        {
          "output_type": "display_data",
          "data": {
            "text/plain": [
              "<Figure size 640x480 with 1 Axes>"
            ],
            "image/png": "[encoded data removed]"
          },
          "metadata": {}
        }
      ],
      "source": [
        "omega_new = [0,1]\n",
        "n_new=100\n",
        "x_new = np.linspace(0,1,n_new)\n",
        "f_new = lambda x_new : x_new*(1-x_new)\n",
        "bc_new = [0,0]\n",
        "A_new, b_new = finDif(omega_new, f_new, n_new, bc_new)\n",
        "A1_new = A_new.copy()\n",
        "u_new = np.linalg.solve(A1_new, b_new) #qua non torna per la dimensione del termine noto come dicevo nello script sopra #ora grazie a matte dovrebbe tornare\n",
        "\n",
        "u_ex = (x_new**4)/12. - (x_new**3)/6. + x_new/12.\n",
        "\n",
        "# Plot the FD and exact solution\n",
        "_ = plot(x_new,u_new,'ro')\n",
        "_ = plot(x_new,u_ex)\n",
        "\n",
        "\n",
        "#qua oltre al plot mi sembra di capire che bisogna fare una tabella in cui mostrare come diminuisce l'errore all'aumentare dei punti"
      ]
    },
    {
      "cell_type": "markdown",
      "id": "c8d5002f",
      "metadata": {
        "id": "c8d5002f"
      },
      "source": [
        "Exploit the derived LU factorizations to compute the determinant of the system's matrix $A$ using the original problem formulation."
      ]
    },
    {
      "cell_type": "code",
      "source": [
        "def determinant(A):\n",
        "  L,U = LU(A)\n",
        "  size = A.shape[0]\n",
        "  determinant = 1\n",
        "  for i in range(size):\n",
        "    determinant *= U[i,i]\n",
        "  return determinant\n",
        "print(determinant(A))\n",
        "print(numpy.linalg.det(A))\n",
        "#checkato e taaaaac torna"
      ],
      "metadata": {
        "id": "A34ityJaYypS",
        "outputId": "d1985e20-a202-4006-b074-3d5bd310865d",
        "colab": {
          "base_uri": "https://localhost:8080/"
        }
      },
      "id": "A34ityJaYypS",
      "execution_count": 10,
      "outputs": [
        {
          "output_type": "stream",
          "name": "stdout",
          "text": [
            "2.8454691621159276e+30\n",
            "2.845469162115922e+30\n"
          ]
        }
      ]
    },
    {
      "cell_type": "code",
      "execution_count": 11,
      "id": "c25fc1fe",
      "metadata": {
        "id": "c25fc1fe",
        "outputId": "7917b93e-9e1f-49bf-f1e7-e71ab2273895",
        "colab": {
          "base_uri": "https://localhost:8080/"
        }
      },
      "outputs": [
        {
          "output_type": "execute_result",
          "data": {
            "text/plain": [
              "634.6067267951524"
            ]
          },
          "metadata": {},
          "execution_count": 11
        }
      ],
      "source": [
        "def condNumb(A):\n",
        "    condNu = np.linalg.cond(A)\n",
        "    return condNu\n",
        "condNumb(A)\n",
        "#forse si deve fare diversamente? Boohh che poi il prof si è confuso secondo me perchè chiedeva di calcolare il determinante\n",
        "# (vedi cella sopra) e non il numero di condizionamento"
      ]
    },
    {
      "cell_type": "markdown",
      "id": "2728b49a",
      "metadata": {
        "id": "2728b49a"
      },
      "source": [
        "Implement a preconditioned Conjugant Gradient method to solve the original linear system of equations using an iterative method:"
      ]
    },
    {
      "cell_type": "code",
      "execution_count": 12,
      "id": "62b83aee",
      "metadata": {
        "id": "62b83aee",
        "colab": {
          "base_uri": "https://localhost:8080/",
          "height": 482
        },
        "outputId": "f11d5551-7a9e-424e-8a6b-a5a0a3c4dd93"
      },
      "outputs": [
        {
          "output_type": "stream",
          "name": "stdout",
          "text": [
            "20 17.210438598708073\n",
            "0.528886535754633\n"
          ]
        },
        {
          "output_type": "execute_result",
          "data": {
            "text/plain": [
              "[<matplotlib.lines.Line2D at 0x7f2abc7765c0>]"
            ]
          },
          "metadata": {},
          "execution_count": 12
        },
        {
          "output_type": "display_data",
          "data": {
            "text/plain": [
              "<Figure size 640x480 with 1 Axes>"
            ],
            "image/png": "[encoded data removed]"
          },
          "metadata": {}
        }
      ],
      "source": [
        "def conjugate_gradient(A, b, P, nmax=len(A), eps=1e-10):\n",
        "  N=len(A)\n",
        "  x = np.zeros_like(b)\n",
        "  tol = eps + 1\n",
        "  it = 0\n",
        "  r = b - np.dot(A,x)\n",
        "  rho_old = 1.\n",
        "  p_old = np.zeros_like(b)\n",
        "  while (it < nmax and tol > eps):\n",
        "    it += 1\n",
        "    z = np.linalg.solve(P,r)\n",
        "    rho = np.dot(r,z)\n",
        "    if (it > 1):\n",
        "      beta = rho/rho_old\n",
        "      p = z + beta*p_old\n",
        "    else:\n",
        "      p = z\n",
        "    q = np.dot(A,p)\n",
        "    alpha = rho/(np.dot(p,q))\n",
        "    x += p*alpha\n",
        "    r -= q*alpha\n",
        "    p_old = p\n",
        "    rho_old = rho\n",
        "    tol = np.linalg.norm(r,2)\n",
        "  print(it, tol)\n",
        "  return x\n",
        "\n",
        "sol_conjugate_gradient = conjugate_gradient(A, b, np.identity(len(A)))\n",
        "print(np.linalg.norm(sol_conjugate_gradient - u)/np.linalg.norm(u))\n",
        "#non so se torna, ho copiato i codici paro paro\n",
        "#forse non torna perchè la matrice fa cagare?\n",
        "x_newnew = np.linspace(0,np.pi,n)\n",
        "plot(x_newnew,sol_conjugate_gradient)\n",
        "plot(x_newnew,u)"
      ]
    },
    {
      "cell_type": "markdown",
      "id": "8a4cfc02",
      "metadata": {
        "id": "8a4cfc02"
      },
      "source": [
        "Consider the following time dependent variation of the PDE starting from the orginal problem formulation:\n",
        "$$\n",
        "u'(t)-u_{xx} = \\alpha(t)f(x)\n",
        "$$\n",
        "\n",
        "for $t\\in [0,T]$, with $\\alpha(t) = \\cos(t)$ and $T = 6\\pi$\n",
        "\n",
        "Use the same finite difference scheme to derive the semi-discrete formulation and solve it using a forward Euler's method.\n",
        "\n",
        "Plot the time dependent solution solution at $x = \\pi/2$, $x=1$, \n",
        "$x=\\pi$\n"
      ]
    },
    {
      "cell_type": "code",
      "execution_count": 13,
      "id": "3ffe0689",
      "metadata": {
        "id": "3ffe0689"
      },
      "outputs": [],
      "source": [
        "#TODO"
      ]
    },
    {
      "cell_type": "markdown",
      "id": "36936121",
      "metadata": {
        "id": "36936121"
      },
      "source": [
        "Given the original $Au = b$ system, implement an algorithm to compute the largest and smallest eigenvalues and the associated eigenvectors of the matrix $A$."
      ]
    },
    {
      "cell_type": "code",
      "execution_count": 14,
      "id": "622aadf4",
      "metadata": {
        "id": "622aadf4",
        "colab": {
          "base_uri": "https://localhost:8080/"
        },
        "outputId": "b5d2b59e-c7b1-49a2-ee58-83976f4bd5d5"
      },
      "outputs": [
        {
          "output_type": "stream",
          "name": "stdout",
          "text": [
            "error = 8.87072000465959e-06 iterations = 120\n",
            "lambda_max = -186.7652164003162\n",
            "numpy\n",
            "[-192.9709273  -186.76521643 -176.78880407 -163.56048927 -147.74840387\n",
            " -130.11961958 -111.48539637  -92.64783265  -74.35324985  -57.25646119\n",
            "  -41.89808053  -28.69399609  -17.9316559    -9.76246793   -1.01278932\n",
            "   -4.18088078   60.20308421   60.2030843     1.            1.        ]\n",
            "error = 9.14180261297523e-06 iterations = 34\n",
            "lambda = 0.9999912202299153\n"
          ]
        }
      ],
      "source": [
        "z0 = np.ones_like(x)\n",
        "def PM(A,z0,tol=1e-5,nmax=500):\n",
        "    q = z0/np.linalg.norm(z0,2)\n",
        "    it = 0\n",
        "    err = tol + 1.\n",
        "    while it < nmax and err > tol:\n",
        "        z = np.dot(A,q)\n",
        "        l = np.dot(q.T,z)\n",
        "        err = np.linalg.norm(z-l*q,2)\n",
        "        q = z/np.linalg.norm(z,2)\n",
        "        \n",
        "        it += 1\n",
        "    print(\"error =\", err, \"iterations =\", it)\n",
        "    print(\"lambda_max =\", l)\n",
        "    return l,q\n",
        "\n",
        "l,x = PM(A,z0)\n",
        "    \n",
        "l_np, x_np = np.linalg.eig(A)\n",
        "\n",
        "print(\"numpy\")\n",
        "print(l_np)\n",
        "\n",
        "def IPM(A,x0,mu,tol=1e-5,nmax=500):\n",
        "    M = A -mu*np.eye(len(A))\n",
        "    P,L,U = scipy.linalg.lu(M)\n",
        "    err = tol + 1.\n",
        "    it = 0\n",
        "    q = x0/numpy.linalg.norm(x0,2)\n",
        "    while it < nmax and err > tol :\n",
        "        y = scipy.linalg.solve(L,np.dot(P.T,q))\n",
        "        x = scipy.linalg.solve(U,y)\n",
        "        q = x/numpy.linalg.norm(x,2)\n",
        "        z = np.dot(A,q)\n",
        "        l = np.dot(q.T,z)\n",
        "        err = np.linalg.norm(z-l*q,2)\n",
        "        it += 1\n",
        "    print(\"error =\", err, \"iterations =\", it)\n",
        "    print(\"lambda =\", l)\n",
        "    return l,q\n",
        "\n",
        "l,x = IPM(A,z0,6.)\n",
        "\n",
        "#ho copiato il codice pari pari, non so se torna in quanto l'errore è abbastanza grande però torna perchè \n",
        "#esce dopo numero massimo di iterazioni, se le incremento l'errore diminuisce"
      ]
    },
    {
      "cell_type": "markdown",
      "id": "85d5f64e",
      "metadata": {
        "id": "85d5f64e"
      },
      "source": [
        "Compute the inverse of the matrix A exploiting the derived LU factorization"
      ]
    },
    {
      "cell_type": "code",
      "source": [
        "def inverseMatrix(A):\n",
        "  size = round(np.sqrt(A.size))\n",
        "  E = np.eye(size)\n",
        "  X = np.zeros_like(E)\n",
        "  W = np.zeros_like(E)\n",
        "  L, U = LU(A)\n",
        "\n",
        "  for i in range(size):\n",
        "    W[:,i:] = L_solve(L,E[:,i:])\n",
        "    X[:,i:] = U_solve(U,W[:,i:])\n",
        "  #I = A@X  #uncomment for see identity matrix result of A@A**-1\n",
        "  #print(I) #uncomment for see identity matrix result of A@A**-1\n",
        "  return X\n",
        "\n",
        "inverseMatrix(A)"
      ],
      "metadata": {
        "id": "MrdjqDk7WaCj",
        "outputId": "755f46ec-99a6-4a22-87a7-80f8dc7a4940",
        "colab": {
          "base_uri": "https://localhost:8080/"
        }
      },
      "id": "MrdjqDk7WaCj",
      "execution_count": 15,
      "outputs": [
        {
          "output_type": "execute_result",
          "data": {
            "text/plain": [
              "array([[ 1.        ,  0.        ,  0.        ,  0.        ,  0.        ,\n",
              "         0.        ,  0.        ,  0.        ,  0.        ,  0.        ,\n",
              "         0.        ,  0.        ,  0.        ,  0.        ,  0.        ,\n",
              "         0.        ,  0.        ,  0.        ,  0.        ,  0.        ],\n",
              "       [ 0.94736842,  0.02778421, -0.02260218, -0.02288933, -0.02157433,\n",
              "        -0.0201443 , -0.01870601, -0.01726713, -0.0158282 , -0.01438928,\n",
              "        -0.01295035, -0.01151142, -0.01007249, -0.00863356, -0.0071946 ,\n",
              "        -0.00575518, -0.00430937, -0.00277454,  0.00167014,  0.05263158],\n",
              "       [ 0.89473684,  0.0282288 , -0.04520437, -0.04577866, -0.04314866,\n",
              "        -0.0402886 , -0.03741202, -0.03453426, -0.03165641, -0.02877855,\n",
              "        -0.0259007 , -0.02302284, -0.02014499, -0.01726713, -0.0143892 ,\n",
              "        -0.01151036, -0.00861873, -0.00554909,  0.00334028,  0.10526316],\n",
              "       [ 0.84210526,  0.02671049, -0.04425179, -0.06697683, -0.06460157,\n",
              "        -0.06042418, -0.0561174 , -0.05180134, -0.04748461, -0.04316783,\n",
              "        -0.03885105, -0.03453426, -0.03021748, -0.02590069, -0.0215838 ,\n",
              "        -0.01726553, -0.0129281 , -0.00832363,  0.00501042,  0.15789474],\n",
              "       [ 0.78947368,  0.02505125, -0.04160805, -0.06449883, -0.0843546 ,\n",
              "        -0.08043771, -0.07481402, -0.06906779, -0.06331276, -0.0575571 ,\n",
              "        -0.05180139, -0.04604568, -0.04028997, -0.03453425, -0.0287784 ,\n",
              "        -0.02302071, -0.01723746, -0.01109818,  0.00668056,  0.21052632],\n",
              "       [ 0.73684211,  0.02338189, -0.0388429 , -0.06032095, -0.08043083,\n",
              "        -0.09875133, -0.0933886 , -0.08632548, -0.07914029, -0.07194633,\n",
              "        -0.06475174, -0.0575571 , -0.05036246, -0.04316781, -0.035973  ,\n",
              "        -0.02877589, -0.02154683, -0.01387272,  0.0083507 ,  0.26315789],\n",
              "       [ 0.68421053,  0.02171181, -0.03606903, -0.05602102, -0.07480714,\n",
              "        -0.09338814, -0.11026325, -0.10346112, -0.09495905, -0.08633493,\n",
              "        -0.07770204, -0.06906852, -0.06043496, -0.05180138, -0.0431676 ,\n",
              "        -0.03453107, -0.02585619, -0.01664727,  0.01002084,  0.31578947],\n",
              "       [ 0.63157895,  0.02004168, -0.03329453, -0.05171233, -0.0690614 ,\n",
              "        -0.08632503, -0.10346109, -0.11889685, -0.11065577, -0.10071476,\n",
              "        -0.09065171, -0.08057989, -0.07050745, -0.06043494, -0.0503622 ,\n",
              "        -0.04028624, -0.03016556, -0.01942181,  0.01169098,  0.36842105],\n",
              "       [ 0.57894737,  0.01837154, -0.03051999, -0.04740302, -0.0633069 ,\n",
              "        -0.07913987, -0.09495902, -0.11065576, -0.12465256, -0.11497255,\n",
              "        -0.10359262, -0.09209064, -0.08057989, -0.0690685 , -0.0575568 ,\n",
              "        -0.04604142, -0.03447492, -0.02219636,  0.01336112,  0.42105263],\n",
              "       [ 0.52631579,  0.0167014 , -0.02774545, -0.04309365, -0.05755177,\n",
              "        -0.07194595, -0.0863349 , -0.10071476, -0.11497255, -0.12753042,\n",
              "        -0.11641148, -0.10359262, -0.09065171, -0.07770201, -0.06475139,\n",
              "        -0.0517966 , -0.03878429, -0.0249709 ,  0.01503126,  0.47368421],\n",
              "       [ 0.47368421,  0.01503126, -0.0249709 , -0.03878429, -0.0517966 ,\n",
              "        -0.06475139, -0.07770201, -0.09065171, -0.10359262, -0.11641148,\n",
              "        -0.12753042, -0.11497255, -0.10071476, -0.0863349 , -0.07194595,\n",
              "        -0.05755177, -0.04309365, -0.02774545,  0.0167014 ,  0.52631579],\n",
              "       [ 0.42105263,  0.01336112, -0.02219636, -0.03447492, -0.04604142,\n",
              "        -0.0575568 , -0.0690685 , -0.08057989, -0.09209064, -0.10359262,\n",
              "        -0.11497255, -0.12465256, -0.11065576, -0.09495902, -0.07913987,\n",
              "        -0.0633069 , -0.04740302, -0.03051999,  0.01837154,  0.57894737],\n",
              "       [ 0.36842105,  0.01169098, -0.01942181, -0.03016556, -0.04028624,\n",
              "        -0.0503622 , -0.06043494, -0.07050745, -0.08057989, -0.09065171,\n",
              "        -0.10071476, -0.11065577, -0.11889685, -0.10346109, -0.08632503,\n",
              "        -0.0690614 , -0.05171233, -0.03329453,  0.02004168,  0.63157895],\n",
              "       [ 0.31578947,  0.01002084, -0.01664727, -0.02585619, -0.03453107,\n",
              "        -0.0431676 , -0.05180138, -0.06043496, -0.06906852, -0.07770204,\n",
              "        -0.08633493, -0.09495905, -0.10346112, -0.11026325, -0.09338814,\n",
              "        -0.07480714, -0.05602102, -0.03606903,  0.02171181,  0.68421053],\n",
              "       [ 0.26315789,  0.0083507 , -0.01387272, -0.02154683, -0.02877589,\n",
              "        -0.035973  , -0.04316781, -0.05036246, -0.0575571 , -0.06475174,\n",
              "        -0.07194633, -0.07914029, -0.08632548, -0.0933886 , -0.09875133,\n",
              "        -0.08043083, -0.06032095, -0.0388429 ,  0.02338189,  0.73684211],\n",
              "       [ 0.21052632,  0.00668056, -0.01109818, -0.01723746, -0.02302071,\n",
              "        -0.0287784 , -0.03453425, -0.04028997, -0.04604568, -0.05180139,\n",
              "        -0.0575571 , -0.06331276, -0.06906779, -0.07481402, -0.08043771,\n",
              "        -0.0843546 , -0.06449883, -0.04160805,  0.02505125,  0.78947368],\n",
              "       [ 0.15789474,  0.00501042, -0.00832363, -0.0129281 , -0.01726553,\n",
              "        -0.0215838 , -0.02590069, -0.03021748, -0.03453426, -0.03885105,\n",
              "        -0.04316783, -0.04748461, -0.05180134, -0.0561174 , -0.06042418,\n",
              "        -0.06460157, -0.06697683, -0.04425179,  0.02671049,  0.84210526],\n",
              "       [ 0.10526316,  0.00334028, -0.00554909, -0.00861873, -0.01151036,\n",
              "        -0.0143892 , -0.01726713, -0.02014499, -0.02302284, -0.0259007 ,\n",
              "        -0.02877855, -0.03165641, -0.03453426, -0.03741202, -0.0402886 ,\n",
              "        -0.04314866, -0.04577866, -0.04520437,  0.0282288 ,  0.89473684],\n",
              "       [ 0.05263158,  0.00167014, -0.00277454, -0.00430937, -0.00575518,\n",
              "        -0.0071946 , -0.00863356, -0.01007249, -0.01151142, -0.01295035,\n",
              "        -0.01438928, -0.0158282 , -0.01726713, -0.01870601, -0.0201443 ,\n",
              "        -0.02157433, -0.02288933, -0.02260218,  0.02778421,  0.94736842],\n",
              "       [ 0.        ,  0.        ,  0.        ,  0.        ,  0.        ,\n",
              "         0.        ,  0.        ,  0.        ,  0.        ,  0.        ,\n",
              "         0.        ,  0.        ,  0.        ,  0.        ,  0.        ,\n",
              "         0.        ,  0.        ,  0.        ,  0.        ,  1.        ]])"
            ]
          },
          "metadata": {},
          "execution_count": 15
        }
      ]
    },
    {
      "cell_type": "markdown",
      "id": "cb22566e",
      "metadata": {
        "id": "cb22566e"
      },
      "source": [
        "Consider the following Cauchy problem\n",
        "$$\n",
        "\\begin{cases}\n",
        "y'= -ty^2 \\quad 0\\le t \\le 2\\\\\n",
        "y(0) = 1\n",
        "\\end{cases}\n",
        "$$\n",
        "Implement a Backward Euler's method in a suitable function and solve the resulting non-linear equation using a Newton's method."
      ]
    },
    {
      "cell_type": "code",
      "execution_count": 16,
      "id": "3184e358",
      "metadata": {
        "id": "3184e358"
      },
      "outputs": [],
      "source": [
        "#TODO"
      ]
    }
  ],
  "metadata": {
    "kernelspec": {
      "display_name": "Python 3 (ipykernel)",
      "language": "python",
      "name": "python3"
    },
    "language_info": {
      "codemirror_mode": {
        "name": "ipython",
        "version": 3
      },
      "file_extension": ".py",
      "mimetype": "text/x-python",
      "name": "python",
      "nbconvert_exporter": "python",
      "pygments_lexer": "ipython3",
      "version": "3.10.9"
    },
    "colab": {
      "provenance": [],
      "include_colab_link": true
    }
  },
  "nbformat": 4,
  "nbformat_minor": 5
}