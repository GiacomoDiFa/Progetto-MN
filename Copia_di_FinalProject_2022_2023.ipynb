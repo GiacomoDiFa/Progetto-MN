{
  "cells": [
    {
      "cell_type": "markdown",
      "metadata": {
        "id": "view-in-github",
        "colab_type": "text"
      },
      "source": [
        "<a href=\"https://colab.research.google.com/github/GiacomoDiFa/Progetto-MN/blob/main/Copia_di_FinalProject_2022_2023.ipynb\" target=\"_parent\"><img src=\"https://colab.research.google.com/assets/colab-badge.svg\" alt=\"Open In Colab\"/></a>"
      ]
    },
    {
      "cell_type": "code",
      "execution_count": 24,
      "id": "3fe94688",
      "metadata": {
        "id": "3fe94688"
      },
      "outputs": [],
      "source": [
        "%matplotlib inline\n",
        "import numpy as np\n",
        "from matplotlib.pyplot import *\n",
        "import numpy.linalg\n",
        "import scipy.linalg"
      ]
    },
    {
      "cell_type": "markdown",
      "id": "405cafef",
      "metadata": {
        "id": "405cafef"
      },
      "source": [
        "Compile the following notebook and share a link with me sending and e-mail to giovanni.stabile@uniurb.it at least one week before the oral examination. All the implemented function will have to be properly documented and commented."
      ]
    },
    {
      "cell_type": "markdown",
      "id": "9d175179",
      "metadata": {
        "id": "9d175179"
      },
      "source": [
        "Compile The following Cell with your information. In case it is a group project, put the info for all the group members\n",
        "\n",
        "Name1: Giacomo \\\n",
        "Surname1: Di Fabrizio\\\n",
        "Email1: \n",
        "\n",
        "Name2: Matteo Marco\\\n",
        "Surname2: Montanari\\\n",
        "Email2: "
      ]
    },
    {
      "cell_type": "markdown",
      "id": "8184faab",
      "metadata": {
        "id": "8184faab"
      },
      "source": [
        "Consider the following one-dimensional PDE:\n",
        "$$\n",
        "-u_{xx}(x) = f(x)\\quad\\mathrm{ in }\\ \\Omega = (0, \\pi)\n",
        "$$\n",
        "$$\n",
        "u(x) = 0, \\quad\\mathrm{ on }\\ \\partial\\Omega = \\{0, \\pi\\}\n",
        "$$\n",
        "\n",
        "Given the following $4^{th}$ order finite difference approximation of the second order derivative:\n",
        "\n",
        "$$u_{xx}(x_i) = \\frac{-u_{i-2}+16u_{i-1}-30u_i+16u_{i+1}-u_{i+2}}{12h^2}$$\n",
        "\n",
        "Implement a function that given the domain interval, the forcing function, the number of discretization points, the boundary conditions, returns the matrix $A$ and the the right hand side $b$."
      ]
    },
    {
      "cell_type": "code",
      "execution_count": 25,
      "id": "1c562f13",
      "metadata": {
        "id": "1c562f13"
      },
      "outputs": [],
      "source": [
        "def finDif(omega,f,n,bc):\n",
        "  h = omega[1]/(n-1)\n",
        "  x = np.linspace(0,1,n)\n",
        "  terminenoto = -f(x)\n",
        "\n",
        "  A = np.zeros((n,n))\n",
        "  \n",
        "  a = -np.ones((n-2,)) \n",
        "  b = 16*np.ones((n-1,))\n",
        "  c = -30*np.ones((n,))\n",
        "\n",
        "  A = (np.diag(a, -2) + np.diag(a, +2) + np.diag(b, -1) + np.diag(b, +1) + np.diag(c, 0))\n",
        "\n",
        "  A /= (12*h**2)\n",
        "\n",
        "  A[0, :] = np.zeros(n)\n",
        "  A[1, :] = np.zeros(n)\n",
        "\n",
        "  A[n-1, :] = np.zeros(n)\n",
        "  A[n-2, :] = np.zeros(n)\n",
        "\n",
        "  A_top_left = np.array([[-1.0, 0.0, 0.0], [-1.0, +2.0, -1.0]]) / (h**2)\n",
        "  A_bottom_rigth = np.array([[-1.0, +2.0, -1.0], [0.0, 0.0, -1.0]]) / (h**2)\n",
        "\n",
        "  A[0:2, 0:3] = A_top_left \n",
        "  A[n-2:n, n-3:n ] = A_bottom_rigth\n",
        "  A[0,0] = 1\n",
        "  A[-1,-1] = 1\n",
        "\n",
        "  terminenoto[0] = bc[0]\n",
        "  terminenoto[-1] = bc[1]\n",
        "\n",
        "  return A, terminenoto\n"
      ]
    },
    {
      "cell_type": "code",
      "source": [
        "omega = [0,np.pi]\n",
        "f = lambda x : np.sin(x)\n",
        "n=6\n",
        "bc = [0,0]\n",
        "A, b = finDif(omega, f, n, bc)\n",
        "#fare un controllo che n sia maggiore di un certo valore"
      ],
      "metadata": {
        "id": "iscHpCM1oDQ_"
      },
      "id": "iscHpCM1oDQ_",
      "execution_count": 26,
      "outputs": []
    },
    {
      "cell_type": "markdown",
      "id": "c21bb21e",
      "metadata": {
        "id": "c21bb21e"
      },
      "source": [
        "Call the function using:"
      ]
    },
    {
      "cell_type": "markdown",
      "id": "4f8a7c6f",
      "metadata": {
        "id": "4f8a7c6f"
      },
      "source": [
        "Implement two functions that compute the LU and the Cholesky factorization of the system matrix $A$"
      ]
    },
    {
      "cell_type": "code",
      "execution_count": 27,
      "id": "47468a37",
      "metadata": {
        "id": "47468a37"
      },
      "outputs": [],
      "source": [
        "def LU(A):\n",
        "    A = A.copy()\n",
        "    N=len(A)\n",
        "    for k in range(N-1):\n",
        "        if (abs(A[k,k]) < 1e-15):\n",
        "            raise RuntimeError(\"Null pivot\")\n",
        "            \n",
        "        A[k+1:N,k] /= A[k,k]\n",
        "        for j in range(k+1,N):\n",
        "            A[k+1:N,j] -= A[k+1:N,k]*A[k,j]\n",
        "    \n",
        "    L=np.tril(A)\n",
        "    for i in range(N):\n",
        "        L[i,i]=1.0\n",
        "    U = np.triu(A)\n",
        "    return L, U"
      ]
    },
    {
      "cell_type": "code",
      "execution_count": 28,
      "id": "193ebfed",
      "metadata": {
        "id": "193ebfed"
      },
      "outputs": [],
      "source": [
        "def cholesky(A):\n",
        "    A = A.copy()\n",
        "    N = len(A)\n",
        "    for k in range(N-1):\n",
        "        A[k,k] = np.sqrt(A[k,k])\n",
        "        A[k+1:N,k] = A[k+1:N,k]/A[k,k]\n",
        "        \n",
        "        for j in range(k+1,N):\n",
        "            A[j:N,j] = A[j:N,j] - A[j:N,k]*A[j,k]\n",
        "        \n",
        "    A[-1,-1] = np.sqrt(A[-1,-1])\n",
        "    L=np.tril(A)\n",
        "    return L, L.transpose()"
      ]
    },
    {
      "cell_type": "markdown",
      "id": "41eb8436",
      "metadata": {
        "id": "41eb8436"
      },
      "source": [
        "Implement forward and backward substitution functions to exploit the developed factorization methods to solve the derived linear system of equations."
      ]
    },
    {
      "cell_type": "code",
      "execution_count": 29,
      "id": "019cf0df",
      "metadata": {
        "id": "019cf0df"
      },
      "outputs": [],
      "source": [
        "def L_solve(L,rhs):\n",
        "  x = np.zeros_like(rhs)\n",
        "  N = len(L)\n",
        "        \n",
        "  x[0] = rhs[0]/L[0,0]\n",
        "  for i in range(1,N):\n",
        "    x[i] = (rhs[i] - np.dot(L[i, 0:i], x[0:i]))/L[i,i]\n",
        "  return x"
      ]
    },
    {
      "cell_type": "code",
      "execution_count": 30,
      "id": "26ce17c4",
      "metadata": {
        "id": "26ce17c4"
      },
      "outputs": [],
      "source": [
        "def U_solve(U,rhs):\n",
        "  x = np.zeros_like(rhs)\n",
        "  N=len(U)\n",
        "              \n",
        "  x[-1] = rhs[-1]/U[-1,-1]\n",
        "  for i in reversed(range(N-1)):\n",
        "    x[i] = (rhs[i] -np.dot(U[i, i+1:N], x[i+1:N]))/U[i,i]\n",
        "  return x"
      ]
    },
    {
      "cell_type": "markdown",
      "id": "08ac9ba1",
      "metadata": {
        "id": "08ac9ba1"
      },
      "source": [
        "Solve the derived linear system using the implemented functions and plot the computed solution:"
      ]
    },
    {
      "cell_type": "code",
      "execution_count": 31,
      "id": "7c1de4f3",
      "metadata": {
        "id": "7c1de4f3",
        "colab": {
          "base_uri": "https://localhost:8080/",
          "height": 430
        },
        "outputId": "1892d891-73f5-4195-c439-e57924f72ac9"
      },
      "outputs": [
        {
          "output_type": "display_data",
          "data": {
            "text/plain": [
              "<Figure size 640x480 with 1 Axes>"
            ],
            "image/png": "[encoded data removed]"
          },
          "metadata": {}
        }
      ],
      "source": [
        "omega = [0,np.pi]\n",
        "f = lambda x : np.sin(x)\n",
        "n=100\n",
        "bc = [0,0]\n",
        "A, b = finDif(omega, f, n, bc)\n",
        "x =np.linspace(0,np.pi,n)\n",
        "L, U = LU(A)\n",
        "w = L_solve(L,b)\n",
        "u = U_solve(U,w)\n",
        "\n",
        "_ = plot(x,u,'ro')"
      ]
    },
    {
      "cell_type": "markdown",
      "id": "62cdfe65",
      "metadata": {
        "id": "62cdfe65"
      },
      "source": [
        "Considering the new domain $\\Omega = (0,1)$ and the forcing term $f(x) = x(1-x)$ with B.C. $u(x) = 0$, on $\\partial \\Omega = {0,1}$ produce a plot and a table where you show the decay of the error w.r.t. the number of grid points.\n",
        "(The analytical solution for the above problems is $u_{an} = \\frac{x^4}{12} - \\frac{x^3}{6} + \\frac{x}{12}$)"
      ]
    },
    {
      "cell_type": "code",
      "execution_count": 48,
      "id": "91212afb",
      "metadata": {
        "id": "91212afb",
        "outputId": "7511a0c2-38fd-435f-a821-2b5ce24a1a46",
        "colab": {
          "base_uri": "https://localhost:8080/",
          "height": 430
        }
      },
      "outputs": [
        {
          "output_type": "display_data",
          "data": {
            "text/plain": [
              "<Figure size 640x480 with 1 Axes>"
            ],
            "image/png": "[encoded data removed]"
          },
          "metadata": {}
        }
      ],
      "source": [
        "omega_new = [0,1]\n",
        "n_new=100\n",
        "x_new = np.linspace(0,1,n_new)\n",
        "f_new = lambda x_new : x_new*(1-x_new)\n",
        "bc_new = [0,0]\n",
        "A_new, b_new = finDif(omega_new, f_new, n_new, bc_new)\n",
        "A1_new = A_new.copy()\n",
        "u_new = np.linalg.solve(A1_new, b_new) #qua non torna per la dimensione del termine noto come dicevo nello script sopra #ora grazie a matte dovrebbe tornare\n",
        "\n",
        "u_ex = (x_new**4)/12. - (x_new**3)/6. + x_new/12.\n",
        "\n",
        "# Plot the FD and exact solution\n",
        "_ = plot(x_new,u_new,'ro')\n",
        "_ = plot(x_new,u_ex)\n",
        "\n",
        "\n",
        "#qua oltre al plot mi sembra di capire che bisogna fare una tabella in cui mostrare come diminuisce l'errore all'aumentare dei punti"
      ]
    },
    {
      "cell_type": "markdown",
      "id": "c8d5002f",
      "metadata": {
        "id": "c8d5002f"
      },
      "source": [
        "Exploit the derived LU factorizations to compute the determinant of the system's matrix $A$ using the original problem formulation."
      ]
    },
    {
      "cell_type": "code",
      "execution_count": 58,
      "id": "c25fc1fe",
      "metadata": {
        "id": "c25fc1fe",
        "outputId": "4e432ef9-9a93-4595-e358-5594428606c3",
        "colab": {
          "base_uri": "https://localhost:8080/"
        }
      },
      "outputs": [
        {
          "output_type": "execute_result",
          "data": {
            "text/plain": [
              "37738.973711079336"
            ]
          },
          "metadata": {},
          "execution_count": 58
        }
      ],
      "source": [
        "def condNumb(A):\n",
        "    condNu = np.linalg.cond(A)\n",
        "    return condNu\n",
        "condNumb(A)"
      ]
    },
    {
      "cell_type": "markdown",
      "id": "2728b49a",
      "metadata": {
        "id": "2728b49a"
      },
      "source": [
        "Implement a preconditioned Conjugant Gradient method to solve the original linear system of equations using an iterative method:"
      ]
    },
    {
      "cell_type": "code",
      "execution_count": 56,
      "id": "62b83aee",
      "metadata": {
        "id": "62b83aee",
        "colab": {
          "base_uri": "https://localhost:8080/",
          "height": 483
        },
        "outputId": "40333235-92d0-4e72-9214-5765bd9ed3a3"
      },
      "outputs": [
        {
          "output_type": "stream",
          "name": "stdout",
          "text": [
            "100 208.4692006106568\n",
            "0.5736678637078378\n"
          ]
        },
        {
          "output_type": "execute_result",
          "data": {
            "text/plain": [
              "[<matplotlib.lines.Line2D at 0x7f8f943611e0>]"
            ]
          },
          "metadata": {},
          "execution_count": 56
        },
        {
          "output_type": "display_data",
          "data": {
            "text/plain": [
              "<Figure size 640x480 with 1 Axes>"
            ],
            "image/png": "[encoded data removed]"
          },
          "metadata": {}
        }
      ],
      "source": [
        "def conjugate_gradient(A, b, P, nmax=len(A), eps=1e-10):\n",
        "  N=len(A)\n",
        "  x = np.zeros_like(b)\n",
        "  tol = eps + 1\n",
        "  it = 0\n",
        "  r = b - np.dot(A,x)\n",
        "  rho_old = 1.\n",
        "  p_old = np.zeros_like(b)\n",
        "  while (it < nmax and tol > eps):\n",
        "    it += 1\n",
        "    z = np.linalg.solve(P,r)\n",
        "    rho = np.dot(r,z)\n",
        "    if (it > 1):\n",
        "      beta = rho/rho_old\n",
        "      p = z + beta*p_old\n",
        "    else:\n",
        "      p = z\n",
        "    q = np.dot(A,p)\n",
        "    alpha = rho/(np.dot(p,q))\n",
        "    x += p*alpha\n",
        "    r -= q*alpha\n",
        "    p_old = p\n",
        "    rho_old = rho\n",
        "    tol = np.linalg.norm(r,2)\n",
        "  print(it, tol)\n",
        "  return x\n",
        "\n",
        "sol_conjugate_gradient = conjugate_gradient(A, b, np.identity(len(A)))\n",
        "print(np.linalg.norm(sol_conjugate_gradient - u_ex)/np.linalg.norm(u))\n",
        "#non so se torna, ho copiato i codici paro paro\n",
        "#forse non torna perchè la matrice fa cagare?\n",
        "x_newnew = np.linspace(0,np.pi,n)\n",
        "plot(x_newnew,sol_conjugate_gradient)\n",
        "plot(x_newnew,u_ex)"
      ]
    },
    {
      "cell_type": "markdown",
      "id": "8a4cfc02",
      "metadata": {
        "id": "8a4cfc02"
      },
      "source": [
        "Consider the following time dependent variation of the PDE starting from the orginal problem formulation:\n",
        "$$\n",
        "u'(t)-u_{xx} = \\alpha(t)f(x)\n",
        "$$\n",
        "\n",
        "for $t\\in [0,T]$, with $\\alpha(t) = \\cos(t)$ and $T = 6\\pi$\n",
        "\n",
        "Use the same finite difference scheme to derive the semi-discrete formulation and solve it using a forward Euler's method.\n",
        "\n",
        "Plot the time dependent solution solution at $x = \\pi/2$, $x=1$, \n",
        "$x=\\pi$\n"
      ]
    },
    {
      "cell_type": "code",
      "execution_count": 35,
      "id": "3ffe0689",
      "metadata": {
        "id": "3ffe0689"
      },
      "outputs": [],
      "source": [
        "#TODO"
      ]
    },
    {
      "cell_type": "markdown",
      "id": "36936121",
      "metadata": {
        "id": "36936121"
      },
      "source": [
        "Given the original $Au = b$ system, implement an algorithm to compute the largest and smallest eigenvalues and the associated eigenvectors of the matrix $A$."
      ]
    },
    {
      "cell_type": "code",
      "execution_count": 36,
      "id": "622aadf4",
      "metadata": {
        "id": "622aadf4",
        "colab": {
          "base_uri": "https://localhost:8080/"
        },
        "outputId": "ac0d5d43-141f-4c47-adae-ccb6b1e46dfb"
      },
      "outputs": [
        {
          "output_type": "stream",
          "name": "stdout",
          "text": [
            "error = 5.501359759113684 iterations = 500\n",
            "lambda_max = -5287.7554569375425\n",
            "numpy\n",
            "[ 1.63448872e+03  1.63448872e+03 -5.29452017e+03 -5.28930086e+03\n",
            " -5.28061172e+03 -5.26846729e+03 -5.25288786e+03 -5.23389944e+03\n",
            " -5.21153367e+03 -5.18582777e+03 -5.15682439e+03 -5.12457156e+03\n",
            " -5.08912254e+03 -5.05053566e+03 -5.00887421e+03 -4.96420626e+03\n",
            " -4.91660449e+03 -4.86614600e+03 -4.81291213e+03 -4.75698823e+03\n",
            " -4.69846351e+03 -4.63743072e+03 -4.57398601e+03 -4.50822867e+03\n",
            " -4.44026086e+03 -4.37018740e+03 -4.29811552e+03 -4.22415458e+03\n",
            " -4.14841585e+03 -4.07101222e+03 -3.99205797e+03 -3.91166849e+03\n",
            " -3.82996006e+03 -3.74704954e+03 -3.66305418e+03 -3.57809134e+03\n",
            " -3.49227822e+03 -3.40573169e+03 -3.31856799e+03 -3.23090254e+03\n",
            " -3.14284972e+03 -3.05452263e+03 -2.96603293e+03 -2.87749060e+03\n",
            " -2.78900380e+03 -2.70067866e+03 -2.61261912e+03 -2.52492680e+03\n",
            " -2.43770083e+03 -2.35103775e+03 -2.26503134e+03 -2.09534946e+03\n",
            " -2.17977256e+03 -2.01184703e+03 -1.92934721e+03 -1.84792877e+03\n",
            " -1.76766730e+03 -1.68863515e+03 -1.61090143e+03 -1.45958936e+03\n",
            " -1.38613290e+03 -1.31421867e+03 -1.53453198e+03 -1.24389955e+03\n",
            " -1.17522523e+03 -1.10824229e+03 -9.79521647e+02 -1.04299426e+03\n",
            " -9.17862034e+02 -8.58050144e+02 -8.00117923e+02 -6.90006881e+02\n",
            " -6.37878821e+02 -5.87732126e+02 -7.44094622e+02 -5.39586138e+02\n",
            " -4.49362412e+02 -4.07312373e+02 -3.67318585e+02 -2.59753405e+02\n",
            " -2.28054030e+02 -1.98436528e+02 -3.29389860e+02 -1.00009422e+00\n",
            " -4.00149664e+00 -1.70900761e+02 -1.22065843e+02 -9.00748669e+00\n",
            " -1.00758637e+02 -2.50556485e+01 -3.61125488e+01 -1.45444968e+02\n",
            " -4.92025963e+01 -8.15172926e+01 -6.43346324e+01 -4.93457934e+02\n",
            " -2.93533110e+02 -1.60232741e+01  1.00000000e+00  1.00000000e+00]\n",
            "error = 7.6312287005136e-06 iterations = 35\n",
            "lambda = 0.9999918797488092\n"
          ]
        }
      ],
      "source": [
        "z0 = np.ones_like(x)\n",
        "def PM(A,z0,tol=1e-5,nmax=500):\n",
        "    q = z0/np.linalg.norm(z0,2)\n",
        "    it = 0\n",
        "    err = tol + 1.\n",
        "    while it < nmax and err > tol:\n",
        "        z = np.dot(A,q)\n",
        "        l = np.dot(q.T,z)\n",
        "        err = np.linalg.norm(z-l*q,2)\n",
        "        q = z/np.linalg.norm(z,2)\n",
        "        \n",
        "        it += 1\n",
        "    print(\"error =\", err, \"iterations =\", it)\n",
        "    print(\"lambda_max =\", l)\n",
        "    return l,q\n",
        "\n",
        "l,x = PM(A,z0)\n",
        "    \n",
        "l_np, x_np = np.linalg.eig(A)\n",
        "\n",
        "print(\"numpy\")\n",
        "print(l_np)\n",
        "\n",
        "def IPM(A,x0,mu,tol=1e-5,nmax=500):\n",
        "    M = A -mu*np.eye(len(A))\n",
        "    P,L,U = scipy.linalg.lu(M)\n",
        "    err = tol + 1.\n",
        "    it = 0\n",
        "    q = x0/numpy.linalg.norm(x0,2)\n",
        "    while it < nmax and err > tol :\n",
        "        y = scipy.linalg.solve(L,np.dot(P.T,q))\n",
        "        x = scipy.linalg.solve(U,y)\n",
        "        q = x/numpy.linalg.norm(x,2)\n",
        "        z = np.dot(A,q)\n",
        "        l = np.dot(q.T,z)\n",
        "        err = np.linalg.norm(z-l*q,2)\n",
        "        it += 1\n",
        "    print(\"error =\", err, \"iterations =\", it)\n",
        "    print(\"lambda =\", l)\n",
        "    return l,q\n",
        "\n",
        "l,x = IPM(A,z0,6.)\n",
        "\n",
        "#ho copiato il codice pari pari, non so se torna in quanto l'errore è abbastanza grande però torna perchè \n",
        "#esce dopo numero massimo di iterazioni, se le incremento l'errore diminuisce"
      ]
    },
    {
      "cell_type": "markdown",
      "id": "85d5f64e",
      "metadata": {
        "id": "85d5f64e"
      },
      "source": [
        "Compute the inverse of the matrix A exploiting the derived LU factorization"
      ]
    },
    {
      "cell_type": "code",
      "execution_count": 37,
      "id": "6ad7199f",
      "metadata": {
        "id": "6ad7199f"
      },
      "outputs": [],
      "source": [
        "#TODO"
      ]
    },
    {
      "cell_type": "markdown",
      "id": "cb22566e",
      "metadata": {
        "id": "cb22566e"
      },
      "source": [
        "Consider the following Cauchy problem\n",
        "$$\n",
        "\\begin{cases}\n",
        "y'= -ty^2 \\quad 0\\le t \\le 2\\\\\n",
        "y(0) = 1\n",
        "\\end{cases}\n",
        "$$\n",
        "Implement a Backward Euler's method in a suitable function and solve the resulting non-linear equation using a Newton's method."
      ]
    },
    {
      "cell_type": "code",
      "execution_count": 38,
      "id": "3184e358",
      "metadata": {
        "id": "3184e358"
      },
      "outputs": [],
      "source": [
        "#TODO"
      ]
    }
  ],
  "metadata": {
    "kernelspec": {
      "display_name": "Python 3 (ipykernel)",
      "language": "python",
      "name": "python3"
    },
    "language_info": {
      "codemirror_mode": {
        "name": "ipython",
        "version": 3
      },
      "file_extension": ".py",
      "mimetype": "text/x-python",
      "name": "python",
      "nbconvert_exporter": "python",
      "pygments_lexer": "ipython3",
      "version": "3.10.9"
    },
    "colab": {
      "provenance": [],
      "include_colab_link": true
    }
  },
  "nbformat": 4,
  "nbformat_minor": 5
}