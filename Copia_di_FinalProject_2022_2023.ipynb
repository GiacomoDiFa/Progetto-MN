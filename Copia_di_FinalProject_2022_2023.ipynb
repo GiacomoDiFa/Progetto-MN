{
  "cells": [
    {
      "cell_type": "markdown",
      "metadata": {
        "id": "view-in-github",
        "colab_type": "text"
      },
      "source": [
        "<a href=\"https://colab.research.google.com/github/GiacomoDiFa/Progetto-MN/blob/main/Copia_di_FinalProject_2022_2023.ipynb\" target=\"_parent\"><img src=\"https://colab.research.google.com/assets/colab-badge.svg\" alt=\"Open In Colab\"/></a>"
      ]
    },
    {
      "cell_type": "code",
      "execution_count": 3,
      "id": "3fe94688",
      "metadata": {
        "id": "3fe94688"
      },
      "outputs": [],
      "source": [
        "%matplotlib inline\n",
        "import numpy as np\n",
        "from matplotlib.pyplot import *\n",
        "import numpy.linalg\n",
        "import scipy.linalg"
      ]
    },
    {
      "cell_type": "markdown",
      "id": "405cafef",
      "metadata": {
        "id": "405cafef"
      },
      "source": [
        "Compile the following notebook and share a link with me sending and e-mail to giovanni.stabile@uniurb.it at least one week before the oral examination. All the implemented function will have to be properly documented and commented."
      ]
    },
    {
      "cell_type": "markdown",
      "id": "9d175179",
      "metadata": {
        "id": "9d175179"
      },
      "source": [
        "Compile The following Cell with your information. In case it is a group project, put the info for all the group members\n",
        "\n",
        "Name1: Giacomo \\\n",
        "Surname1: Di Fabrizio\\\n",
        "Email1: \n",
        "\n",
        "Name2: Matteo Marco\\\n",
        "Surname2: Montanari\\\n",
        "Email2: "
      ]
    },
    {
      "cell_type": "markdown",
      "id": "8184faab",
      "metadata": {
        "id": "8184faab"
      },
      "source": [
        "Consider the following one-dimensional PDE:\n",
        "$$\n",
        "-u_{xx}(x) = f(x)\\quad\\mathrm{ in }\\ \\Omega = (0, \\pi)\n",
        "$$\n",
        "$$\n",
        "u(x) = 0, \\quad\\mathrm{ on }\\ \\partial\\Omega = \\{0, \\pi\\}\n",
        "$$\n",
        "\n",
        "Given the following $4^{th}$ order finite difference approximation of the second order derivative:\n",
        "\n",
        "$$u_{xx}(x_i) = \\frac{-u_{i-2}+16u_{i-1}-30u_i+16u_{i+1}-u_{i+2}}{12h^2}$$\n",
        "\n",
        "Implement a function that given the domain interval, the forcing function, the number of discretization points, the boundary conditions, returns the matrix $A$ and the the right hand side $b$."
      ]
    },
    {
      "cell_type": "code",
      "execution_count": 20,
      "id": "1c562f13",
      "metadata": {
        "id": "1c562f13"
      },
      "outputs": [],
      "source": [
        "def finDif(omega,f,n,bc):\n",
        "  m = n + 4 #numero di colonne matrice\n",
        "  h = omega[1]/(m-1)\n",
        "  x = np.linspace(0,1,m)\n",
        "  terminenoto = -f(x)\n",
        "  #print(terminenoto)\n",
        "  #print(\"\")\n",
        "  matrix = np.zeros((n, m))  # Inizializza una matrice di zeri\n",
        "  # Assegna valori alla diagonale principale\n",
        "  a = -1\n",
        "  b = +16\n",
        "  c = -30\n",
        "  main_diagonal = np.full(min(n, m), a)\n",
        "  np.fill_diagonal(matrix, main_diagonal)\n",
        "  # Assegna valori alle altre diagonali sopra e sotto la diagonale principale\n",
        "  np.fill_diagonal(matrix[:, 1:], b)\n",
        "  np.fill_diagonal(matrix[:, 2:], c)\n",
        "  np.fill_diagonal(matrix[:, 3:], b)\n",
        "  np.fill_diagonal(matrix[:, 4:], a)\n",
        "  matrix /= 12*(h**2)\n",
        "  #print(matrix)\n",
        "  #print(\"\")\n",
        "  \n",
        "  d = 2\n",
        "  e = -1\n",
        "  r = 2\n",
        "  \n",
        "  matrix1 = np.zeros((r,m))\n",
        "  main_diagonal1 = np.full(min(r,m),d)\n",
        "  np.fill_diagonal(matrix1,main_diagonal1)\n",
        "  np.fill_diagonal(matrix1[:,1:],e)\n",
        "  np.fill_diagonal(matrix1[-1:,:],e)\n",
        "  matrix1 /= h**2\n",
        "  print(matrix1)\n",
        "  #print(\"\")\n",
        "\n",
        "  \n",
        "  matrix2 = np.zeros((r,m))\n",
        "  np.fill_diagonal(matrix2[:,-1:],e)\n",
        "  np.fill_diagonal(matrix2[:,-2:],d)\n",
        "  np.fill_diagonal(matrix2[:,-3:],e)\n",
        "  matrix2 /= h**2\n",
        "  #print(matrix2)\n",
        "  #print(\"\")\n",
        "\n",
        "\n",
        " \n",
        "  A = np.pad(matrix1, ((0, m-matrix1.shape[0]), (0, m-matrix1.shape[1])), mode='constant')\n",
        "  B = np.pad(matrix2, ((m-matrix2.shape[0], 0), (0, m-matrix2.shape[1])), mode='constant')\n",
        "  pad_rows = (m - matrix.shape[0]) // 2\n",
        "  pad_cols = (m - matrix.shape[1]) // 2\n",
        "  C = np.pad(matrix, (((pad_rows, m - matrix.shape[0] - pad_rows), (pad_cols, m - matrix.shape[1] - pad_cols))), mode='constant')\n",
        "  D = A+B+C\n",
        "  #print(A)\n",
        "  #print(\"\")\n",
        "  #print(B)\n",
        "  #print(\"\")\n",
        "  #print(C)\n",
        "  #print(\"\")\n",
        "  #print(D)\n",
        "  #print(\"\")\n",
        "  D[0,0] = 1\n",
        "  D[-1,-1] = 1\n",
        "  D[0,1] = 0\n",
        "  D[-1,-2] = 0\n",
        "  #print(\"\")\n",
        "  print(D)\n",
        "  #print(\"\")\n",
        "  terminenoto[0] = bc[0]\n",
        "  terminenoto[-1] = bc[1]\n",
        "  #print(terminenoto)\n",
        "  #print(\"\")\n",
        "  return D,terminenoto\n",
        "\n",
        "#unica cosa che non mi viene in mente adesso è che se io voglio 7 iterazioni (n) mi viene fuori matrice 11x11. \n",
        "#non dovrebbe essere 7x7?\n",
        "#l'ho fatta venire 11 per 11 per come viene passato il parametro nella funzione, ma non so se come significato \"fisico\"\n",
        "#abbia senso che io metto n=7 e torni una matrice 11x11\n",
        "#la matrice finale è D\n",
        "#no non torna anche perchè il termine noto b viene di 7 elementi giustamente\n",
        "#potrei farlo tornare passandogli m nel linspace però non credo abbia senso a livello \"fisico\" (e l'ho fatto tornare)\n",
        "#ricordarsi di scommentare le divisioni una volta finito il codice (sono già scommentate)"
      ]
    },
    {
      "cell_type": "markdown",
      "id": "c21bb21e",
      "metadata": {
        "id": "c21bb21e"
      },
      "source": [
        "Call the function using:"
      ]
    },
    {
      "cell_type": "code",
      "execution_count": 21,
      "id": "23af8831",
      "metadata": {
        "id": "23af8831",
        "outputId": "0c6d31c3-2f53-4b5f-b8ee-c62f3a222ad8",
        "colab": {
          "base_uri": "https://localhost:8080/"
        }
      },
      "outputs": [
        {
          "output_type": "stream",
          "name": "stdout",
          "text": [
            "[[ 5.06605918 -2.53302959  0.          0.          0.          0.        ]\n",
            " [-2.53302959  5.06605918 -2.53302959  0.          0.          0.        ]]\n",
            "[[ 1.          0.          0.          0.          0.          0.        ]\n",
            " [-2.53302959  5.06605918 -2.53302959  0.          0.          0.        ]\n",
            " [-0.2110858   3.37737279 -6.33257398  3.37737279 -0.2110858   0.        ]\n",
            " [ 0.         -0.2110858   3.37737279 -6.33257398  3.37737279 -0.2110858 ]\n",
            " [ 0.          0.          0.         -2.53302959  5.06605918 -2.53302959]\n",
            " [ 0.          0.          0.          0.          0.          1.        ]]\n"
          ]
        }
      ],
      "source": [
        "omega = [0,np.pi]\n",
        "f = lambda x : np.sin(x)\n",
        "n=2\n",
        "bc = [0,0]\n",
        "A, b = finDif(omega, f, n, bc)"
      ]
    },
    {
      "cell_type": "markdown",
      "id": "4f8a7c6f",
      "metadata": {
        "id": "4f8a7c6f"
      },
      "source": [
        "Implement two functions that compute the LU and the Cholesky factorization of the system matrix $A$"
      ]
    },
    {
      "cell_type": "code",
      "execution_count": 6,
      "id": "47468a37",
      "metadata": {
        "id": "47468a37"
      },
      "outputs": [],
      "source": [
        "def LU(A):\n",
        "    A = A.copy()\n",
        "    N=len(A)\n",
        "    for k in range(N-1):\n",
        "        if (abs(A[k,k]) < 1e-15):\n",
        "            raise RuntimeError(\"Null pivot\")\n",
        "            \n",
        "        A[k+1:N,k] /= A[k,k]\n",
        "        for j in range(k+1,N):\n",
        "            A[k+1:N,j] -= A[k+1:N,k]*A[k,j]\n",
        "    \n",
        "    L=np.tril(A)\n",
        "    for i in range(N):\n",
        "        L[i,i]=1.0\n",
        "    U = np.triu(A)\n",
        "    return L, U"
      ]
    },
    {
      "cell_type": "code",
      "execution_count": 7,
      "id": "193ebfed",
      "metadata": {
        "id": "193ebfed"
      },
      "outputs": [],
      "source": [
        "def cholesky(A):\n",
        "    A = A.copy()\n",
        "    N = len(A)\n",
        "    for k in range(N-1):\n",
        "        A[k,k] = np.sqrt(A[k,k])\n",
        "        A[k+1:N,k] = A[k+1:N,k]/A[k,k]\n",
        "        \n",
        "        for j in range(k+1,N):\n",
        "            A[j:N,j] = A[j:N,j] - A[j:N,k]*A[j,k]\n",
        "        \n",
        "    A[-1,-1] = np.sqrt(A[-1,-1])\n",
        "    L=np.tril(A)\n",
        "    return L, L.transpose()"
      ]
    },
    {
      "cell_type": "markdown",
      "id": "41eb8436",
      "metadata": {
        "id": "41eb8436"
      },
      "source": [
        "Implement forward and backward substitution functions to exploit the developed factorization methods to solve the derived linear system of equations."
      ]
    },
    {
      "cell_type": "code",
      "execution_count": 8,
      "id": "019cf0df",
      "metadata": {
        "id": "019cf0df"
      },
      "outputs": [],
      "source": [
        "def L_solve(L,rhs):\n",
        "  x = np.zeros_like(rhs)\n",
        "  N = len(L)\n",
        "        \n",
        "  x[0] = rhs[0]/L[0,0]\n",
        "  for i in range(1,N):\n",
        "    x[i] = (rhs[i] - np.dot(L[i, 0:i], x[0:i]))/L[i,i]\n",
        "  return x"
      ]
    },
    {
      "cell_type": "code",
      "execution_count": 9,
      "id": "26ce17c4",
      "metadata": {
        "id": "26ce17c4"
      },
      "outputs": [],
      "source": [
        "def U_solve(U,rhs):\n",
        "  x = np.zeros_like(rhs)\n",
        "  N=len(U)\n",
        "              \n",
        "  x[-1] = rhs[-1]/U[-1,-1]\n",
        "  for i in reversed(range(N-1)):\n",
        "    x[i] = (rhs[i] -np.dot(U[i, i+1:N], x[i+1:N]))/U[i,i]\n",
        "  return x"
      ]
    },
    {
      "cell_type": "markdown",
      "id": "08ac9ba1",
      "metadata": {
        "id": "08ac9ba1"
      },
      "source": [
        "Solve the derived linear system using the implemented functions and plot the computed solution:"
      ]
    },
    {
      "cell_type": "code",
      "execution_count": 10,
      "id": "7c1de4f3",
      "metadata": {
        "id": "7c1de4f3",
        "colab": {
          "base_uri": "https://localhost:8080/",
          "height": 430
        },
        "outputId": "29def781-395e-4932-99bd-154eebeb9f51"
      },
      "outputs": [
        {
          "output_type": "display_data",
          "data": {
            "text/plain": [
              "<Figure size 640x480 with 1 Axes>"
            ],
            "image/png": "[encoded data removed]"
          },
          "metadata": {}
        }
      ],
      "source": [
        "omega = [0,np.pi]\n",
        "f = lambda x : np.sin(x)\n",
        "n=100\n",
        "bc = [0,0]\n",
        "A, b = finDif(omega, f, n, bc)\n",
        "x =np.linspace(0,np.pi,n+4)\n",
        "L, U = LU(A)\n",
        "w = L_solve(L,b)\n",
        "u = U_solve(U,w)\n",
        "\n",
        "_ = plot(x,u,'ro')"
      ]
    },
    {
      "cell_type": "markdown",
      "id": "62cdfe65",
      "metadata": {
        "id": "62cdfe65"
      },
      "source": [
        "Considering the new domain $\\Omega = (0,1)$ and the forcing term $f(x) = x(1-x)$ with B.C. $u(x) = 0$, on $\\partial \\Omega = {0,1}$ produce a plot and a table where you show the decay of the error w.r.t. the number of grid points.\n",
        "(The analytical solution for the above problems is $u_{an} = \\frac{x^4}{12} - \\frac{x^3}{6} + \\frac{x}{12}$)"
      ]
    },
    {
      "cell_type": "code",
      "execution_count": 11,
      "id": "91212afb",
      "metadata": {
        "id": "91212afb",
        "outputId": "7406a0a1-eb24-4e3a-d9c3-c8e9a2589171",
        "colab": {
          "base_uri": "https://localhost:8080/",
          "height": 430
        }
      },
      "outputs": [
        {
          "output_type": "display_data",
          "data": {
            "text/plain": [
              "<Figure size 640x480 with 1 Axes>"
            ],
            "image/png": "[encoded data removed]"
          },
          "metadata": {}
        }
      ],
      "source": [
        "omega_new = [0,1]\n",
        "n_new=20\n",
        "x_new = np.linspace(0,1,n_new+4)\n",
        "f_new = lambda x_new : x_new*(1-x_new)\n",
        "bc_new = [0,0]\n",
        "A_new, b_new = finDif(omega_new, f_new, n_new, bc_new)\n",
        "A1_new = A_new.copy()\n",
        "u_new = np.linalg.solve(A1_new, b_new) #qua non torna per la dimensione del termine noto come dicevo nello script sopra\n",
        "\n",
        "u_ex = (x_new**4)/12. - (x_new**3)/6. + x_new/12.\n",
        "\n",
        "# Plot the FD and exact solution\n",
        "_ = plot(x_new,u_new,'ro')\n",
        "_ = plot(x_new,u_ex)\n",
        "\n",
        "\n",
        "#qua oltre al plot mi sembra di capire che bisogna fare una tabella in cui mostrare come diminuisce l'errore all'aumentare dei punti"
      ]
    },
    {
      "cell_type": "markdown",
      "id": "c8d5002f",
      "metadata": {
        "id": "c8d5002f"
      },
      "source": [
        "Exploit the derived LU factorizations to compute the determinant of the system's matrix $A$ using the original problem formulation."
      ]
    },
    {
      "cell_type": "code",
      "execution_count": null,
      "id": "c25fc1fe",
      "metadata": {
        "id": "c25fc1fe"
      },
      "outputs": [],
      "source": [
        "def condNumb(A):\n",
        "    pass #TODO\n",
        "    return condNu"
      ]
    },
    {
      "cell_type": "markdown",
      "id": "2728b49a",
      "metadata": {
        "id": "2728b49a"
      },
      "source": [
        "Implement a preconditioned Conjugant Gradient method to solve the original linear system of equations using an iterative method:"
      ]
    },
    {
      "cell_type": "code",
      "execution_count": null,
      "id": "62b83aee",
      "metadata": {
        "id": "62b83aee",
        "colab": {
          "base_uri": "https://localhost:8080/",
          "height": 482
        },
        "outputId": "51e5d6fb-e9ab-4d6b-a207-de2420b68b72"
      },
      "outputs": [
        {
          "output_type": "stream",
          "name": "stdout",
          "text": [
            "104 30.385470136231934\n",
            "1.0360635804170863\n"
          ]
        },
        {
          "output_type": "execute_result",
          "data": {
            "text/plain": [
              "[<matplotlib.lines.Line2D at 0x7f40dc9753f0>]"
            ]
          },
          "metadata": {},
          "execution_count": 21
        },
        {
          "output_type": "display_data",
          "data": {
            "text/plain": [
              "<Figure size 640x480 with 1 Axes>"
            ],
            "image/png": "[encoded data removed]"
          },
          "metadata": {}
        }
      ],
      "source": [
        "def conjugate_gradient(A, b, P, nmax=len(A), eps=1e-10):\n",
        "  N=len(A)\n",
        "  x = np.zeros_like(b)\n",
        "  tol = eps + 1\n",
        "  it = 0\n",
        "  r = b - np.dot(A,x)\n",
        "  rho_old = 1.\n",
        "  p_old = np.zeros_like(b)\n",
        "  while (it < nmax and tol > eps):\n",
        "    it += 1\n",
        "    z = np.linalg.solve(P,r)\n",
        "    rho = np.dot(r,z)\n",
        "    if (it > 1):\n",
        "      beta = rho/rho_old\n",
        "      p = z + beta*p_old\n",
        "    else:\n",
        "      p = z\n",
        "      q = np.dot(A,p)\n",
        "      alpha = rho/(np.dot(p,q))\n",
        "      x += p*alpha\n",
        "      r -= q*alpha\n",
        "      p_old = p\n",
        "      rho_old = rho\n",
        "      tol = np.linalg.norm(r,2)\n",
        "      \n",
        "  print(it, tol)\n",
        "  return x\n",
        "\n",
        "sol_conjugate_gradient = conjugate_gradient(A, b, np.identity(len(A)))\n",
        "print(np.linalg.norm(sol_conjugate_gradient - u)/np.linalg.norm(u))\n",
        "#non so se torna, ho copiato i codici paro paro\n",
        "#forse non torna perchè la matrice fa cagare?\n",
        "x_newnew = np.linspace(0,np.pi,n+4)\n",
        "plot(x_newnew,sol_conjugate_gradient)\n",
        "plot(x_newnew,u)"
      ]
    },
    {
      "cell_type": "markdown",
      "id": "8a4cfc02",
      "metadata": {
        "id": "8a4cfc02"
      },
      "source": [
        "Consider the following time dependent variation of the PDE starting from the orginal problem formulation:\n",
        "$$\n",
        "u'(t)-u_{xx} = \\alpha(t)f(x)\n",
        "$$\n",
        "\n",
        "for $t\\in [0,T]$, with $\\alpha(t) = \\cos(t)$ and $T = 6\\pi$\n",
        "\n",
        "Use the same finite difference scheme to derive the semi-discrete formulation and solve it using a forward Euler's method.\n",
        "\n",
        "Plot the time dependent solution solution at $x = \\pi/2$, $x=1$, \n",
        "$x=\\pi$\n"
      ]
    },
    {
      "cell_type": "code",
      "execution_count": null,
      "id": "3ffe0689",
      "metadata": {
        "id": "3ffe0689"
      },
      "outputs": [],
      "source": [
        "#TODO"
      ]
    },
    {
      "cell_type": "markdown",
      "id": "36936121",
      "metadata": {
        "id": "36936121"
      },
      "source": [
        "Given the original $Au = b$ system, implement an algorithm to compute the largest and smallest eigenvalues and the associated eigenvectors of the matrix $A$."
      ]
    },
    {
      "cell_type": "code",
      "execution_count": null,
      "id": "622aadf4",
      "metadata": {
        "id": "622aadf4",
        "colab": {
          "base_uri": "https://localhost:8080/"
        },
        "outputId": "4bfd7a5e-da39-4281-d040-ddc5395ae6f0"
      },
      "outputs": [
        {
          "output_type": "stream",
          "name": "stdout",
          "text": [
            "error = 61.99716996600794 iterations = 500\n",
            "lambda_max = -56492.5156962966\n",
            "numpy\n",
            "[ 1.74616683e+04  1.74616683e+04 -5.65641821e+04 -5.65127549e+04\n",
            " -5.64271312e+04 -5.63074431e+04 -5.61538752e+04 -5.59666639e+04\n",
            " -5.57460972e+04 -5.54925137e+04 -5.52063020e+04 -5.48878996e+04\n",
            " -5.45377919e+04 -5.41565113e+04 -5.37446354e+04 -5.28316284e+04\n",
            " -5.33027862e+04 -5.23318679e+04 -5.18042499e+04 -5.12495576e+04\n",
            " -5.06686101e+04 -5.00622607e+04 -4.94313946e+04 -4.87769276e+04\n",
            " -4.80998033e+04 -4.66814855e+04 -4.74009914e+04 -4.59423007e+04\n",
            " -4.51844719e+04 -4.44090510e+04 -4.36171051e+04 -4.28097139e+04\n",
            " -4.19879678e+04 -4.11529655e+04 -4.03058117e+04 -3.94476149e+04\n",
            " -3.85794855e+04 -3.77025333e+04 -3.68178657e+04 -3.59265854e+04\n",
            " -3.50297885e+04 -3.41285627e+04 -3.32239851e+04 -3.23171207e+04\n",
            " -3.14090203e+04 -3.05007194e+04 -2.95932358e+04 -2.86875690e+04\n",
            " -2.77846981e+04 -2.68855808e+04 -2.59911520e+04 -2.51023228e+04\n",
            " -2.42199796e+04 -2.33449826e+04 -2.24781658e+04 -2.16203356e+04\n",
            " -2.07722702e+04 -1.99347197e+04 -1.91084049e+04 -1.82940174e+04\n",
            " -1.74922193e+04 -1.67036431e+04 -1.59288914e+04 -1.51685373e+04\n",
            " -1.36931670e+04 -1.29791503e+04 -1.44231244e+04 -1.22815312e+04\n",
            " -1.16007381e+04 -1.02912066e+04 -9.66318961e+03 -9.05344252e+03\n",
            " -8.46226199e+03 -1.09371719e+04 -7.88992033e+03 -6.28830305e+03\n",
            " -6.80272588e+03 -5.79358057e+03 -7.33666630e+03 -5.31872071e+03\n",
            " -4.42914005e+03 -4.01464789e+03 -3.62047695e+03 -2.56051051e+03\n",
            " -2.24816220e+03 -9.87043028e+00 -3.94915430e+01 -3.24669740e+03\n",
            " -1.95632431e+03 -8.88921527e+01 -2.89336280e+03 -1.43413257e+03\n",
            " -1.20372067e+03 -2.47229819e+02 -3.56297856e+02 -9.93704816e+02\n",
            " -4.85399844e+02 -1.68498856e+03 -6.34616104e+02 -8.04026032e+02\n",
            " -4.86386604e+03 -1.58118190e+02  1.00000000e+00  1.00000000e+00]\n",
            "error = 4.4391131853119295e-06 iterations = 10\n",
            "lambda = 0.9999918229867515\n"
          ]
        }
      ],
      "source": [
        "z0 = np.ones_like(x)\n",
        "def PM(A,z0,tol=1e-5,nmax=500):\n",
        "    q = z0/np.linalg.norm(z0,2)\n",
        "    it = 0\n",
        "    err = tol + 1.\n",
        "    while it < nmax and err > tol:\n",
        "        z = np.dot(A,q)\n",
        "        l = np.dot(q.T,z)\n",
        "        err = np.linalg.norm(z-l*q,2)\n",
        "        q = z/np.linalg.norm(z,2)\n",
        "        \n",
        "        it += 1\n",
        "    print(\"error =\", err, \"iterations =\", it)\n",
        "    print(\"lambda_max =\", l)\n",
        "    return l,q\n",
        "\n",
        "l,x = PM(A,z0)\n",
        "    \n",
        "l_np, x_np = np.linalg.eig(A)\n",
        "\n",
        "print(\"numpy\")\n",
        "print(l_np)\n",
        "\n",
        "def IPM(A,x0,mu,tol=1e-5,nmax=500):\n",
        "    M = A -mu*np.eye(len(A))\n",
        "    P,L,U = scipy.linalg.lu(M)\n",
        "    err = tol + 1.\n",
        "    it = 0\n",
        "    q = x0/numpy.linalg.norm(x0,2)\n",
        "    while it < nmax and err > tol :\n",
        "        y = scipy.linalg.solve(L,np.dot(P.T,q))\n",
        "        x = scipy.linalg.solve(U,y)\n",
        "        q = x/numpy.linalg.norm(x,2)\n",
        "        z = np.dot(A,q)\n",
        "        l = np.dot(q.T,z)\n",
        "        err = np.linalg.norm(z-l*q,2)\n",
        "        it += 1\n",
        "    print(\"error =\", err, \"iterations =\", it)\n",
        "    print(\"lambda =\", l)\n",
        "    return l,q\n",
        "\n",
        "l,x = IPM(A,z0,6.)\n",
        "\n",
        "#ho copiato il codice pari pari, non so se torna in quanto l'errore è abbastanza grande però torna perchè \n",
        "#esce dopo numero massimo di iterazioni, se le incremento l'errore diminuisce"
      ]
    },
    {
      "cell_type": "markdown",
      "id": "85d5f64e",
      "metadata": {
        "id": "85d5f64e"
      },
      "source": [
        "Compute the inverse of the matrix A exploiting the derived LU factorization"
      ]
    },
    {
      "cell_type": "code",
      "execution_count": null,
      "id": "6ad7199f",
      "metadata": {
        "id": "6ad7199f"
      },
      "outputs": [],
      "source": [
        "#TODO"
      ]
    },
    {
      "cell_type": "markdown",
      "id": "cb22566e",
      "metadata": {
        "id": "cb22566e"
      },
      "source": [
        "Consider the following Cauchy problem\n",
        "$$\n",
        "\\begin{cases}\n",
        "y'= -ty^2 \\quad 0\\le t \\le 2\\\\\n",
        "y(0) = 1\n",
        "\\end{cases}\n",
        "$$\n",
        "Implement a Backward Euler's method in a suitable function and solve the resulting non-linear equation using a Newton's method."
      ]
    },
    {
      "cell_type": "code",
      "execution_count": null,
      "id": "3184e358",
      "metadata": {
        "id": "3184e358"
      },
      "outputs": [],
      "source": [
        "#TODO"
      ]
    }
  ],
  "metadata": {
    "kernelspec": {
      "display_name": "Python 3 (ipykernel)",
      "language": "python",
      "name": "python3"
    },
    "language_info": {
      "codemirror_mode": {
        "name": "ipython",
        "version": 3
      },
      "file_extension": ".py",
      "mimetype": "text/x-python",
      "name": "python",
      "nbconvert_exporter": "python",
      "pygments_lexer": "ipython3",
      "version": "3.10.9"
    },
    "colab": {
      "provenance": [],
      "include_colab_link": true
    }
  },
  "nbformat": 4,
  "nbformat_minor": 5
}