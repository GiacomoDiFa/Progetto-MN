{
  "cells": [
    {
      "cell_type": "markdown",
      "metadata": {
        "id": "view-in-github",
        "colab_type": "text"
      },
      "source": [
        "<a href=\"https://colab.research.google.com/github/GiacomoDiFa/Progetto-MN/blob/main/Copia_di_FinalProject_2022_2023.ipynb\" target=\"_parent\"><img src=\"https://colab.research.google.com/assets/colab-badge.svg\" alt=\"Open In Colab\"/></a>"
      ]
    },
    {
      "cell_type": "code",
      "execution_count": 2,
      "id": "3fe94688",
      "metadata": {
        "id": "3fe94688"
      },
      "outputs": [],
      "source": [
        "%matplotlib inline\n",
        "import numpy as np\n",
        "from matplotlib.pyplot import *\n",
        "import numpy.linalg\n",
        "import scipy.linalg"
      ]
    },
    {
      "cell_type": "markdown",
      "id": "405cafef",
      "metadata": {
        "id": "405cafef"
      },
      "source": [
        "Compile the following notebook and share a link with me sending and e-mail to giovanni.stabile@uniurb.it at least one week before the oral examination. All the implemented function will have to be properly documented and commented."
      ]
    },
    {
      "cell_type": "markdown",
      "id": "9d175179",
      "metadata": {
        "id": "9d175179"
      },
      "source": [
        "Compile The following Cell with your information. In case it is a group project, put the info for all the group members\n",
        "\n",
        "Name1: Giacomo \\\n",
        "Surname1: Di Fabrizio\\\n",
        "Email1: \n",
        "\n",
        "Name2: Matteo Marco\\\n",
        "Surname2: Montanari\\\n",
        "Email2: "
      ]
    },
    {
      "cell_type": "markdown",
      "id": "8184faab",
      "metadata": {
        "id": "8184faab"
      },
      "source": [
        "Consider the following one-dimensional PDE:\n",
        "$$\n",
        "-u_{xx}(x) = f(x)\\quad\\mathrm{ in }\\ \\Omega = (0, \\pi)\n",
        "$$\n",
        "$$\n",
        "u(x) = 0, \\quad\\mathrm{ on }\\ \\partial\\Omega = \\{0, \\pi\\}\n",
        "$$\n",
        "\n",
        "Given the following $4^{th}$ order finite difference approximation of the second order derivative:\n",
        "\n",
        "$$u_{xx}(x_i) = \\frac{-u_{i-2}+16u_{i-1}-30u_i+16u_{i+1}-u_{i+2}}{12h^2}$$\n",
        "\n",
        "Implement a function that given the domain interval, the forcing function, the number of discretization points, the boundary conditions, returns the matrix $A$ and the the right hand side $b$."
      ]
    },
    {
      "cell_type": "code",
      "execution_count": 3,
      "id": "1c562f13",
      "metadata": {
        "id": "1c562f13",
        "colab": {
          "base_uri": "https://localhost:8080/"
        },
        "outputId": "e27ef870-4317-4549-d019-47f28976157f"
      },
      "outputs": [
        {
          "output_type": "stream",
          "name": "stdout",
          "text": [
            "[0.00000000e+00 5.00000000e-01 8.66025404e-01 1.00000000e+00\n",
            " 8.66025404e-01 5.00000000e-01 1.22464680e-16]\n",
            "\n",
            "[[ -1.  16. -30.  16.  -1.   0.   0.   0.   0.   0.   0.]\n",
            " [  0.  -1.  16. -30.  16.  -1.   0.   0.   0.   0.   0.]\n",
            " [  0.   0.  -1.  16. -30.  16.  -1.   0.   0.   0.   0.]\n",
            " [  0.   0.   0.  -1.  16. -30.  16.  -1.   0.   0.   0.]\n",
            " [  0.   0.   0.   0.  -1.  16. -30.  16.  -1.   0.   0.]\n",
            " [  0.   0.   0.   0.   0.  -1.  16. -30.  16.  -1.   0.]\n",
            " [  0.   0.   0.   0.   0.   0.  -1.  16. -30.  16.  -1.]]\n",
            "\n",
            "[[-2.  1.  0.  0.  0.  0.  0.  0.  0.  0.  0.]\n",
            " [ 1. -2.  1.  0.  0.  0.  0.  0.  0.  0.  0.]]\n",
            "\n",
            "[[ 0.  0.  0.  0.  0.  0.  0.  0.  1. -2.  1.]\n",
            " [ 0.  0.  0.  0.  0.  0.  0.  0.  0.  1. -2.]]\n",
            "\n",
            "[[-2.  1.  0.  0.  0.  0.  0.  0.  0.  0.  0.]\n",
            " [ 1. -2.  1.  0.  0.  0.  0.  0.  0.  0.  0.]\n",
            " [ 0.  0.  0.  0.  0.  0.  0.  0.  0.  0.  0.]\n",
            " [ 0.  0.  0.  0.  0.  0.  0.  0.  0.  0.  0.]\n",
            " [ 0.  0.  0.  0.  0.  0.  0.  0.  0.  0.  0.]\n",
            " [ 0.  0.  0.  0.  0.  0.  0.  0.  0.  0.  0.]\n",
            " [ 0.  0.  0.  0.  0.  0.  0.  0.  0.  0.  0.]\n",
            " [ 0.  0.  0.  0.  0.  0.  0.  0.  0.  0.  0.]\n",
            " [ 0.  0.  0.  0.  0.  0.  0.  0.  0.  0.  0.]\n",
            " [ 0.  0.  0.  0.  0.  0.  0.  0.  0.  0.  0.]\n",
            " [ 0.  0.  0.  0.  0.  0.  0.  0.  0.  0.  0.]]\n",
            "\n",
            "[[ 0.  0.  0.  0.  0.  0.  0.  0.  0.  0.  0.]\n",
            " [ 0.  0.  0.  0.  0.  0.  0.  0.  0.  0.  0.]\n",
            " [ 0.  0.  0.  0.  0.  0.  0.  0.  0.  0.  0.]\n",
            " [ 0.  0.  0.  0.  0.  0.  0.  0.  0.  0.  0.]\n",
            " [ 0.  0.  0.  0.  0.  0.  0.  0.  0.  0.  0.]\n",
            " [ 0.  0.  0.  0.  0.  0.  0.  0.  0.  0.  0.]\n",
            " [ 0.  0.  0.  0.  0.  0.  0.  0.  0.  0.  0.]\n",
            " [ 0.  0.  0.  0.  0.  0.  0.  0.  0.  0.  0.]\n",
            " [ 0.  0.  0.  0.  0.  0.  0.  0.  0.  0.  0.]\n",
            " [ 0.  0.  0.  0.  0.  0.  0.  0.  1. -2.  1.]\n",
            " [ 0.  0.  0.  0.  0.  0.  0.  0.  0.  1. -2.]]\n",
            "\n",
            "[[  0.   0.   0.   0.   0.   0.   0.   0.   0.   0.   0.]\n",
            " [  0.   0.   0.   0.   0.   0.   0.   0.   0.   0.   0.]\n",
            " [ -1.  16. -30.  16.  -1.   0.   0.   0.   0.   0.   0.]\n",
            " [  0.  -1.  16. -30.  16.  -1.   0.   0.   0.   0.   0.]\n",
            " [  0.   0.  -1.  16. -30.  16.  -1.   0.   0.   0.   0.]\n",
            " [  0.   0.   0.  -1.  16. -30.  16.  -1.   0.   0.   0.]\n",
            " [  0.   0.   0.   0.  -1.  16. -30.  16.  -1.   0.   0.]\n",
            " [  0.   0.   0.   0.   0.  -1.  16. -30.  16.  -1.   0.]\n",
            " [  0.   0.   0.   0.   0.   0.  -1.  16. -30.  16.  -1.]\n",
            " [  0.   0.   0.   0.   0.   0.   0.   0.   0.   0.   0.]\n",
            " [  0.   0.   0.   0.   0.   0.   0.   0.   0.   0.   0.]]\n",
            "\n",
            "[[ -2.   1.   0.   0.   0.   0.   0.   0.   0.   0.   0.]\n",
            " [  1.  -2.   1.   0.   0.   0.   0.   0.   0.   0.   0.]\n",
            " [ -1.  16. -30.  16.  -1.   0.   0.   0.   0.   0.   0.]\n",
            " [  0.  -1.  16. -30.  16.  -1.   0.   0.   0.   0.   0.]\n",
            " [  0.   0.  -1.  16. -30.  16.  -1.   0.   0.   0.   0.]\n",
            " [  0.   0.   0.  -1.  16. -30.  16.  -1.   0.   0.   0.]\n",
            " [  0.   0.   0.   0.  -1.  16. -30.  16.  -1.   0.   0.]\n",
            " [  0.   0.   0.   0.   0.  -1.  16. -30.  16.  -1.   0.]\n",
            " [  0.   0.   0.   0.   0.   0.  -1.  16. -30.  16.  -1.]\n",
            " [  0.   0.   0.   0.   0.   0.   0.   0.   1.  -2.   1.]\n",
            " [  0.   0.   0.   0.   0.   0.   0.   0.   0.   1.  -2.]]\n",
            "\n",
            "\n",
            "[[  1.   0.   0.   0.   0.   0.   0.   0.   0.   0.   0.]\n",
            " [  1.  -2.   1.   0.   0.   0.   0.   0.   0.   0.   0.]\n",
            " [ -1.  16. -30.  16.  -1.   0.   0.   0.   0.   0.   0.]\n",
            " [  0.  -1.  16. -30.  16.  -1.   0.   0.   0.   0.   0.]\n",
            " [  0.   0.  -1.  16. -30.  16.  -1.   0.   0.   0.   0.]\n",
            " [  0.   0.   0.  -1.  16. -30.  16.  -1.   0.   0.   0.]\n",
            " [  0.   0.   0.   0.  -1.  16. -30.  16.  -1.   0.   0.]\n",
            " [  0.   0.   0.   0.   0.  -1.  16. -30.  16.  -1.   0.]\n",
            " [  0.   0.   0.   0.   0.   0.  -1.  16. -30.  16.  -1.]\n",
            " [  0.   0.   0.   0.   0.   0.   0.   0.   1.  -2.   1.]\n",
            " [  0.   0.   0.   0.   0.   0.   0.   0.   0.   0.   1.]]\n",
            "\n",
            "[0.        0.5       0.8660254 1.        0.8660254 0.5       0.       ]\n",
            "\n"
          ]
        },
        {
          "output_type": "execute_result",
          "data": {
            "text/plain": [
              "(array([[  1.,   0.,   0.,   0.,   0.,   0.,   0.,   0.,   0.,   0.,   0.],\n",
              "        [  1.,  -2.,   1.,   0.,   0.,   0.,   0.,   0.,   0.,   0.,   0.],\n",
              "        [ -1.,  16., -30.,  16.,  -1.,   0.,   0.,   0.,   0.,   0.,   0.],\n",
              "        [  0.,  -1.,  16., -30.,  16.,  -1.,   0.,   0.,   0.,   0.,   0.],\n",
              "        [  0.,   0.,  -1.,  16., -30.,  16.,  -1.,   0.,   0.,   0.,   0.],\n",
              "        [  0.,   0.,   0.,  -1.,  16., -30.,  16.,  -1.,   0.,   0.,   0.],\n",
              "        [  0.,   0.,   0.,   0.,  -1.,  16., -30.,  16.,  -1.,   0.,   0.],\n",
              "        [  0.,   0.,   0.,   0.,   0.,  -1.,  16., -30.,  16.,  -1.,   0.],\n",
              "        [  0.,   0.,   0.,   0.,   0.,   0.,  -1.,  16., -30.,  16.,  -1.],\n",
              "        [  0.,   0.,   0.,   0.,   0.,   0.,   0.,   0.,   1.,  -2.,   1.],\n",
              "        [  0.,   0.,   0.,   0.,   0.,   0.,   0.,   0.,   0.,   0.,   1.]]),\n",
              " array([0.       , 0.5      , 0.8660254, 1.       , 0.8660254, 0.5      ,\n",
              "        0.       ]))"
            ]
          },
          "metadata": {},
          "execution_count": 3
        }
      ],
      "source": [
        "def finDif(omega,f,n,bc):\n",
        "  x = np.linspace(0,np.pi,n)\n",
        "  terminenoto = f(x)\n",
        "  print(terminenoto)\n",
        "  print(\"\")\n",
        "  h = 1./(n-1)\n",
        "  m = n + 4 #numero di colonne matrice\n",
        "  matrix = np.zeros((n, m))  # Inizializza una matrice di zeri\n",
        "  # Assegna valori alla diagonale principale\n",
        "  a = -1\n",
        "  b = 16\n",
        "  c = -30\n",
        "  main_diagonal = np.full(min(n, m), a)\n",
        "  np.fill_diagonal(matrix, main_diagonal)\n",
        "  # Assegna valori alle altre diagonali sopra e sotto la diagonale principale\n",
        "  np.fill_diagonal(matrix[:, 1:], b)\n",
        "  np.fill_diagonal(matrix[:, 2:], c)\n",
        "  np.fill_diagonal(matrix[:, 3:], b)\n",
        "  np.fill_diagonal(matrix[:, 4:], a)\n",
        "  #matrix /= 12*h**2\n",
        "  print(matrix)\n",
        "  print(\"\")\n",
        "  \n",
        "  d = -2\n",
        "  e = 1\n",
        "  r = 2\n",
        "  \n",
        "  matrix1 = np.zeros((r,m))\n",
        "  main_diagonal1 = np.full(min(r,m),d)\n",
        "  np.fill_diagonal(matrix1,main_diagonal1)\n",
        "  np.fill_diagonal(matrix1[:,1:],e)\n",
        "  np.fill_diagonal(matrix1[-1:,:],e)\n",
        "  #matrix1 /= h**2\n",
        "  print(matrix1)\n",
        "  print(\"\")\n",
        "\n",
        "  \n",
        "  matrix2 = np.zeros((r,m))\n",
        "  np.fill_diagonal(matrix2[:,-1:],e)\n",
        "  np.fill_diagonal(matrix2[:,-2:],d)\n",
        "  np.fill_diagonal(matrix2[:,-3:],e)\n",
        "  #matrix2 /= h**2\n",
        "  print(matrix2)\n",
        "  print(\"\")\n",
        "\n",
        "\n",
        " \n",
        "  A = np.pad(matrix1, ((0, m-matrix1.shape[0]), (0, m-matrix1.shape[1])), mode='constant')\n",
        "  B = np.pad(matrix2, ((m-matrix2.shape[0], 0), (0, m-matrix2.shape[1])), mode='constant')\n",
        "  pad_rows = (m - matrix.shape[0]) // 2\n",
        "  pad_cols = (m - matrix.shape[1]) // 2\n",
        "  C = np.pad(matrix, (((pad_rows, m - matrix.shape[0] - pad_rows), (pad_cols, m - matrix.shape[1] - pad_cols))), mode='constant')\n",
        "  D = A+B+C\n",
        "  print(A)\n",
        "  print(\"\")\n",
        "  print(B)\n",
        "  print(\"\")\n",
        "  print(C)\n",
        "  print(\"\")\n",
        "  print(D)\n",
        "  print(\"\")\n",
        "  D[0,0] = 1\n",
        "  D[-1,-1] = 1\n",
        "  D[0,1] = 0\n",
        "  D[-1,-2] = 0\n",
        "  print(\"\")\n",
        "  print(D)\n",
        "  print(\"\")\n",
        "  terminenoto[0] = bc[0]\n",
        "  terminenoto[-1] = bc[1]\n",
        "  print(terminenoto)\n",
        "  print(\"\")\n",
        "  return D,terminenoto\n",
        "\n",
        "\n",
        "\n",
        "\n",
        "\n",
        "omega = [0,np.pi]\n",
        "f = lambda x : np.sin(x)\n",
        "n=7\n",
        "bc = [0,0]\n",
        "finDif(omega, f, n, bc)\n",
        "#unica cosa che non mi viene in mente adesso è che se io voglio 7 iterazioni (n) mi viene fuori matrice 11x11. \n",
        "#non dovrebbe essere 7x7?\n",
        "#l'ho fatta venire 11 per 11 per come viene passato il parametro nella funzione, ma non so se come significato \"fisico\"\n",
        "#abbia senso che io metto n=7 e torni una matrice 11x11\n",
        "#la matrice finale è D\n",
        "#no non torna anche perchè il termine noto b viene di 7 elementi giustamente\n",
        "#potrei farlo tornare passandogli m nel linspace però non credo abbia senso a livello \"fisico\"\n",
        "#ricordarsi di scommentare le divisioni una volta finito il codice "
      ]
    },
    {
      "cell_type": "markdown",
      "id": "c21bb21e",
      "metadata": {
        "id": "c21bb21e"
      },
      "source": [
        "Call the function using:"
      ]
    },
    {
      "cell_type": "code",
      "execution_count": 8,
      "id": "23af8831",
      "metadata": {
        "id": "23af8831",
        "colab": {
          "base_uri": "https://localhost:8080/",
          "height": 1000
        },
        "outputId": "0e8e9167-4405-4f51-eb25-38bfdc4e547c"
      },
      "outputs": [
        {
          "output_type": "stream",
          "name": "stdout",
          "text": [
            "[0.00000000e+00 3.17279335e-02 6.34239197e-02 9.50560433e-02\n",
            " 1.26592454e-01 1.58001396e-01 1.89251244e-01 2.20310533e-01\n",
            " 2.51147987e-01 2.81732557e-01 3.12033446e-01 3.42020143e-01\n",
            " 3.71662456e-01 4.00930535e-01 4.29794912e-01 4.58226522e-01\n",
            " 4.86196736e-01 5.13677392e-01 5.40640817e-01 5.67059864e-01\n",
            " 5.92907929e-01 6.18158986e-01 6.42787610e-01 6.66769001e-01\n",
            " 6.90079011e-01 7.12694171e-01 7.34591709e-01 7.55749574e-01\n",
            " 7.76146464e-01 7.95761841e-01 8.14575952e-01 8.32569855e-01\n",
            " 8.49725430e-01 8.66025404e-01 8.81453363e-01 8.95993774e-01\n",
            " 9.09631995e-01 9.22354294e-01 9.34147860e-01 9.45000819e-01\n",
            " 9.54902241e-01 9.63842159e-01 9.71811568e-01 9.78802446e-01\n",
            " 9.84807753e-01 9.89821442e-01 9.93838464e-01 9.96854776e-01\n",
            " 9.98867339e-01 9.99874128e-01 9.99874128e-01 9.98867339e-01\n",
            " 9.96854776e-01 9.93838464e-01 9.89821442e-01 9.84807753e-01\n",
            " 9.78802446e-01 9.71811568e-01 9.63842159e-01 9.54902241e-01\n",
            " 9.45000819e-01 9.34147860e-01 9.22354294e-01 9.09631995e-01\n",
            " 8.95993774e-01 8.81453363e-01 8.66025404e-01 8.49725430e-01\n",
            " 8.32569855e-01 8.14575952e-01 7.95761841e-01 7.76146464e-01\n",
            " 7.55749574e-01 7.34591709e-01 7.12694171e-01 6.90079011e-01\n",
            " 6.66769001e-01 6.42787610e-01 6.18158986e-01 5.92907929e-01\n",
            " 5.67059864e-01 5.40640817e-01 5.13677392e-01 4.86196736e-01\n",
            " 4.58226522e-01 4.29794912e-01 4.00930535e-01 3.71662456e-01\n",
            " 3.42020143e-01 3.12033446e-01 2.81732557e-01 2.51147987e-01\n",
            " 2.20310533e-01 1.89251244e-01 1.58001396e-01 1.26592454e-01\n",
            " 9.50560433e-02 6.34239197e-02 3.17279335e-02 1.22464680e-16]\n",
            "\n",
            "[[ -1.  16. -30. ...   0.   0.   0.]\n",
            " [  0.  -1.  16. ...   0.   0.   0.]\n",
            " [  0.   0.  -1. ...   0.   0.   0.]\n",
            " ...\n",
            " [  0.   0.   0. ...  -1.   0.   0.]\n",
            " [  0.   0.   0. ...  16.  -1.   0.]\n",
            " [  0.   0.   0. ... -30.  16.  -1.]]\n",
            "\n",
            "[[-2.  1.  0.  0.  0.  0.  0.  0.  0.  0.  0.  0.  0.  0.  0.  0.  0.  0.\n",
            "   0.  0.  0.  0.  0.  0.  0.  0.  0.  0.  0.  0.  0.  0.  0.  0.  0.  0.\n",
            "   0.  0.  0.  0.  0.  0.  0.  0.  0.  0.  0.  0.  0.  0.  0.  0.  0.  0.\n",
            "   0.  0.  0.  0.  0.  0.  0.  0.  0.  0.  0.  0.  0.  0.  0.  0.  0.  0.\n",
            "   0.  0.  0.  0.  0.  0.  0.  0.  0.  0.  0.  0.  0.  0.  0.  0.  0.  0.\n",
            "   0.  0.  0.  0.  0.  0.  0.  0.  0.  0.  0.  0.  0.  0.]\n",
            " [ 1. -2.  1.  0.  0.  0.  0.  0.  0.  0.  0.  0.  0.  0.  0.  0.  0.  0.\n",
            "   0.  0.  0.  0.  0.  0.  0.  0.  0.  0.  0.  0.  0.  0.  0.  0.  0.  0.\n",
            "   0.  0.  0.  0.  0.  0.  0.  0.  0.  0.  0.  0.  0.  0.  0.  0.  0.  0.\n",
            "   0.  0.  0.  0.  0.  0.  0.  0.  0.  0.  0.  0.  0.  0.  0.  0.  0.  0.\n",
            "   0.  0.  0.  0.  0.  0.  0.  0.  0.  0.  0.  0.  0.  0.  0.  0.  0.  0.\n",
            "   0.  0.  0.  0.  0.  0.  0.  0.  0.  0.  0.  0.  0.  0.]]\n",
            "\n",
            "[[ 0.  0.  0.  0.  0.  0.  0.  0.  0.  0.  0.  0.  0.  0.  0.  0.  0.  0.\n",
            "   0.  0.  0.  0.  0.  0.  0.  0.  0.  0.  0.  0.  0.  0.  0.  0.  0.  0.\n",
            "   0.  0.  0.  0.  0.  0.  0.  0.  0.  0.  0.  0.  0.  0.  0.  0.  0.  0.\n",
            "   0.  0.  0.  0.  0.  0.  0.  0.  0.  0.  0.  0.  0.  0.  0.  0.  0.  0.\n",
            "   0.  0.  0.  0.  0.  0.  0.  0.  0.  0.  0.  0.  0.  0.  0.  0.  0.  0.\n",
            "   0.  0.  0.  0.  0.  0.  0.  0.  0.  0.  0.  1. -2.  1.]\n",
            " [ 0.  0.  0.  0.  0.  0.  0.  0.  0.  0.  0.  0.  0.  0.  0.  0.  0.  0.\n",
            "   0.  0.  0.  0.  0.  0.  0.  0.  0.  0.  0.  0.  0.  0.  0.  0.  0.  0.\n",
            "   0.  0.  0.  0.  0.  0.  0.  0.  0.  0.  0.  0.  0.  0.  0.  0.  0.  0.\n",
            "   0.  0.  0.  0.  0.  0.  0.  0.  0.  0.  0.  0.  0.  0.  0.  0.  0.  0.\n",
            "   0.  0.  0.  0.  0.  0.  0.  0.  0.  0.  0.  0.  0.  0.  0.  0.  0.  0.\n",
            "   0.  0.  0.  0.  0.  0.  0.  0.  0.  0.  0.  0.  1. -2.]]\n",
            "\n",
            "[[-2.  1.  0. ...  0.  0.  0.]\n",
            " [ 1. -2.  1. ...  0.  0.  0.]\n",
            " [ 0.  0.  0. ...  0.  0.  0.]\n",
            " ...\n",
            " [ 0.  0.  0. ...  0.  0.  0.]\n",
            " [ 0.  0.  0. ...  0.  0.  0.]\n",
            " [ 0.  0.  0. ...  0.  0.  0.]]\n",
            "\n",
            "[[ 0.  0.  0. ...  0.  0.  0.]\n",
            " [ 0.  0.  0. ...  0.  0.  0.]\n",
            " [ 0.  0.  0. ...  0.  0.  0.]\n",
            " ...\n",
            " [ 0.  0.  0. ...  0.  0.  0.]\n",
            " [ 0.  0.  0. ...  1. -2.  1.]\n",
            " [ 0.  0.  0. ...  0.  1. -2.]]\n",
            "\n",
            "[[  0.   0.   0. ...   0.   0.   0.]\n",
            " [  0.   0.   0. ...   0.   0.   0.]\n",
            " [ -1.  16. -30. ...   0.   0.   0.]\n",
            " ...\n",
            " [  0.   0.   0. ... -30.  16.  -1.]\n",
            " [  0.   0.   0. ...   0.   0.   0.]\n",
            " [  0.   0.   0. ...   0.   0.   0.]]\n",
            "\n",
            "[[ -2.   1.   0. ...   0.   0.   0.]\n",
            " [  1.  -2.   1. ...   0.   0.   0.]\n",
            " [ -1.  16. -30. ...   0.   0.   0.]\n",
            " ...\n",
            " [  0.   0.   0. ... -30.  16.  -1.]\n",
            " [  0.   0.   0. ...   1.  -2.   1.]\n",
            " [  0.   0.   0. ...   0.   1.  -2.]]\n",
            "\n",
            "\n",
            "[[  1.   0.   0. ...   0.   0.   0.]\n",
            " [  1.  -2.   1. ...   0.   0.   0.]\n",
            " [ -1.  16. -30. ...   0.   0.   0.]\n",
            " ...\n",
            " [  0.   0.   0. ... -30.  16.  -1.]\n",
            " [  0.   0.   0. ...   1.  -2.   1.]\n",
            " [  0.   0.   0. ...   0.   0.   1.]]\n",
            "\n",
            "[0.         0.03172793 0.06342392 0.09505604 0.12659245 0.1580014\n",
            " 0.18925124 0.22031053 0.25114799 0.28173256 0.31203345 0.34202014\n",
            " 0.37166246 0.40093054 0.42979491 0.45822652 0.48619674 0.51367739\n",
            " 0.54064082 0.56705986 0.59290793 0.61815899 0.64278761 0.666769\n",
            " 0.69007901 0.71269417 0.73459171 0.75574957 0.77614646 0.79576184\n",
            " 0.81457595 0.83256985 0.84972543 0.8660254  0.88145336 0.89599377\n",
            " 0.909632   0.92235429 0.93414786 0.94500082 0.95490224 0.96384216\n",
            " 0.97181157 0.97880245 0.98480775 0.98982144 0.99383846 0.99685478\n",
            " 0.99886734 0.99987413 0.99987413 0.99886734 0.99685478 0.99383846\n",
            " 0.98982144 0.98480775 0.97880245 0.97181157 0.96384216 0.95490224\n",
            " 0.94500082 0.93414786 0.92235429 0.909632   0.89599377 0.88145336\n",
            " 0.8660254  0.84972543 0.83256985 0.81457595 0.79576184 0.77614646\n",
            " 0.75574957 0.73459171 0.71269417 0.69007901 0.666769   0.64278761\n",
            " 0.61815899 0.59290793 0.56705986 0.54064082 0.51367739 0.48619674\n",
            " 0.45822652 0.42979491 0.40093054 0.37166246 0.34202014 0.31203345\n",
            " 0.28173256 0.25114799 0.22031053 0.18925124 0.1580014  0.12659245\n",
            " 0.09505604 0.06342392 0.03172793 0.        ]\n",
            "\n"
          ]
        },
        {
          "output_type": "error",
          "ename": "ValueError",
          "evalue": "ignored",
          "traceback": [
            "\u001b[0;31m---------------------------------------------------------------------------\u001b[0m",
            "\u001b[0;31mValueError\u001b[0m                                Traceback (most recent call last)",
            "\u001b[0;32m<ipython-input-8-a51bf39e4849>\u001b[0m in \u001b[0;36m<cell line: 7>\u001b[0;34m()\u001b[0m\n\u001b[1;32m      5\u001b[0m \u001b[0mA\u001b[0m\u001b[0;34m,\u001b[0m \u001b[0mb\u001b[0m \u001b[0;34m=\u001b[0m \u001b[0mfinDif\u001b[0m\u001b[0;34m(\u001b[0m\u001b[0momega\u001b[0m\u001b[0;34m,\u001b[0m \u001b[0mf\u001b[0m\u001b[0;34m,\u001b[0m \u001b[0mn\u001b[0m\u001b[0;34m,\u001b[0m \u001b[0mbc\u001b[0m\u001b[0;34m)\u001b[0m\u001b[0;34m\u001b[0m\u001b[0;34m\u001b[0m\u001b[0m\n\u001b[1;32m      6\u001b[0m \u001b[0mA1\u001b[0m \u001b[0;34m=\u001b[0m \u001b[0mA\u001b[0m\u001b[0;34m.\u001b[0m\u001b[0mcopy\u001b[0m\u001b[0;34m(\u001b[0m\u001b[0;34m)\u001b[0m\u001b[0;34m\u001b[0m\u001b[0;34m\u001b[0m\u001b[0m\n\u001b[0;32m----> 7\u001b[0;31m \u001b[0mu\u001b[0m \u001b[0;34m=\u001b[0m \u001b[0mnp\u001b[0m\u001b[0;34m.\u001b[0m\u001b[0mlinalg\u001b[0m\u001b[0;34m.\u001b[0m\u001b[0msolve\u001b[0m\u001b[0;34m(\u001b[0m\u001b[0mA1\u001b[0m\u001b[0;34m,\u001b[0m \u001b[0mb\u001b[0m\u001b[0;34m)\u001b[0m \u001b[0;31m#qua non torna per la dimensione del termine noto come dicevo nello script sopra\u001b[0m\u001b[0;34m\u001b[0m\u001b[0;34m\u001b[0m\u001b[0m\n\u001b[0m\u001b[1;32m      8\u001b[0m \u001b[0mx\u001b[0m \u001b[0;34m=\u001b[0m \u001b[0mnp\u001b[0m\u001b[0;34m.\u001b[0m\u001b[0mlinspace\u001b[0m\u001b[0;34m(\u001b[0m\u001b[0;36m0\u001b[0m\u001b[0;34m,\u001b[0m\u001b[0;36m1\u001b[0m\u001b[0;34m,\u001b[0m\u001b[0mn\u001b[0m\u001b[0;34m)\u001b[0m\u001b[0;34m\u001b[0m\u001b[0;34m\u001b[0m\u001b[0m\n\u001b[1;32m      9\u001b[0m \u001b[0mu_ex\u001b[0m \u001b[0;34m=\u001b[0m \u001b[0;34m(\u001b[0m\u001b[0mx\u001b[0m\u001b[0;34m**\u001b[0m\u001b[0;36m4\u001b[0m\u001b[0;34m)\u001b[0m\u001b[0;34m/\u001b[0m\u001b[0;36m12.\u001b[0m \u001b[0;34m-\u001b[0m \u001b[0;34m(\u001b[0m\u001b[0mx\u001b[0m\u001b[0;34m**\u001b[0m\u001b[0;36m3\u001b[0m\u001b[0;34m)\u001b[0m\u001b[0;34m/\u001b[0m\u001b[0;36m6.\u001b[0m \u001b[0;34m+\u001b[0m \u001b[0mx\u001b[0m\u001b[0;34m/\u001b[0m\u001b[0;36m12.\u001b[0m\u001b[0;34m\u001b[0m\u001b[0;34m\u001b[0m\u001b[0m\n",
            "\u001b[0;32m/usr/local/lib/python3.10/dist-packages/numpy/core/overrides.py\u001b[0m in \u001b[0;36msolve\u001b[0;34m(*args, **kwargs)\u001b[0m\n",
            "\u001b[0;32m/usr/local/lib/python3.10/dist-packages/numpy/linalg/linalg.py\u001b[0m in \u001b[0;36msolve\u001b[0;34m(a, b)\u001b[0m\n\u001b[1;32m    391\u001b[0m     \u001b[0msignature\u001b[0m \u001b[0;34m=\u001b[0m \u001b[0;34m'DD->D'\u001b[0m \u001b[0;32mif\u001b[0m \u001b[0misComplexType\u001b[0m\u001b[0;34m(\u001b[0m\u001b[0mt\u001b[0m\u001b[0;34m)\u001b[0m \u001b[0;32melse\u001b[0m \u001b[0;34m'dd->d'\u001b[0m\u001b[0;34m\u001b[0m\u001b[0;34m\u001b[0m\u001b[0m\n\u001b[1;32m    392\u001b[0m     \u001b[0mextobj\u001b[0m \u001b[0;34m=\u001b[0m \u001b[0mget_linalg_error_extobj\u001b[0m\u001b[0;34m(\u001b[0m\u001b[0m_raise_linalgerror_singular\u001b[0m\u001b[0;34m)\u001b[0m\u001b[0;34m\u001b[0m\u001b[0;34m\u001b[0m\u001b[0m\n\u001b[0;32m--> 393\u001b[0;31m     \u001b[0mr\u001b[0m \u001b[0;34m=\u001b[0m \u001b[0mgufunc\u001b[0m\u001b[0;34m(\u001b[0m\u001b[0ma\u001b[0m\u001b[0;34m,\u001b[0m \u001b[0mb\u001b[0m\u001b[0;34m,\u001b[0m \u001b[0msignature\u001b[0m\u001b[0;34m=\u001b[0m\u001b[0msignature\u001b[0m\u001b[0;34m,\u001b[0m \u001b[0mextobj\u001b[0m\u001b[0;34m=\u001b[0m\u001b[0mextobj\u001b[0m\u001b[0;34m)\u001b[0m\u001b[0;34m\u001b[0m\u001b[0;34m\u001b[0m\u001b[0m\n\u001b[0m\u001b[1;32m    394\u001b[0m \u001b[0;34m\u001b[0m\u001b[0m\n\u001b[1;32m    395\u001b[0m     \u001b[0;32mreturn\u001b[0m \u001b[0mwrap\u001b[0m\u001b[0;34m(\u001b[0m\u001b[0mr\u001b[0m\u001b[0;34m.\u001b[0m\u001b[0mastype\u001b[0m\u001b[0;34m(\u001b[0m\u001b[0mresult_t\u001b[0m\u001b[0;34m,\u001b[0m \u001b[0mcopy\u001b[0m\u001b[0;34m=\u001b[0m\u001b[0;32mFalse\u001b[0m\u001b[0;34m)\u001b[0m\u001b[0;34m)\u001b[0m\u001b[0;34m\u001b[0m\u001b[0;34m\u001b[0m\u001b[0m\n",
            "\u001b[0;31mValueError\u001b[0m: solve1: Input operand 1 has a mismatch in its core dimension 0, with gufunc signature (m,m),(m)->(m) (size 100 is different from 104)"
          ]
        }
      ],
      "source": [
        "omega = [0,np.pi]\n",
        "f = lambda x : np.sin(x)\n",
        "n=100\n",
        "bc = [0,0]\n",
        "A, b = finDif(omega, f, n, bc)\n",
        "A1 = A.copy()\n",
        "u = np.linalg.solve(A1, b) #qua non torna per la dimensione del termine noto come dicevo nello script sopra\n",
        "x = np.linspace(0,1,n)\n",
        "u_ex = (x**4)/12. - (x**3)/6. + x/12.\n",
        "\n",
        "# Plot the FD and exact solution\n",
        "_ = plot(x,u,'ro')\n",
        "_ = plot(x,u_ex)"
      ]
    },
    {
      "cell_type": "markdown",
      "id": "4f8a7c6f",
      "metadata": {
        "id": "4f8a7c6f"
      },
      "source": [
        "Implement two functions that compute the LU and the Cholesky factorization of the system matrix $A$"
      ]
    },
    {
      "cell_type": "code",
      "execution_count": null,
      "id": "47468a37",
      "metadata": {
        "id": "47468a37"
      },
      "outputs": [],
      "source": [
        "def LU(A):\n",
        "    A = A.copy()\n",
        "    N=len(A)\n",
        "    for k in range(N-1):\n",
        "        if (abs(A[k,k]) < 1e-15):\n",
        "            raise RuntimeError(\"Null pivot\")\n",
        "            \n",
        "        A[k+1:N,k] /= A[k,k]\n",
        "        for j in range(k+1,N):\n",
        "            A[k+1:N,j] -= A[k+1:N,k]*A[k,j]\n",
        "    \n",
        "    L=tril(A)\n",
        "    for i in range(N):\n",
        "        L[i,i]=1.0\n",
        "    U = triu(A)\n",
        "    return L, U\n",
        "\n",
        "L, U = LU(A)"
      ]
    },
    {
      "cell_type": "code",
      "execution_count": null,
      "id": "193ebfed",
      "metadata": {
        "id": "193ebfed",
        "colab": {
          "base_uri": "https://localhost:8080/"
        },
        "outputId": "930bdede-7bc3-48de-89a2-a43942884bde"
      },
      "outputs": [
        {
          "output_type": "stream",
          "name": "stderr",
          "text": [
            "<ipython-input-67-b6f2d174eaa2>:5: RuntimeWarning: invalid value encountered in sqrt\n",
            "  A[k,k] = sqrt(A[k,k])\n"
          ]
        }
      ],
      "source": [
        "def cholesky(A):\n",
        "    A = A.copy()\n",
        "    N = len(A)\n",
        "    for k in range(N-1):\n",
        "        A[k,k] = sqrt(A[k,k])\n",
        "        A[k+1:N,k] = A[k+1:N,k]/A[k,k]\n",
        "        \n",
        "        for j in range(k+1,N):\n",
        "            A[j:N,j] = A[j:N,j] - A[j:N,k]*A[j,k]\n",
        "        \n",
        "    A[-1,-1] = sqrt(A[-1,-1])\n",
        "    L=tril(A)\n",
        "    return L, L.transpose()\n",
        "\n",
        "HT, H = cholesky(A)"
      ]
    },
    {
      "cell_type": "markdown",
      "id": "41eb8436",
      "metadata": {
        "id": "41eb8436"
      },
      "source": [
        "Implement forward and backward substitution functions to exploit the developed factorization methods to solve the derived linear system of equations."
      ]
    },
    {
      "cell_type": "code",
      "execution_count": null,
      "id": "019cf0df",
      "metadata": {
        "id": "019cf0df"
      },
      "outputs": [],
      "source": [
        "def L_solve(L,rhs):\n",
        "  x = zeros_like(rhs)\n",
        "  N = len(L)\n",
        "        \n",
        "  x[0] = rhs[0]/L[0,0]\n",
        "  for i in range(1,N):\n",
        "    x[i] = (rhs[i] - dot(L[i, 0:i], x[0:i]))/L[i,i]\n",
        "  return x"
      ]
    },
    {
      "cell_type": "code",
      "execution_count": null,
      "id": "26ce17c4",
      "metadata": {
        "id": "26ce17c4"
      },
      "outputs": [],
      "source": [
        "def U_solve(U,rhs):\n",
        "  x = zeros_like(rhs)\n",
        "  N=len(U)\n",
        "              \n",
        "  x[-1] = rhs[-1]/U[-1,-1]\n",
        "  for i in reversed(range(N-1)):\n",
        "    x[i] = (rhs[i] -dot(U[i, i+1:N], x[i+1:N]))/U[i,i]\n",
        "  return x"
      ]
    },
    {
      "cell_type": "markdown",
      "id": "08ac9ba1",
      "metadata": {
        "id": "08ac9ba1"
      },
      "source": [
        "Solve the derived linear system using the implemented functions and plot the computed solution:"
      ]
    },
    {
      "cell_type": "code",
      "execution_count": null,
      "id": "7c1de4f3",
      "metadata": {
        "id": "7c1de4f3",
        "colab": {
          "base_uri": "https://localhost:8080/",
          "height": 430
        },
        "outputId": "8efb3bc4-e519-4af8-a8a7-cdea693e5e29"
      },
      "outputs": [
        {
          "output_type": "display_data",
          "data": {
            "text/plain": [
              "<Figure size 640x480 with 1 Axes>"
            ],
            "image/png": "[encoded data removed]"
          },
          "metadata": {}
        }
      ],
      "source": [
        "w = L_solve(L,b)\n",
        "u = U_solve(U,w)\n",
        "x = linspace(0,1,n)\n",
        "u_ex = (x**4)/12. - (x**3)/6. + x/12.\n",
        "_ = plot(x,u,'ro')\n",
        "_ = plot(x,u_ex)"
      ]
    },
    {
      "cell_type": "markdown",
      "id": "62cdfe65",
      "metadata": {
        "id": "62cdfe65"
      },
      "source": [
        "Considering the new domain $\\Omega = (0,1)$ and the forcing term $f(x) = x(1-x)$ with B.C. $u(x) = 0$, on $\\partial \\Omega = {0,1}$ produce a plot and a table where you show the decay of the error w.r.t. the number of grid points.\n",
        "(The analytical solution for the above problems is $u_{an} = \\frac{x^4}{12} - \\frac{x^3}{6} + \\frac{x}{12}$)"
      ]
    },
    {
      "cell_type": "code",
      "execution_count": null,
      "id": "91212afb",
      "metadata": {
        "id": "91212afb"
      },
      "outputs": [],
      "source": [
        "#TODO"
      ]
    },
    {
      "cell_type": "markdown",
      "id": "c8d5002f",
      "metadata": {
        "id": "c8d5002f"
      },
      "source": [
        "Exploit the derived LU factorizations to compute the determinant of the system's matrix $A$ using the original problem formulation."
      ]
    },
    {
      "cell_type": "code",
      "execution_count": null,
      "id": "c25fc1fe",
      "metadata": {
        "id": "c25fc1fe"
      },
      "outputs": [],
      "source": [
        "def condNumb(A):\n",
        "    pass #TODO\n",
        "    return condNu"
      ]
    },
    {
      "cell_type": "markdown",
      "id": "2728b49a",
      "metadata": {
        "id": "2728b49a"
      },
      "source": [
        "Implement a preconditioned Conjugant Gradient method to solve the original linear system of equations using an iterative method:"
      ]
    },
    {
      "cell_type": "code",
      "execution_count": null,
      "id": "62b83aee",
      "metadata": {
        "id": "62b83aee",
        "colab": {
          "base_uri": "https://localhost:8080/"
        },
        "outputId": "e7d42c39-4cf9-4921-857f-b472e7a7ce99"
      },
      "outputs": [
        {
          "output_type": "stream",
          "name": "stdout",
          "text": [
            "100 33.70238151242315\n",
            "0.9657720922374371\n"
          ]
        }
      ],
      "source": [
        "def conjugate_gradient(A, b, P, nmax=len(A), eps=1e-10):\n",
        "  N=len(A)\n",
        "  x = zeros_like(b)\n",
        "  tol = eps + 1\n",
        "  it = 0\n",
        "  r = b - dot(A,x)\n",
        "  rho_old = 1.\n",
        "  p_old = zeros_like(b)\n",
        "  while (it < nmax and tol > eps):\n",
        "    it += 1\n",
        "    z = linalg.solve(P,r)\n",
        "    rho = dot(r,z)\n",
        "    if (it > 1):\n",
        "      beta = rho/rho_old\n",
        "      p = z + beta*p_old\n",
        "    else:\n",
        "      p = z\n",
        "      q = dot(A,p)\n",
        "      alpha = rho/(dot(p,q))\n",
        "      x += p*alpha\n",
        "      r -= q*alpha\n",
        "      p_old = p\n",
        "      rho_old = rho\n",
        "      tol = linalg.norm(r,2)\n",
        "      \n",
        "  print(it, tol)\n",
        "  return x\n",
        "\n",
        "sol_conjugate_gradient = conjugate_gradient(A, b, identity(len(A)))\n",
        "print(linalg.norm(sol_conjugate_gradient - u)/linalg.norm(u))"
      ]
    },
    {
      "cell_type": "markdown",
      "id": "8a4cfc02",
      "metadata": {
        "id": "8a4cfc02"
      },
      "source": [
        "Consider the following time dependent variation of the PDE starting from the orginal problem formulation:\n",
        "$$\n",
        "u'(t)-u_{xx} = \\alpha(t)f(x)\n",
        "$$\n",
        "\n",
        "for $t\\in [0,T]$, with $\\alpha(t) = \\cos(t)$ and $T = 6\\pi$\n",
        "\n",
        "Use the same finite difference scheme to derive the semi-discrete formulation and solve it using a forward Euler's method.\n",
        "\n",
        "Plot the time dependent solution solution at $x = \\pi/2$, $x=1$, \n",
        "$x=\\pi$\n"
      ]
    },
    {
      "cell_type": "code",
      "execution_count": null,
      "id": "3ffe0689",
      "metadata": {
        "id": "3ffe0689"
      },
      "outputs": [],
      "source": [
        "#TODO"
      ]
    },
    {
      "cell_type": "markdown",
      "id": "36936121",
      "metadata": {
        "id": "36936121"
      },
      "source": [
        "Given the original $Au = b$ system, implement an algorithm to compute the largest and smallest eigenvalues and the associated eigenvectors of the matrix $A$."
      ]
    },
    {
      "cell_type": "code",
      "execution_count": null,
      "id": "622aadf4",
      "metadata": {
        "id": "622aadf4",
        "colab": {
          "base_uri": "https://localhost:8080/"
        },
        "outputId": "8742198c-ec56-4cc2-977c-b96c9a5c4731"
      },
      "outputs": [
        {
          "output_type": "stream",
          "name": "stdout",
          "text": [
            "error = 55.651170394032256 iterations = 500\n",
            "lambda_max = -52189.47099903501\n",
            "numpy\n",
            "[-5.22555879e+04 -5.22063779e+04 -5.21244489e+04 -5.20099324e+04\n",
            " -5.18630119e+04 -5.16839223e+04 -5.14729499e+04 -5.12304312e+04\n",
            " -5.09567522e+04 -5.06523472e+04 -5.03176984e+04 -4.99533340e+04\n",
            " -4.95598271e+04 -4.91377946e+04 -4.86878952e+04 -4.82108282e+04\n",
            " -4.77073316e+04 -4.71781804e+04 -4.66241848e+04 -4.60461879e+04\n",
            " -4.54450644e+04 -4.48217177e+04 -4.41770785e+04 -4.35121023e+04\n",
            " -4.28277673e+04 -4.21250720e+04 -4.14050333e+04 -4.06686839e+04\n",
            " -3.99170701e+04 -3.91512497e+04 -3.83722895e+04 -3.75812631e+04\n",
            " -3.67792489e+04 -3.59673273e+04 -3.51465792e+04 -3.43180834e+04\n",
            " -3.34829145e+04 -3.26421413e+04 -3.17968241e+04 -3.09480135e+04\n",
            " -3.00967480e+04 -2.92440523e+04 -2.83909360e+04 -2.75383914e+04\n",
            " -2.66873925e+04 -2.58388930e+04 -2.49938255e+04 -2.41530998e+04\n",
            " -2.33176021e+04 -2.24881936e+04 -2.16657098e+04 -2.08509597e+04\n",
            " -2.00447247e+04 -1.92477584e+04 -1.84607860e+04 -1.76845034e+04\n",
            " -1.69195775e+04 -1.61666458e+04 -1.46991666e+04 -1.54263161e+04\n",
            " -1.39857461e+04 -1.32865741e+04 -1.26021410e+04 -1.19329085e+04\n",
            " -1.12793103e+04 -1.06417521e+04 -1.00206129e+04 -9.41624485e+03\n",
            " -8.82897482e+03 -8.25910466e+03 -7.70691224e+03 -7.17265235e+03\n",
            " -6.65655767e+03 -6.15883975e+03 -5.67969001e+03 -4.77776672e+03\n",
            " -4.35528514e+03 -3.95195787e+03 -3.56789201e+03 -2.85790602e+03\n",
            " -2.53213652e+03 -5.21928086e+03 -2.22593177e+03 -9.90051293e+00\n",
            " -3.96019380e+01 -1.93934168e+03 -8.91038943e+01 -3.20318105e+03\n",
            " -1.42516425e+03 -1.19763876e+03 -3.56402083e+02 -2.47505748e+02\n",
            " -4.85091198e+02 -1.67240779e+03 -9.89853386e+02 -1.58405615e+02\n",
            " -6.33568034e+02 -8.01825396e+02  1.00000000e+00  1.00000000e+00]\n",
            "error = 6.3769184811384165e-06 iterations = 14\n",
            "lambda = 0.9999999999962691\n"
          ]
        }
      ],
      "source": [
        "z0 = ones_like(x)\n",
        "def PM(A,z0,tol=1e-5,nmax=500):\n",
        "    q = z0/linalg.norm(z0,2)\n",
        "    it = 0\n",
        "    err = tol + 1.\n",
        "    while it < nmax and err > tol:\n",
        "        z = dot(A,q)\n",
        "        l = dot(q.T,z)\n",
        "        err = linalg.norm(z-l*q,2)\n",
        "        q = z/linalg.norm(z,2)\n",
        "        \n",
        "        it += 1\n",
        "    print(\"error =\", err, \"iterations =\", it)\n",
        "    print(\"lambda_max =\", l)\n",
        "    return l,q\n",
        "\n",
        "l,x = PM(A,z0)\n",
        "    \n",
        "l_np, x_np = linalg.eig(A)\n",
        "\n",
        "print(\"numpy\")\n",
        "print(l_np)\n",
        "\n",
        "def IPM(A,x0,mu,tol=1e-5,nmax=500):\n",
        "    M = A -mu*eye(len(A))\n",
        "    P,L,U = scipy.linalg.lu(M)\n",
        "    err = tol + 1.\n",
        "    it = 0\n",
        "    q = x0/numpy.linalg.norm(x0,2)\n",
        "    while it < nmax and err > tol :\n",
        "        y = scipy.linalg.solve(L,dot(P.T,q))\n",
        "        x = scipy.linalg.solve(U,y)\n",
        "        q = x/numpy.linalg.norm(x,2)\n",
        "        z = dot(A,q)\n",
        "        l = dot(q.T,z)\n",
        "        err = numpy.linalg.norm(z-l*q,2)\n",
        "        it += 1\n",
        "    print(\"error =\", err, \"iterations =\", it)\n",
        "    print(\"lambda =\", l)\n",
        "    return l,q\n",
        "\n",
        "l,x = IPM(A,z0,6.)"
      ]
    },
    {
      "cell_type": "markdown",
      "id": "85d5f64e",
      "metadata": {
        "id": "85d5f64e"
      },
      "source": [
        "Compute the inverse of the matrix A exploiting the derived LU factorization"
      ]
    },
    {
      "cell_type": "code",
      "execution_count": null,
      "id": "6ad7199f",
      "metadata": {
        "id": "6ad7199f"
      },
      "outputs": [],
      "source": [
        "#TODO"
      ]
    },
    {
      "cell_type": "markdown",
      "id": "cb22566e",
      "metadata": {
        "id": "cb22566e"
      },
      "source": [
        "Consider the following Cauchy problem\n",
        "$$\n",
        "\\begin{cases}\n",
        "y'= -ty^2 \\quad 0\\le t \\le 2\\\\\n",
        "y(0) = 1\n",
        "\\end{cases}\n",
        "$$\n",
        "Implement a Backward Euler's method in a suitable function and solve the resulting non-linear equation using a Newton's method."
      ]
    },
    {
      "cell_type": "code",
      "execution_count": null,
      "id": "3184e358",
      "metadata": {
        "id": "3184e358"
      },
      "outputs": [],
      "source": [
        "#TODO"
      ]
    }
  ],
  "metadata": {
    "kernelspec": {
      "display_name": "Python 3 (ipykernel)",
      "language": "python",
      "name": "python3"
    },
    "language_info": {
      "codemirror_mode": {
        "name": "ipython",
        "version": 3
      },
      "file_extension": ".py",
      "mimetype": "text/x-python",
      "name": "python",
      "nbconvert_exporter": "python",
      "pygments_lexer": "ipython3",
      "version": "3.10.9"
    },
    "colab": {
      "provenance": [],
      "include_colab_link": true
    }
  },
  "nbformat": 4,
  "nbformat_minor": 5
}