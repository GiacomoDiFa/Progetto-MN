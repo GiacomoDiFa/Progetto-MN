{
  "nbformat": 4,
  "nbformat_minor": 0,
  "metadata": {
    "colab": {
      "provenance": [],
      "authorship_tag": "ABX9TyOeP7EMFnlGF2/Blx/rSHf4",
      "include_colab_link": true
    },
    "kernelspec": {
      "name": "python3",
      "display_name": "Python 3"
    },
    "language_info": {
      "name": "python"
    }
  },
  "cells": [
    {
      "cell_type": "markdown",
      "metadata": {
        "id": "view-in-github",
        "colab_type": "text"
      },
      "source": [
        "<a href=\"https://colab.research.google.com/github/GiacomoDiFa/Progetto-MN/blob/main/provamatrice.ipynb\" target=\"_parent\"><img src=\"https://colab.research.google.com/assets/colab-badge.svg\" alt=\"Open In Colab\"/></a>"
      ]
    },
    {
      "cell_type": "code",
      "execution_count": 66,
      "metadata": {
        "colab": {
          "base_uri": "https://localhost:8080/"
        },
        "id": "nF8fmrqDtmPm",
        "outputId": "a9f6a919-23e1-4195-b41f-3e59c4a33ac7"
      },
      "outputs": [
        {
          "output_type": "stream",
          "name": "stdout",
          "text": [
            "0.16666666666666666\n",
            "0.3333333333333333\n",
            "[[ -1.  16. -30.  16.  -1.   0.   0.   0.   0.   0.   0.]\n",
            " [  0.  -1.  16. -30.  16.  -1.   0.   0.   0.   0.   0.]\n",
            " [  0.   0.  -1.  16. -30.  16.  -1.   0.   0.   0.   0.]\n",
            " [  0.   0.   0.  -1.  16. -30.  16.  -1.   0.   0.   0.]\n",
            " [  0.   0.   0.   0.  -1.  16. -30.  16.  -1.   0.   0.]\n",
            " [  0.   0.   0.   0.   0.  -1.  16. -30.  16.  -1.   0.]\n",
            " [  0.   0.   0.   0.   0.   0.  -1.  16. -30.  16.  -1.]]\n"
          ]
        }
      ],
      "source": [
        "import numpy as np\n",
        "\n",
        "n = 7  # Numero di righe\n",
        "m = 11  # Numero di colonne\n",
        "h = 1./(n-1)\n",
        "print(h)\n",
        "print(12*(h**2))\n",
        "# Creazione della matrice con diagonali\n",
        "matrix = np.zeros((n, m))  # Inizializza una matrice di zeri\n",
        "\n",
        "# Assegna valori alla diagonale principale\n",
        "a = -1\n",
        "b = 16\n",
        "c = -30\n",
        "main_diagonal = np.full(min(n, m), a)\n",
        "np.fill_diagonal(matrix, main_diagonal)\n",
        "\n",
        "# Assegna valori alle altre diagonali sopra e sotto la diagonale principale\n",
        "\n",
        "\n",
        "np.fill_diagonal(matrix[:, 1:], b)\n",
        "np.fill_diagonal(matrix[:, 2:], c)\n",
        "np.fill_diagonal(matrix[:, 3:], b)\n",
        "np.fill_diagonal(matrix[:, 4:], a)\n",
        "\n",
        "print(matrix)"
      ]
    },
    {
      "cell_type": "code",
      "source": [
        "n1 = 2\n",
        "m1 = 11\n",
        "matrix1 = np.zeros((n1,m1))\n",
        "a1 = -2\n",
        "b1 = 1\n",
        "main_diagonal1 = np.full(min(n1,m1),a1)\n",
        "np.fill_diagonal(matrix1,main_diagonal1)\n",
        "np.fill_diagonal(matrix1[:,1:],b1)\n",
        "np.fill_diagonal(matrix1[-1:,:],b1)\n",
        "print(matrix1)"
      ],
      "metadata": {
        "colab": {
          "base_uri": "https://localhost:8080/"
        },
        "id": "Q2XljLQNwONL",
        "outputId": "570009e3-742b-44ea-82a4-c33dc137b58c"
      },
      "execution_count": 17,
      "outputs": [
        {
          "output_type": "stream",
          "name": "stdout",
          "text": [
            "[[-2.  1.  0.  0.  0.  0.  0.  0.  0.  0.  0.]\n",
            " [ 1. -2.  1.  0.  0.  0.  0.  0.  0.  0.  0.]]\n"
          ]
        }
      ]
    },
    {
      "cell_type": "code",
      "source": [
        "n2 = 2\n",
        "m2 = 11\n",
        "matrix2 = np.zeros((n2,m2))\n",
        "a2 = -2\n",
        "b2 = 1\n",
        "np.fill_diagonal(matrix2[:,-1:],b2)\n",
        "np.fill_diagonal(matrix2[:,-2:],a2)\n",
        "np.fill_diagonal(matrix2[:,-3:],b2)\n",
        "print(matrix2)"
      ],
      "metadata": {
        "colab": {
          "base_uri": "https://localhost:8080/"
        },
        "id": "bNMDsSNUyTOT",
        "outputId": "82fdc42c-f5ac-4058-f55c-928557720e9e"
      },
      "execution_count": 31,
      "outputs": [
        {
          "output_type": "stream",
          "name": "stdout",
          "text": [
            "[[ 0.  0.  0.  0.  0.  0.  0.  0.  1. -2.  1.]\n",
            " [ 0.  0.  0.  0.  0.  0.  0.  0.  0.  1. -2.]]\n"
          ]
        }
      ]
    },
    {
      "cell_type": "code",
      "source": [
        "nfin = 11\n",
        "mfin = 11\n",
        "A = np.pad(matrix1, ((0, nfin-matrix1.shape[0]), (0, mfin-matrix1.shape[1])), mode='constant')\n",
        "B = np.pad(matrix2, ((nfin-matrix2.shape[0], 0), (0, mfin-matrix2.shape[1])), mode='constant')\n",
        "pad_rows = (nfin - matrix.shape[0]) // 2\n",
        "pad_cols = (mfin - matrix.shape[1]) // 2\n",
        "C = np.pad(matrix, (((pad_rows, nfin - matrix.shape[0] - pad_rows), (pad_cols, mfin - matrix.shape[1] - pad_cols))), mode='constant')\n",
        "D = A+B+C\n",
        "print(A)\n",
        "print(\"\")\n",
        "print(B)\n",
        "print(\"\")\n",
        "print(C)\n",
        "print(\"\")\n",
        "print(D)\n",
        "D[0,0] = 1\n",
        "D[-1,-1] = 1\n",
        "D[0,1] = 0\n",
        "D[-1,-2] = 0\n",
        "print(\"\")\n",
        "print(D)"
      ],
      "metadata": {
        "colab": {
          "base_uri": "https://localhost:8080/"
        },
        "id": "gZHRFrddzjsB",
        "outputId": "dee8a91e-3aa1-4603-a92f-5b4d60c5c360"
      },
      "execution_count": 55,
      "outputs": [
        {
          "output_type": "stream",
          "name": "stdout",
          "text": [
            "[[-2.  1.  0.  0.  0.  0.  0.  0.  0.  0.  0.]\n",
            " [ 1. -2.  1.  0.  0.  0.  0.  0.  0.  0.  0.]\n",
            " [ 0.  0.  0.  0.  0.  0.  0.  0.  0.  0.  0.]\n",
            " [ 0.  0.  0.  0.  0.  0.  0.  0.  0.  0.  0.]\n",
            " [ 0.  0.  0.  0.  0.  0.  0.  0.  0.  0.  0.]\n",
            " [ 0.  0.  0.  0.  0.  0.  0.  0.  0.  0.  0.]\n",
            " [ 0.  0.  0.  0.  0.  0.  0.  0.  0.  0.  0.]\n",
            " [ 0.  0.  0.  0.  0.  0.  0.  0.  0.  0.  0.]\n",
            " [ 0.  0.  0.  0.  0.  0.  0.  0.  0.  0.  0.]\n",
            " [ 0.  0.  0.  0.  0.  0.  0.  0.  0.  0.  0.]\n",
            " [ 0.  0.  0.  0.  0.  0.  0.  0.  0.  0.  0.]]\n",
            "\n",
            "[[ 0.  0.  0.  0.  0.  0.  0.  0.  0.  0.  0.]\n",
            " [ 0.  0.  0.  0.  0.  0.  0.  0.  0.  0.  0.]\n",
            " [ 0.  0.  0.  0.  0.  0.  0.  0.  0.  0.  0.]\n",
            " [ 0.  0.  0.  0.  0.  0.  0.  0.  0.  0.  0.]\n",
            " [ 0.  0.  0.  0.  0.  0.  0.  0.  0.  0.  0.]\n",
            " [ 0.  0.  0.  0.  0.  0.  0.  0.  0.  0.  0.]\n",
            " [ 0.  0.  0.  0.  0.  0.  0.  0.  0.  0.  0.]\n",
            " [ 0.  0.  0.  0.  0.  0.  0.  0.  0.  0.  0.]\n",
            " [ 0.  0.  0.  0.  0.  0.  0.  0.  0.  0.  0.]\n",
            " [ 0.  0.  0.  0.  0.  0.  0.  0.  1. -2.  1.]\n",
            " [ 0.  0.  0.  0.  0.  0.  0.  0.  0.  1. -2.]]\n",
            "\n",
            "[[  0.   0.   0.   0.   0.   0.   0.   0.   0.   0.   0.]\n",
            " [  0.   0.   0.   0.   0.   0.   0.   0.   0.   0.   0.]\n",
            " [ -1.  16. -30.  16.  -1.   0.   0.   0.   0.   0.   0.]\n",
            " [  0.  -1.  16. -30.  16.  -1.   0.   0.   0.   0.   0.]\n",
            " [  0.   0.  -1.  16. -30.  16.  -1.   0.   0.   0.   0.]\n",
            " [  0.   0.   0.  -1.  16. -30.  16.  -1.   0.   0.   0.]\n",
            " [  0.   0.   0.   0.  -1.  16. -30.  16.  -1.   0.   0.]\n",
            " [  0.   0.   0.   0.   0.  -1.  16. -30.  16.  -1.   0.]\n",
            " [  0.   0.   0.   0.   0.   0.  -1.  16. -30.  16.  -1.]\n",
            " [  0.   0.   0.   0.   0.   0.   0.   0.   0.   0.   0.]\n",
            " [  0.   0.   0.   0.   0.   0.   0.   0.   0.   0.   0.]]\n",
            "\n",
            "[[ -2.   1.   0.   0.   0.   0.   0.   0.   0.   0.   0.]\n",
            " [  1.  -2.   1.   0.   0.   0.   0.   0.   0.   0.   0.]\n",
            " [ -1.  16. -30.  16.  -1.   0.   0.   0.   0.   0.   0.]\n",
            " [  0.  -1.  16. -30.  16.  -1.   0.   0.   0.   0.   0.]\n",
            " [  0.   0.  -1.  16. -30.  16.  -1.   0.   0.   0.   0.]\n",
            " [  0.   0.   0.  -1.  16. -30.  16.  -1.   0.   0.   0.]\n",
            " [  0.   0.   0.   0.  -1.  16. -30.  16.  -1.   0.   0.]\n",
            " [  0.   0.   0.   0.   0.  -1.  16. -30.  16.  -1.   0.]\n",
            " [  0.   0.   0.   0.   0.   0.  -1.  16. -30.  16.  -1.]\n",
            " [  0.   0.   0.   0.   0.   0.   0.   0.   1.  -2.   1.]\n",
            " [  0.   0.   0.   0.   0.   0.   0.   0.   0.   1.  -2.]]\n",
            "\n",
            "[[  1.   0.   0.   0.   0.   0.   0.   0.   0.   0.   0.]\n",
            " [  1.  -2.   1.   0.   0.   0.   0.   0.   0.   0.   0.]\n",
            " [ -1.  16. -30.  16.  -1.   0.   0.   0.   0.   0.   0.]\n",
            " [  0.  -1.  16. -30.  16.  -1.   0.   0.   0.   0.   0.]\n",
            " [  0.   0.  -1.  16. -30.  16.  -1.   0.   0.   0.   0.]\n",
            " [  0.   0.   0.  -1.  16. -30.  16.  -1.   0.   0.   0.]\n",
            " [  0.   0.   0.   0.  -1.  16. -30.  16.  -1.   0.   0.]\n",
            " [  0.   0.   0.   0.   0.  -1.  16. -30.  16.  -1.   0.]\n",
            " [  0.   0.   0.   0.   0.   0.  -1.  16. -30.  16.  -1.]\n",
            " [  0.   0.   0.   0.   0.   0.   0.   0.   1.  -2.   1.]\n",
            " [  0.   0.   0.   0.   0.   0.   0.   0.   0.   0.   1.]]\n"
          ]
        }
      ]
    },
    {
      "cell_type": "code",
      "source": [
        "m = 14 #numero di colonne\n",
        "n = m-4  # Numero di righe\n",
        "h = 1./(n-1)\n",
        "print(h)\n",
        "print(12*(h**2))\n",
        "# Creazione della matrice con diagonali\n",
        "matrix = np.zeros((n, m))  # Inizializza una matrice di zeri\n",
        "\n",
        "# Assegna valori alla diagonale principale\n",
        "a = -1\n",
        "b = 16\n",
        "c = -30\n",
        "main_diagonal = np.full(min(n, m), a)\n",
        "np.fill_diagonal(matrix, main_diagonal)\n",
        "\n",
        "# Assegna valori alle altre diagonali sopra e sotto la diagonale principale\n",
        "\n",
        "\n",
        "np.fill_diagonal(matrix[:, 1:], b)\n",
        "np.fill_diagonal(matrix[:, 2:], c)\n",
        "np.fill_diagonal(matrix[:, 3:], b)\n",
        "np.fill_diagonal(matrix[:, 4:], a)\n",
        "\n",
        "print(matrix)"
      ],
      "metadata": {
        "colab": {
          "base_uri": "https://localhost:8080/"
        },
        "id": "8OG-YMzw_oUd",
        "outputId": "e80176dc-c609-40d2-d829-5b33ec1e2016"
      },
      "execution_count": 71,
      "outputs": [
        {
          "output_type": "stream",
          "name": "stdout",
          "text": [
            "0.1111111111111111\n",
            "0.14814814814814814\n",
            "[[ -1.  16. -30.  16.  -1.   0.   0.   0.   0.   0.   0.   0.   0.   0.]\n",
            " [  0.  -1.  16. -30.  16.  -1.   0.   0.   0.   0.   0.   0.   0.   0.]\n",
            " [  0.   0.  -1.  16. -30.  16.  -1.   0.   0.   0.   0.   0.   0.   0.]\n",
            " [  0.   0.   0.  -1.  16. -30.  16.  -1.   0.   0.   0.   0.   0.   0.]\n",
            " [  0.   0.   0.   0.  -1.  16. -30.  16.  -1.   0.   0.   0.   0.   0.]\n",
            " [  0.   0.   0.   0.   0.  -1.  16. -30.  16.  -1.   0.   0.   0.   0.]\n",
            " [  0.   0.   0.   0.   0.   0.  -1.  16. -30.  16.  -1.   0.   0.   0.]\n",
            " [  0.   0.   0.   0.   0.   0.   0.  -1.  16. -30.  16.  -1.   0.   0.]\n",
            " [  0.   0.   0.   0.   0.   0.   0.   0.  -1.  16. -30.  16.  -1.   0.]\n",
            " [  0.   0.   0.   0.   0.   0.   0.   0.   0.  -1.  16. -30.  16.  -1.]]\n"
          ]
        }
      ]
    },
    {
      "cell_type": "code",
      "source": [
        "def finDif(omega,f,n,bc):\n",
        "  x = np.linspace(0,np.pi,n)\n",
        "  terminenoto = f(x)\n",
        "  print(terminenoto)\n",
        "  print(\"\")\n",
        "  h = 1./(n-1)\n",
        "  m = n + 4 #numero di colonne matrice\n",
        "  matrix = np.zeros((n, m))  # Inizializza una matrice di zeri\n",
        "  # Assegna valori alla diagonale principale\n",
        "  a = -1\n",
        "  b = 16\n",
        "  c = -30\n",
        "  main_diagonal = np.full(min(n, m), a)\n",
        "  np.fill_diagonal(matrix, main_diagonal)\n",
        "  # Assegna valori alle altre diagonali sopra e sotto la diagonale principale\n",
        "  np.fill_diagonal(matrix[:, 1:], b)\n",
        "  np.fill_diagonal(matrix[:, 2:], c)\n",
        "  np.fill_diagonal(matrix[:, 3:], b)\n",
        "  np.fill_diagonal(matrix[:, 4:], a)\n",
        "  #matrix /= 12*h**2\n",
        "  print(matrix)\n",
        "  print(\"\")\n",
        "  \n",
        "  d = -2\n",
        "  e = 1\n",
        "  r = 2\n",
        "  \n",
        "  matrix1 = np.zeros((r,m))\n",
        "  main_diagonal1 = np.full(min(r,m),d)\n",
        "  np.fill_diagonal(matrix1,main_diagonal1)\n",
        "  np.fill_diagonal(matrix1[:,1:],e)\n",
        "  np.fill_diagonal(matrix1[-1:,:],e)\n",
        "  #matrix1 /= h**2\n",
        "  print(matrix1)\n",
        "  print(\"\")\n",
        "\n",
        "  \n",
        "  matrix2 = np.zeros((r,m))\n",
        "  np.fill_diagonal(matrix2[:,-1:],e)\n",
        "  np.fill_diagonal(matrix2[:,-2:],d)\n",
        "  np.fill_diagonal(matrix2[:,-3:],e)\n",
        "  #matrix2 /= h**2\n",
        "  print(matrix2)\n",
        "  print(\"\")\n",
        "\n",
        "\n",
        " \n",
        "  A = np.pad(matrix1, ((0, m-matrix1.shape[0]), (0, m-matrix1.shape[1])), mode='constant')\n",
        "  B = np.pad(matrix2, ((m-matrix2.shape[0], 0), (0, m-matrix2.shape[1])), mode='constant')\n",
        "  pad_rows = (m - matrix.shape[0]) // 2\n",
        "  pad_cols = (m - matrix.shape[1]) // 2\n",
        "  C = np.pad(matrix, (((pad_rows, m - matrix.shape[0] - pad_rows), (pad_cols, m - matrix.shape[1] - pad_cols))), mode='constant')\n",
        "  D = A+B+C\n",
        "  print(A)\n",
        "  print(\"\")\n",
        "  print(B)\n",
        "  print(\"\")\n",
        "  print(C)\n",
        "  print(\"\")\n",
        "  print(D)\n",
        "  print(\"\")\n",
        "  D[0,0] = 1\n",
        "  D[-1,-1] = 1\n",
        "  D[0,1] = 0\n",
        "  D[-1,-2] = 0\n",
        "  print(\"\")\n",
        "  print(D)\n",
        "  print(\"\")\n",
        "  terminenoto[0] = bc[0]\n",
        "  terminenoto[-1] = bc[1]\n",
        "  print(terminenoto)\n",
        "  print(\"\")\n",
        "\n",
        "\n",
        "\n",
        "\n",
        "\n",
        "omega = [0,np.pi]\n",
        "f = lambda x : np.sin(x)\n",
        "n=7\n",
        "bc = [0,0]\n",
        "finDif(omega, f, n, bc)\n",
        "#unica cosa che non mi viene in mente adesso è che se io voglio 7 iterazioni (n) mi viene fuori matrice 11x11. \n",
        "#non dovrebbe essere 7x7?\n",
        "#l'ho fatta venire 11 per 11 per come viene passato il parametro nella funzione, ma non so se come significato \"fisico\"\n",
        "#abbia senso che io metto n=7 e torni una matrice 11x11\n",
        "#la matrice finale è D\n",
        "#no non torna anche perchè il termine noto b viene di 7 elementi giustamente\n",
        "#potrei farlo tornare passandogli m nel linspace però non credo abbia senso a livello \"fisico\"\n",
        "#ricordarsi di scommentare le divisioni una volta finito il codice "
      ],
      "metadata": {
        "colab": {
          "base_uri": "https://localhost:8080/"
        },
        "id": "vDi6qLxFAsTD",
        "outputId": "c2ab44ec-0968-4edf-b3d4-2d33ade9f6a0"
      },
      "execution_count": 109,
      "outputs": [
        {
          "output_type": "stream",
          "name": "stdout",
          "text": [
            "[0.00000000e+00 5.00000000e-01 8.66025404e-01 1.00000000e+00\n",
            " 8.66025404e-01 5.00000000e-01 1.22464680e-16]\n",
            "\n",
            "[[ -1.  16. -30.  16.  -1.   0.   0.   0.   0.   0.   0.]\n",
            " [  0.  -1.  16. -30.  16.  -1.   0.   0.   0.   0.   0.]\n",
            " [  0.   0.  -1.  16. -30.  16.  -1.   0.   0.   0.   0.]\n",
            " [  0.   0.   0.  -1.  16. -30.  16.  -1.   0.   0.   0.]\n",
            " [  0.   0.   0.   0.  -1.  16. -30.  16.  -1.   0.   0.]\n",
            " [  0.   0.   0.   0.   0.  -1.  16. -30.  16.  -1.   0.]\n",
            " [  0.   0.   0.   0.   0.   0.  -1.  16. -30.  16.  -1.]]\n",
            "\n",
            "[[-2.  1.  0.  0.  0.  0.  0.  0.  0.  0.  0.]\n",
            " [ 1. -2.  1.  0.  0.  0.  0.  0.  0.  0.  0.]]\n",
            "\n",
            "[[ 0.  0.  0.  0.  0.  0.  0.  0.  1. -2.  1.]\n",
            " [ 0.  0.  0.  0.  0.  0.  0.  0.  0.  1. -2.]]\n",
            "\n",
            "[[-2.  1.  0.  0.  0.  0.  0.  0.  0.  0.  0.]\n",
            " [ 1. -2.  1.  0.  0.  0.  0.  0.  0.  0.  0.]\n",
            " [ 0.  0.  0.  0.  0.  0.  0.  0.  0.  0.  0.]\n",
            " [ 0.  0.  0.  0.  0.  0.  0.  0.  0.  0.  0.]\n",
            " [ 0.  0.  0.  0.  0.  0.  0.  0.  0.  0.  0.]\n",
            " [ 0.  0.  0.  0.  0.  0.  0.  0.  0.  0.  0.]\n",
            " [ 0.  0.  0.  0.  0.  0.  0.  0.  0.  0.  0.]\n",
            " [ 0.  0.  0.  0.  0.  0.  0.  0.  0.  0.  0.]\n",
            " [ 0.  0.  0.  0.  0.  0.  0.  0.  0.  0.  0.]\n",
            " [ 0.  0.  0.  0.  0.  0.  0.  0.  0.  0.  0.]\n",
            " [ 0.  0.  0.  0.  0.  0.  0.  0.  0.  0.  0.]]\n",
            "\n",
            "[[ 0.  0.  0.  0.  0.  0.  0.  0.  0.  0.  0.]\n",
            " [ 0.  0.  0.  0.  0.  0.  0.  0.  0.  0.  0.]\n",
            " [ 0.  0.  0.  0.  0.  0.  0.  0.  0.  0.  0.]\n",
            " [ 0.  0.  0.  0.  0.  0.  0.  0.  0.  0.  0.]\n",
            " [ 0.  0.  0.  0.  0.  0.  0.  0.  0.  0.  0.]\n",
            " [ 0.  0.  0.  0.  0.  0.  0.  0.  0.  0.  0.]\n",
            " [ 0.  0.  0.  0.  0.  0.  0.  0.  0.  0.  0.]\n",
            " [ 0.  0.  0.  0.  0.  0.  0.  0.  0.  0.  0.]\n",
            " [ 0.  0.  0.  0.  0.  0.  0.  0.  0.  0.  0.]\n",
            " [ 0.  0.  0.  0.  0.  0.  0.  0.  1. -2.  1.]\n",
            " [ 0.  0.  0.  0.  0.  0.  0.  0.  0.  1. -2.]]\n",
            "\n",
            "[[  0.   0.   0.   0.   0.   0.   0.   0.   0.   0.   0.]\n",
            " [  0.   0.   0.   0.   0.   0.   0.   0.   0.   0.   0.]\n",
            " [ -1.  16. -30.  16.  -1.   0.   0.   0.   0.   0.   0.]\n",
            " [  0.  -1.  16. -30.  16.  -1.   0.   0.   0.   0.   0.]\n",
            " [  0.   0.  -1.  16. -30.  16.  -1.   0.   0.   0.   0.]\n",
            " [  0.   0.   0.  -1.  16. -30.  16.  -1.   0.   0.   0.]\n",
            " [  0.   0.   0.   0.  -1.  16. -30.  16.  -1.   0.   0.]\n",
            " [  0.   0.   0.   0.   0.  -1.  16. -30.  16.  -1.   0.]\n",
            " [  0.   0.   0.   0.   0.   0.  -1.  16. -30.  16.  -1.]\n",
            " [  0.   0.   0.   0.   0.   0.   0.   0.   0.   0.   0.]\n",
            " [  0.   0.   0.   0.   0.   0.   0.   0.   0.   0.   0.]]\n",
            "\n",
            "[[ -2.   1.   0.   0.   0.   0.   0.   0.   0.   0.   0.]\n",
            " [  1.  -2.   1.   0.   0.   0.   0.   0.   0.   0.   0.]\n",
            " [ -1.  16. -30.  16.  -1.   0.   0.   0.   0.   0.   0.]\n",
            " [  0.  -1.  16. -30.  16.  -1.   0.   0.   0.   0.   0.]\n",
            " [  0.   0.  -1.  16. -30.  16.  -1.   0.   0.   0.   0.]\n",
            " [  0.   0.   0.  -1.  16. -30.  16.  -1.   0.   0.   0.]\n",
            " [  0.   0.   0.   0.  -1.  16. -30.  16.  -1.   0.   0.]\n",
            " [  0.   0.   0.   0.   0.  -1.  16. -30.  16.  -1.   0.]\n",
            " [  0.   0.   0.   0.   0.   0.  -1.  16. -30.  16.  -1.]\n",
            " [  0.   0.   0.   0.   0.   0.   0.   0.   1.  -2.   1.]\n",
            " [  0.   0.   0.   0.   0.   0.   0.   0.   0.   1.  -2.]]\n",
            "\n",
            "\n",
            "[[  1.   0.   0.   0.   0.   0.   0.   0.   0.   0.   0.]\n",
            " [  1.  -2.   1.   0.   0.   0.   0.   0.   0.   0.   0.]\n",
            " [ -1.  16. -30.  16.  -1.   0.   0.   0.   0.   0.   0.]\n",
            " [  0.  -1.  16. -30.  16.  -1.   0.   0.   0.   0.   0.]\n",
            " [  0.   0.  -1.  16. -30.  16.  -1.   0.   0.   0.   0.]\n",
            " [  0.   0.   0.  -1.  16. -30.  16.  -1.   0.   0.   0.]\n",
            " [  0.   0.   0.   0.  -1.  16. -30.  16.  -1.   0.   0.]\n",
            " [  0.   0.   0.   0.   0.  -1.  16. -30.  16.  -1.   0.]\n",
            " [  0.   0.   0.   0.   0.   0.  -1.  16. -30.  16.  -1.]\n",
            " [  0.   0.   0.   0.   0.   0.   0.   0.   1.  -2.   1.]\n",
            " [  0.   0.   0.   0.   0.   0.   0.   0.   0.   0.   1.]]\n",
            "\n",
            "[0.        0.5       0.8660254 1.        0.8660254 0.5       0.       ]\n",
            "\n"
          ]
        }
      ]
    }
  ]
}